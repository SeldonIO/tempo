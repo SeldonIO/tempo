{
 "cells": [
  {
   "cell_type": "markdown",
   "id": "8ef410d1",
   "metadata": {},
   "source": [
    "# Outlier Example\n",
    "\n",
    "![architecture](architecture.png)\n",
    "\n",
    "In this example we will:\n",
    "\n",
    "  * [Describe the project structure](#Project-Structure)\n",
    "  * [Train some models](#Train-Models)\n",
    "  * [Create Tempo artifacts](#Create-Tempo-Artifacts)\n",
    "  * [Run unit tests](#Unit-Tests)\n",
    "  * [Save python environment for our classifier](#Save-Classifier-Environment)\n",
    "  * [Test Locally on Docker](#Test-Locally-on-Docker)\n",
    "  * [Production on Kubernetes via Tempo](#Production-Option-1-(Deploy-to-Kubernetes-with-Tempo))\n",
    "  * [Prodiuction on Kuebrnetes via GitOps](#Production-Option-2-(Gitops))"
   ]
  },
  {
   "cell_type": "markdown",
   "id": "c86b5277",
   "metadata": {},
   "source": [
    "## Prerequisites\n",
    "\n",
    "This notebooks needs to be run in the `tempo-examples` conda environment defined below. Create from project root folder:\n",
    "\n",
    "```bash\n",
    "conda env create --name tempo-examples --file conda/tempo-examples.yaml\n",
    "```"
   ]
  },
  {
   "cell_type": "markdown",
   "id": "f12ce5e8",
   "metadata": {},
   "source": [
    "## Project Structure"
   ]
  },
  {
   "cell_type": "code",
   "execution_count": 1,
   "id": "b8ca70f9",
   "metadata": {
    "scrolled": true
   },
   "outputs": [
    {
     "name": "stdout",
     "output_type": "stream",
     "text": [
      "\u001b[01;34m.\u001b[00m\r\n",
      "├── \u001b[01;34martifacts\u001b[00m\r\n",
      "│   ├── \u001b[01;34mmodel\u001b[00m\r\n",
      "│   ├── \u001b[01;34moutlier\u001b[00m\r\n",
      "│   └── \u001b[01;34msvc\u001b[00m\r\n",
      "├── \u001b[01;34mk8s\u001b[00m\r\n",
      "│   └── \u001b[01;34mrbac\u001b[00m\r\n",
      "├── \u001b[01;34msrc\u001b[00m\r\n",
      "│   ├── constants.py\r\n",
      "│   ├── data.py\r\n",
      "│   ├── outlier.py\r\n",
      "│   ├── tempo.py\r\n",
      "│   └── utils.py\r\n",
      "└── \u001b[01;34mtests\u001b[00m\r\n",
      "    └── test_tempo.py\r\n",
      "\r\n",
      "8 directories, 6 files\r\n"
     ]
    }
   ],
   "source": [
    "!tree -P \"*.py\"  -I \"__init__.py|__pycache__\" -L 2"
   ]
  },
  {
   "cell_type": "markdown",
   "id": "b55dad4f",
   "metadata": {},
   "source": [
    "## Train Models\n",
    "\n",
    " * This section is where as a data scientist you do your work of training models and creating artfacts.\n",
    " * For this example we train sklearn and xgboost classification models for the iris dataset."
   ]
  },
  {
   "cell_type": "code",
   "execution_count": 2,
   "id": "42c20ffa",
   "metadata": {},
   "outputs": [],
   "source": [
    "import os\n",
    "import logging\n",
    "import numpy as np\n",
    "import tempo\n",
    "\n",
    "from tempo.utils import logger\n",
    "from src.constants import ARTIFACTS_FOLDER\n",
    "\n",
    "logger.setLevel(logging.ERROR)\n",
    "logging.basicConfig(level=logging.ERROR)"
   ]
  },
  {
   "cell_type": "code",
   "execution_count": 3,
   "id": "aa35a350",
   "metadata": {},
   "outputs": [
    {
     "name": "stdout",
     "output_type": "stream",
     "text": [
      "(50000, 32, 32, 3) (50000, 1) (10000, 32, 32, 3) (10000, 1)\n"
     ]
    }
   ],
   "source": [
    "from src.data import Cifar10\n",
    "data = Cifar10()"
   ]
  },
  {
   "cell_type": "markdown",
   "id": "f4a06be4",
   "metadata": {},
   "source": [
    "Download pretrained Resnet32 Tensorflow model for CIFAR10"
   ]
  },
  {
   "cell_type": "code",
   "execution_count": 4,
   "id": "1ce59700",
   "metadata": {},
   "outputs": [],
   "source": [
    "!rclone --config ./rclone-gcs.conf copy gs://seldon-models/tfserving/cifar10/resnet32 ./artifacts/model"
   ]
  },
  {
   "cell_type": "markdown",
   "id": "fac873c0",
   "metadata": {},
   "source": [
    "Download or train an outlier detector on CIFAR10 data"
   ]
  },
  {
   "cell_type": "code",
   "execution_count": 5,
   "id": "e7bafec3",
   "metadata": {},
   "outputs": [],
   "source": [
    "load_pretrained = True\n",
    "if load_pretrained:  # load pre-trained detector\n",
    "    !rclone --config ./rclone-gcs.conf copy gs://seldon-models/tempo/cifar10/outlier/cifar10 ./artifacts/outlier/cifar10\n",
    "else:\n",
    "    from src.outlier import train_outlier_detector\n",
    "    train_outlier_detector(data, ARTIFACTS_FOLDER)"
   ]
  },
  {
   "cell_type": "markdown",
   "id": "c396b609",
   "metadata": {},
   "source": [
    "## Create Tempo Artifacts\n"
   ]
  },
  {
   "cell_type": "code",
   "execution_count": 6,
   "id": "a8345fb6",
   "metadata": {},
   "outputs": [
    {
     "name": "stderr",
     "output_type": "stream",
     "text": [
      "ERROR:fbprophet:Importing plotly failed. Interactive plots will not work.\n"
     ]
    },
    {
     "name": "stdout",
     "output_type": "stream",
     "text": [
      "Loading from /home/alejandro/Programming/kubernetes/seldon/tempo/docs/examples/outlier/artifacts/outlier\n"
     ]
    }
   ],
   "source": [
    "from src.tempo import create_outlier_cls, create_model, create_svc_cls\n",
    "\n",
    "cifar10_model = create_model()\n",
    "OutlierModel = create_outlier_cls()\n",
    "outlier = OutlierModel()\n",
    "Cifar10Svc = create_svc_cls(outlier, cifar10_model)\n",
    "svc = Cifar10Svc()"
   ]
  },
  {
   "cell_type": "code",
   "execution_count": 7,
   "id": "c0b0af26",
   "metadata": {
    "code_folding": [
     0
    ]
   },
   "outputs": [],
   "source": [
    "# %load src/tempo.py\n",
    "import json\n",
    "import os\n",
    "\n",
    "import numpy as np\n",
    "from alibi_detect.base import NumpyEncoder\n",
    "from src.constants import ARTIFACTS_FOLDER, MODEL_FOLDER, OUTLIER_FOLDER\n",
    "\n",
    "from tempo.kfserving.protocol import KFServingV1Protocol, KFServingV2Protocol\n",
    "from tempo.serve.metadata import ModelFramework\n",
    "from tempo.serve.model import Model\n",
    "from tempo.serve.pipeline import PipelineModels\n",
    "from tempo.serve.utils import model, pipeline, predictmethod\n",
    "\n",
    "\n",
    "def create_outlier_cls():\n",
    "    @model(\n",
    "        name=\"outlier\",\n",
    "        platform=ModelFramework.Custom,\n",
    "        protocol=KFServingV2Protocol(),\n",
    "        uri=\"s3://tempo/outlier/cifar10/outlier\",\n",
    "        local_folder=os.path.join(ARTIFACTS_FOLDER, OUTLIER_FOLDER),\n",
    "    )\n",
    "    class OutlierModel(object):\n",
    "        def __init__(self):\n",
    "            from alibi_detect.utils.saving import load_detector\n",
    "\n",
    "            model = self.get_tempo()\n",
    "            models_folder = model.details.local_folder\n",
    "            print(f\"Loading from {models_folder}\")\n",
    "            self.od = load_detector(os.path.join(models_folder, \"cifar10\"))\n",
    "\n",
    "        @predictmethod\n",
    "        def outlier(self, payload: np.ndarray) -> dict:\n",
    "            od_preds = self.od.predict(\n",
    "                payload,\n",
    "                outlier_type=\"instance\",  # use 'feature' or 'instance' level\n",
    "                return_feature_score=True,\n",
    "                # scores used to determine outliers\n",
    "                return_instance_score=True,\n",
    "            )\n",
    "\n",
    "            return json.loads(json.dumps(od_preds, cls=NumpyEncoder))\n",
    "\n",
    "    return OutlierModel\n",
    "\n",
    "\n",
    "def create_model():\n",
    "\n",
    "    cifar10_model = Model(\n",
    "        name=\"resnet32\",\n",
    "        protocol=KFServingV1Protocol(),\n",
    "        platform=ModelFramework.Tensorflow,\n",
    "        uri=\"gs://seldon-models/tfserving/cifar10/resnet32\",\n",
    "        local_folder=os.path.join(ARTIFACTS_FOLDER, MODEL_FOLDER),\n",
    "    )\n",
    "\n",
    "    return cifar10_model\n",
    "\n",
    "\n",
    "def create_svc_cls(outlier, model):\n",
    "    @pipeline(\n",
    "        name=\"cifar10-service\",\n",
    "        protocol=KFServingV2Protocol(),\n",
    "        uri=\"s3://tempo/outlier/cifar10/svc\",\n",
    "        local_folder=os.path.join(ARTIFACTS_FOLDER, \"svc\"),\n",
    "        models=PipelineModels(outlier=outlier, cifar10=model),\n",
    "    )\n",
    "    class Cifar10Svc(object):\n",
    "        @predictmethod\n",
    "        def predict(self, payload: np.ndarray) -> np.ndarray:\n",
    "            r = self.models.outlier(payload=payload)\n",
    "            if r[\"data\"][\"is_outlier\"][0]:\n",
    "                return np.array([])\n",
    "            else:\n",
    "                return self.models.cifar10(payload)\n",
    "\n",
    "    return Cifar10Svc\n"
   ]
  },
  {
   "cell_type": "markdown",
   "id": "f7a0525e",
   "metadata": {},
   "source": [
    "## Unit Tests\n",
    "\n",
    " * Here we run our unit tests to ensure the orchestration works before running on the actual models."
   ]
  },
  {
   "cell_type": "code",
   "execution_count": 8,
   "id": "8159cbec",
   "metadata": {
    "code_folding": [
     0
    ]
   },
   "outputs": [],
   "source": [
    "# %load tests/test_tempo.py\n",
    "import numpy as np\n",
    "from src.tempo import create_model, create_outlier_cls, create_svc_cls\n",
    "\n",
    "\n",
    "def test_svc_outlier():\n",
    "    model = create_model()\n",
    "    OutlierModel = create_outlier_cls()\n",
    "    outlier = OutlierModel()\n",
    "    Cifar10Svc = create_svc_cls(outlier, model)\n",
    "    svc = Cifar10Svc()\n",
    "    svc.models.outlier = lambda payload: {\"data\": {\"is_outlier\": [1]}}\n",
    "    svc.models.cifar10 = lambda input: np.array([[0.2]])\n",
    "    res = svc(np.array([1]))\n",
    "    assert res.shape[0] == 0\n",
    "\n",
    "\n",
    "def test_svc_inlier():\n",
    "    model = create_model()\n",
    "    OutlierModel = create_outlier_cls()\n",
    "    outlier = OutlierModel()\n",
    "    Cifar10Svc = create_svc_cls(outlier, model)\n",
    "    svc = Cifar10Svc()\n",
    "    svc.models.outlier = lambda payload: {\"data\": {\"is_outlier\": [0]}}\n",
    "    svc.models.cifar10 = lambda input: np.array([[0.2]])\n",
    "    res = svc(np.array([1]))\n",
    "    assert res.shape[0] == 1\n"
   ]
  },
  {
   "cell_type": "code",
   "execution_count": 9,
   "id": "aa78ec19",
   "metadata": {},
   "outputs": [
    {
     "name": "stdout",
     "output_type": "stream",
     "text": [
      "\u001b[1mTest session starts (platform: linux, Python 3.7.10, pytest 5.3.1, pytest-sugar 0.9.4)\u001b[0m\n",
      "rootdir: /home/alejandro/Programming/kubernetes/seldon/tempo, inifile: setup.cfg\n",
      "plugins: cases-3.4.6, sugar-0.9.4, xdist-1.30.0, anyio-3.2.1, requests-mock-1.7.0, django-3.8.0, forked-1.1.3, flaky-3.6.1, asyncio-0.14.0, celery-4.4.0, cov-2.8.1\n",
      "\u001b[1mcollecting ... \u001b[0m\n",
      " \u001b[36mdocs/examples/outlier/tests/\u001b[0mtest_tempo.py\u001b[0m \u001b[32m✓\u001b[0m\u001b[32m✓\u001b[0m                    \u001b[32m100% \u001b[0m\u001b[40m\u001b[32m█\u001b[0m\u001b[40m\u001b[32m████\u001b[0m\u001b[40m\u001b[32m█\u001b[0m\u001b[40m\u001b[32m████\u001b[0m\n",
      "\u001b[33m=============================== warnings summary ===============================\u001b[0m\n",
      "/home/alejandro/miniconda3/lib/python3.7/site-packages/tensorflow/python/autograph/impl/api.py:22\n",
      "  /home/alejandro/miniconda3/lib/python3.7/site-packages/tensorflow/python/autograph/impl/api.py:22: DeprecationWarning: the imp module is deprecated in favour of importlib; see the module's documentation for alternative uses\n",
      "    import imp\n",
      "\n",
      "/home/alejandro/miniconda3/lib/python3.7/site-packages/packaging/version.py:130\n",
      "  /home/alejandro/miniconda3/lib/python3.7/site-packages/packaging/version.py:130: DeprecationWarning: Creating a LegacyVersion has been deprecated and will be removed in the next major release\n",
      "    DeprecationWarning,\n",
      "\n",
      "-- Docs: https://docs.pytest.org/en/latest/warnings.html\n",
      "\n",
      "Results (5.21s):\n",
      "\u001b[32m       2 passed\u001b[0m\n",
      "--- Logging error ---\n",
      "Traceback (most recent call last):\n",
      "  File \"/home/alejandro/miniconda3/lib/python3.7/logging/__init__.py\", line 1028, in emit\n",
      "    stream.write(msg + self.terminator)\n",
      "  File \"/home/alejandro/miniconda3/lib/python3.7/site-packages/_pytest/capture.py\", line 427, in write\n",
      "    self.buffer.write(obj)\n",
      "ValueError: I/O operation on closed file\n",
      "Call stack:\n",
      "  File \"/home/alejandro/miniconda3/lib/python3.7/site-packages/matplotlib/_pylab_helpers.py\", line 77, in destroy_all\n",
      "    gc.collect(1)\n",
      "  File \"/home/alejandro/miniconda3/lib/python3.7/site-packages/tensorflow/python/training/tracking/util.py\", line 161, in __del__\n",
      "    .format(pretty_printer.node_names[node_id]))\n",
      "  File \"/home/alejandro/miniconda3/lib/python3.7/site-packages/tensorflow/python/platform/tf_logging.py\", line 178, in warning\n",
      "    get_logger().warning(msg, *args, **kwargs)\n",
      "Message: 'Unresolved object in checkpoint: (root).encoder.fc_mean.kernel'\n",
      "Arguments: ()\n",
      "--- Logging error ---\n",
      "Traceback (most recent call last):\n",
      "  File \"/home/alejandro/miniconda3/lib/python3.7/logging/__init__.py\", line 1028, in emit\n",
      "    stream.write(msg + self.terminator)\n",
      "  File \"/home/alejandro/miniconda3/lib/python3.7/site-packages/_pytest/capture.py\", line 427, in write\n",
      "    self.buffer.write(obj)\n",
      "ValueError: I/O operation on closed file\n",
      "Call stack:\n",
      "  File \"/home/alejandro/miniconda3/lib/python3.7/site-packages/matplotlib/_pylab_helpers.py\", line 77, in destroy_all\n",
      "    gc.collect(1)\n",
      "  File \"/home/alejandro/miniconda3/lib/python3.7/site-packages/tensorflow/python/training/tracking/util.py\", line 161, in __del__\n",
      "    .format(pretty_printer.node_names[node_id]))\n",
      "  File \"/home/alejandro/miniconda3/lib/python3.7/site-packages/tensorflow/python/platform/tf_logging.py\", line 178, in warning\n",
      "    get_logger().warning(msg, *args, **kwargs)\n",
      "Message: 'Unresolved object in checkpoint: (root).encoder.fc_mean.kernel'\n",
      "Arguments: ()\n",
      "--- Logging error ---\n",
      "Traceback (most recent call last):\n",
      "  File \"/home/alejandro/miniconda3/lib/python3.7/logging/__init__.py\", line 1028, in emit\n",
      "    stream.write(msg + self.terminator)\n",
      "  File \"/home/alejandro/miniconda3/lib/python3.7/site-packages/_pytest/capture.py\", line 427, in write\n",
      "    self.buffer.write(obj)\n",
      "ValueError: I/O operation on closed file\n",
      "Call stack:\n",
      "  File \"/home/alejandro/miniconda3/lib/python3.7/site-packages/matplotlib/_pylab_helpers.py\", line 77, in destroy_all\n",
      "    gc.collect(1)\n",
      "  File \"/home/alejandro/miniconda3/lib/python3.7/site-packages/tensorflow/python/training/tracking/util.py\", line 161, in __del__\n",
      "    .format(pretty_printer.node_names[node_id]))\n",
      "  File \"/home/alejandro/miniconda3/lib/python3.7/site-packages/tensorflow/python/platform/tf_logging.py\", line 178, in warning\n",
      "    get_logger().warning(msg, *args, **kwargs)\n",
      "Message: 'Unresolved object in checkpoint: (root).encoder.fc_mean.bias'\n",
      "Arguments: ()\n",
      "--- Logging error ---\n",
      "Traceback (most recent call last):\n",
      "  File \"/home/alejandro/miniconda3/lib/python3.7/logging/__init__.py\", line 1028, in emit\n",
      "    stream.write(msg + self.terminator)\n",
      "  File \"/home/alejandro/miniconda3/lib/python3.7/site-packages/_pytest/capture.py\", line 427, in write\n",
      "    self.buffer.write(obj)\n",
      "ValueError: I/O operation on closed file\n",
      "Call stack:\n",
      "  File \"/home/alejandro/miniconda3/lib/python3.7/site-packages/matplotlib/_pylab_helpers.py\", line 77, in destroy_all\n",
      "    gc.collect(1)\n",
      "  File \"/home/alejandro/miniconda3/lib/python3.7/site-packages/tensorflow/python/training/tracking/util.py\", line 161, in __del__\n",
      "    .format(pretty_printer.node_names[node_id]))\n",
      "  File \"/home/alejandro/miniconda3/lib/python3.7/site-packages/tensorflow/python/platform/tf_logging.py\", line 178, in warning\n",
      "    get_logger().warning(msg, *args, **kwargs)\n",
      "Message: 'Unresolved object in checkpoint: (root).encoder.fc_mean.bias'\n",
      "Arguments: ()\n",
      "--- Logging error ---\n",
      "Traceback (most recent call last):\n",
      "  File \"/home/alejandro/miniconda3/lib/python3.7/logging/__init__.py\", line 1028, in emit\n",
      "    stream.write(msg + self.terminator)\n",
      "  File \"/home/alejandro/miniconda3/lib/python3.7/site-packages/_pytest/capture.py\", line 427, in write\n",
      "    self.buffer.write(obj)\n",
      "ValueError: I/O operation on closed file\n",
      "Call stack:\n",
      "  File \"/home/alejandro/miniconda3/lib/python3.7/site-packages/matplotlib/_pylab_helpers.py\", line 77, in destroy_all\n",
      "    gc.collect(1)\n",
      "  File \"/home/alejandro/miniconda3/lib/python3.7/site-packages/tensorflow/python/training/tracking/util.py\", line 161, in __del__\n",
      "    .format(pretty_printer.node_names[node_id]))\n",
      "  File \"/home/alejandro/miniconda3/lib/python3.7/site-packages/tensorflow/python/platform/tf_logging.py\", line 178, in warning\n",
      "    get_logger().warning(msg, *args, **kwargs)\n",
      "Message: 'Unresolved object in checkpoint: (root).encoder.fc_log_var.kernel'\n",
      "Arguments: ()\n",
      "--- Logging error ---\n",
      "Traceback (most recent call last):\n",
      "  File \"/home/alejandro/miniconda3/lib/python3.7/logging/__init__.py\", line 1028, in emit\n",
      "    stream.write(msg + self.terminator)\n",
      "  File \"/home/alejandro/miniconda3/lib/python3.7/site-packages/_pytest/capture.py\", line 427, in write\n",
      "    self.buffer.write(obj)\n",
      "ValueError: I/O operation on closed file\n",
      "Call stack:\n",
      "  File \"/home/alejandro/miniconda3/lib/python3.7/site-packages/matplotlib/_pylab_helpers.py\", line 77, in destroy_all\n",
      "    gc.collect(1)\n",
      "  File \"/home/alejandro/miniconda3/lib/python3.7/site-packages/tensorflow/python/training/tracking/util.py\", line 161, in __del__\n",
      "    .format(pretty_printer.node_names[node_id]))\n",
      "  File \"/home/alejandro/miniconda3/lib/python3.7/site-packages/tensorflow/python/platform/tf_logging.py\", line 178, in warning\n",
      "    get_logger().warning(msg, *args, **kwargs)\n",
      "Message: 'Unresolved object in checkpoint: (root).encoder.fc_log_var.kernel'\n",
      "Arguments: ()\n",
      "--- Logging error ---\n",
      "Traceback (most recent call last):\n",
      "  File \"/home/alejandro/miniconda3/lib/python3.7/logging/__init__.py\", line 1028, in emit\n",
      "    stream.write(msg + self.terminator)\n",
      "  File \"/home/alejandro/miniconda3/lib/python3.7/site-packages/_pytest/capture.py\", line 427, in write\n",
      "    self.buffer.write(obj)\n",
      "ValueError: I/O operation on closed file\n",
      "Call stack:\n",
      "  File \"/home/alejandro/miniconda3/lib/python3.7/site-packages/matplotlib/_pylab_helpers.py\", line 77, in destroy_all\n",
      "    gc.collect(1)\n",
      "  File \"/home/alejandro/miniconda3/lib/python3.7/site-packages/tensorflow/python/training/tracking/util.py\", line 161, in __del__\n",
      "    .format(pretty_printer.node_names[node_id]))\n",
      "  File \"/home/alejandro/miniconda3/lib/python3.7/site-packages/tensorflow/python/platform/tf_logging.py\", line 178, in warning\n",
      "    get_logger().warning(msg, *args, **kwargs)\n",
      "Message: 'Unresolved object in checkpoint: (root).encoder.fc_log_var.bias'\n",
      "Arguments: ()\n",
      "--- Logging error ---\n",
      "Traceback (most recent call last):\n",
      "  File \"/home/alejandro/miniconda3/lib/python3.7/logging/__init__.py\", line 1028, in emit\n",
      "    stream.write(msg + self.terminator)\n",
      "  File \"/home/alejandro/miniconda3/lib/python3.7/site-packages/_pytest/capture.py\", line 427, in write\n",
      "    self.buffer.write(obj)\n",
      "ValueError: I/O operation on closed file\n",
      "Call stack:\n",
      "  File \"/home/alejandro/miniconda3/lib/python3.7/site-packages/matplotlib/_pylab_helpers.py\", line 77, in destroy_all\n",
      "    gc.collect(1)\n",
      "  File \"/home/alejandro/miniconda3/lib/python3.7/site-packages/tensorflow/python/training/tracking/util.py\", line 161, in __del__\n",
      "    .format(pretty_printer.node_names[node_id]))\n",
      "  File \"/home/alejandro/miniconda3/lib/python3.7/site-packages/tensorflow/python/platform/tf_logging.py\", line 178, in warning\n",
      "    get_logger().warning(msg, *args, **kwargs)\n",
      "Message: 'Unresolved object in checkpoint: (root).encoder.fc_log_var.bias'\n",
      "Arguments: ()\n",
      "--- Logging error ---\n",
      "Traceback (most recent call last):\n",
      "  File \"/home/alejandro/miniconda3/lib/python3.7/logging/__init__.py\", line 1028, in emit\n",
      "    stream.write(msg + self.terminator)\n",
      "  File \"/home/alejandro/miniconda3/lib/python3.7/site-packages/_pytest/capture.py\", line 427, in write\n",
      "    self.buffer.write(obj)\n",
      "ValueError: I/O operation on closed file\n",
      "Call stack:\n",
      "  File \"/home/alejandro/miniconda3/lib/python3.7/site-packages/matplotlib/_pylab_helpers.py\", line 77, in destroy_all\n",
      "    gc.collect(1)\n",
      "  File \"/home/alejandro/miniconda3/lib/python3.7/site-packages/tensorflow/python/training/tracking/util.py\", line 169, in __del__\n",
      "    \"A checkpoint was restored (e.g. tf.train.Checkpoint.restore or \"\n",
      "  File \"/home/alejandro/miniconda3/lib/python3.7/site-packages/tensorflow/python/platform/tf_logging.py\", line 178, in warning\n",
      "    get_logger().warning(msg, *args, **kwargs)\n",
      "Message: 'A checkpoint was restored (e.g. tf.train.Checkpoint.restore or tf.keras.Model.load_weights) but not all checkpointed values were used. See above for specific issues. Use expect_partial() on the load status object, e.g. tf.train.Checkpoint.restore(...).expect_partial(), to silence these warnings, or use assert_consumed() to make the check explicit. See https://www.tensorflow.org/guide/checkpoint#loading_mechanics for details.'\n",
      "Arguments: ()\n",
      "--- Logging error ---\n",
      "Traceback (most recent call last):\n",
      "  File \"/home/alejandro/miniconda3/lib/python3.7/logging/__init__.py\", line 1028, in emit\n",
      "    stream.write(msg + self.terminator)\n",
      "  File \"/home/alejandro/miniconda3/lib/python3.7/site-packages/_pytest/capture.py\", line 427, in write\n",
      "    self.buffer.write(obj)\n",
      "ValueError: I/O operation on closed file\n",
      "Call stack:\n",
      "  File \"/home/alejandro/miniconda3/lib/python3.7/site-packages/matplotlib/_pylab_helpers.py\", line 77, in destroy_all\n",
      "    gc.collect(1)\n",
      "  File \"/home/alejandro/miniconda3/lib/python3.7/site-packages/tensorflow/python/training/tracking/util.py\", line 169, in __del__\n",
      "    \"A checkpoint was restored (e.g. tf.train.Checkpoint.restore or \"\n",
      "  File \"/home/alejandro/miniconda3/lib/python3.7/site-packages/tensorflow/python/platform/tf_logging.py\", line 178, in warning\n",
      "    get_logger().warning(msg, *args, **kwargs)\n",
      "Message: 'A checkpoint was restored (e.g. tf.train.Checkpoint.restore or tf.keras.Model.load_weights) but not all checkpointed values were used. See above for specific issues. Use expect_partial() on the load status object, e.g. tf.train.Checkpoint.restore(...).expect_partial(), to silence these warnings, or use assert_consumed() to make the check explicit. See https://www.tensorflow.org/guide/checkpoint#loading_mechanics for details.'\n",
      "Arguments: ()\n"
     ]
    },
    {
     "name": "stdout",
     "output_type": "stream",
     "text": [
      "--- Logging error ---\r\n",
      "Traceback (most recent call last):\r\n",
      "  File \"/home/alejandro/miniconda3/lib/python3.7/logging/__init__.py\", line 1028, in emit\r\n",
      "    stream.write(msg + self.terminator)\r\n",
      "  File \"/home/alejandro/miniconda3/lib/python3.7/site-packages/_pytest/capture.py\", line 427, in write\r\n",
      "    self.buffer.write(obj)\r\n",
      "ValueError: I/O operation on closed file\r\n",
      "Call stack:\r\n",
      "  File \"/home/alejandro/miniconda3/lib/python3.7/site-packages/tensorflow/python/training/tracking/util.py\", line 161, in __del__\r\n",
      "    .format(pretty_printer.node_names[node_id]))\r\n",
      "  File \"/home/alejandro/miniconda3/lib/python3.7/site-packages/tensorflow/python/platform/tf_logging.py\", line 178, in warning\r\n",
      "    get_logger().warning(msg, *args, **kwargs)\r\n",
      "Message: 'Unresolved object in checkpoint: (root).encoder.fc_mean.kernel'\r\n",
      "Arguments: ()\r\n",
      "--- Logging error ---\r\n",
      "Traceback (most recent call last):\r\n",
      "  File \"/home/alejandro/miniconda3/lib/python3.7/logging/__init__.py\", line 1028, in emit\r\n",
      "    stream.write(msg + self.terminator)\r\n",
      "  File \"/home/alejandro/miniconda3/lib/python3.7/site-packages/_pytest/capture.py\", line 427, in write\r\n",
      "    self.buffer.write(obj)\r\n",
      "ValueError: I/O operation on closed file\r\n",
      "Call stack:\r\n",
      "  File \"/home/alejandro/miniconda3/lib/python3.7/site-packages/tensorflow/python/training/tracking/util.py\", line 161, in __del__\r\n",
      "    .format(pretty_printer.node_names[node_id]))\r\n",
      "  File \"/home/alejandro/miniconda3/lib/python3.7/site-packages/tensorflow/python/platform/tf_logging.py\", line 178, in warning\r\n",
      "    get_logger().warning(msg, *args, **kwargs)\r\n",
      "Message: 'Unresolved object in checkpoint: (root).encoder.fc_mean.kernel'\r\n",
      "Arguments: ()\r\n",
      "--- Logging error ---\r\n",
      "Traceback (most recent call last):\r\n",
      "  File \"/home/alejandro/miniconda3/lib/python3.7/logging/__init__.py\", line 1028, in emit\r\n",
      "    stream.write(msg + self.terminator)\r\n",
      "  File \"/home/alejandro/miniconda3/lib/python3.7/site-packages/_pytest/capture.py\", line 427, in write\r\n",
      "    self.buffer.write(obj)\r\n",
      "ValueError: I/O operation on closed file\r\n",
      "Call stack:\r\n",
      "  File \"/home/alejandro/miniconda3/lib/python3.7/site-packages/tensorflow/python/training/tracking/util.py\", line 161, in __del__\r\n",
      "    .format(pretty_printer.node_names[node_id]))\r\n",
      "  File \"/home/alejandro/miniconda3/lib/python3.7/site-packages/tensorflow/python/platform/tf_logging.py\", line 178, in warning\r\n",
      "    get_logger().warning(msg, *args, **kwargs)\r\n",
      "Message: 'Unresolved object in checkpoint: (root).encoder.fc_mean.bias'\r\n",
      "Arguments: ()\r\n",
      "--- Logging error ---\r\n",
      "Traceback (most recent call last):\r\n",
      "  File \"/home/alejandro/miniconda3/lib/python3.7/logging/__init__.py\", line 1028, in emit\r\n",
      "    stream.write(msg + self.terminator)\r\n",
      "  File \"/home/alejandro/miniconda3/lib/python3.7/site-packages/_pytest/capture.py\", line 427, in write\r\n",
      "    self.buffer.write(obj)\r\n",
      "ValueError: I/O operation on closed file\r\n",
      "Call stack:\r\n",
      "  File \"/home/alejandro/miniconda3/lib/python3.7/site-packages/tensorflow/python/training/tracking/util.py\", line 161, in __del__\r\n",
      "    .format(pretty_printer.node_names[node_id]))\r\n",
      "  File \"/home/alejandro/miniconda3/lib/python3.7/site-packages/tensorflow/python/platform/tf_logging.py\", line 178, in warning\r\n",
      "    get_logger().warning(msg, *args, **kwargs)\r\n",
      "Message: 'Unresolved object in checkpoint: (root).encoder.fc_mean.bias'\r\n",
      "Arguments: ()\r\n",
      "--- Logging error ---\r\n",
      "Traceback (most recent call last):\r\n",
      "  File \"/home/alejandro/miniconda3/lib/python3.7/logging/__init__.py\", line 1028, in emit\r\n",
      "    stream.write(msg + self.terminator)\r\n",
      "  File \"/home/alejandro/miniconda3/lib/python3.7/site-packages/_pytest/capture.py\", line 427, in write\r\n",
      "    self.buffer.write(obj)\r\n",
      "ValueError: I/O operation on closed file\r\n",
      "Call stack:\r\n",
      "  File \"/home/alejandro/miniconda3/lib/python3.7/site-packages/tensorflow/python/training/tracking/util.py\", line 161, in __del__\r\n",
      "    .format(pretty_printer.node_names[node_id]))\r\n",
      "  File \"/home/alejandro/miniconda3/lib/python3.7/site-packages/tensorflow/python/platform/tf_logging.py\", line 178, in warning\r\n",
      "    get_logger().warning(msg, *args, **kwargs)\r\n",
      "Message: 'Unresolved object in checkpoint: (root).encoder.fc_log_var.kernel'\r\n",
      "Arguments: ()\r\n",
      "--- Logging error ---\r\n",
      "Traceback (most recent call last):\r\n",
      "  File \"/home/alejandro/miniconda3/lib/python3.7/logging/__init__.py\", line 1028, in emit\r\n",
      "    stream.write(msg + self.terminator)\r\n",
      "  File \"/home/alejandro/miniconda3/lib/python3.7/site-packages/_pytest/capture.py\", line 427, in write\r\n",
      "    self.buffer.write(obj)\r\n",
      "ValueError: I/O operation on closed file\r\n",
      "Call stack:\r\n",
      "  File \"/home/alejandro/miniconda3/lib/python3.7/site-packages/tensorflow/python/training/tracking/util.py\", line 161, in __del__\r\n",
      "    .format(pretty_printer.node_names[node_id]))\r\n",
      "  File \"/home/alejandro/miniconda3/lib/python3.7/site-packages/tensorflow/python/platform/tf_logging.py\", line 178, in warning\r\n",
      "    get_logger().warning(msg, *args, **kwargs)\r\n",
      "Message: 'Unresolved object in checkpoint: (root).encoder.fc_log_var.kernel'\r\n",
      "Arguments: ()\r\n",
      "--- Logging error ---\r\n",
      "Traceback (most recent call last):\r\n",
      "  File \"/home/alejandro/miniconda3/lib/python3.7/logging/__init__.py\", line 1028, in emit\r\n",
      "    stream.write(msg + self.terminator)\r\n",
      "  File \"/home/alejandro/miniconda3/lib/python3.7/site-packages/_pytest/capture.py\", line 427, in write\r\n",
      "    self.buffer.write(obj)\r\n",
      "ValueError: I/O operation on closed file\r\n",
      "Call stack:\r\n",
      "  File \"/home/alejandro/miniconda3/lib/python3.7/site-packages/tensorflow/python/training/tracking/util.py\", line 161, in __del__\r\n",
      "    .format(pretty_printer.node_names[node_id]))\r\n",
      "  File \"/home/alejandro/miniconda3/lib/python3.7/site-packages/tensorflow/python/platform/tf_logging.py\", line 178, in warning\r\n",
      "    get_logger().warning(msg, *args, **kwargs)\r\n",
      "Message: 'Unresolved object in checkpoint: (root).encoder.fc_log_var.bias'\r\n",
      "Arguments: ()\r\n",
      "--- Logging error ---\r\n",
      "Traceback (most recent call last):\r\n",
      "  File \"/home/alejandro/miniconda3/lib/python3.7/logging/__init__.py\", line 1028, in emit\r\n",
      "    stream.write(msg + self.terminator)\r\n",
      "  File \"/home/alejandro/miniconda3/lib/python3.7/site-packages/_pytest/capture.py\", line 427, in write\r\n",
      "    self.buffer.write(obj)\r\n",
      "ValueError: I/O operation on closed file\r\n",
      "Call stack:\r\n",
      "  File \"/home/alejandro/miniconda3/lib/python3.7/site-packages/tensorflow/python/training/tracking/util.py\", line 161, in __del__\r\n",
      "    .format(pretty_printer.node_names[node_id]))\r\n",
      "  File \"/home/alejandro/miniconda3/lib/python3.7/site-packages/tensorflow/python/platform/tf_logging.py\", line 178, in warning\r\n",
      "    get_logger().warning(msg, *args, **kwargs)\r\n",
      "Message: 'Unresolved object in checkpoint: (root).encoder.fc_log_var.bias'\r\n",
      "Arguments: ()\r\n",
      "--- Logging error ---\r\n",
      "Traceback (most recent call last):\r\n",
      "  File \"/home/alejandro/miniconda3/lib/python3.7/logging/__init__.py\", line 1028, in emit\r\n",
      "    stream.write(msg + self.terminator)\r\n",
      "  File \"/home/alejandro/miniconda3/lib/python3.7/site-packages/_pytest/capture.py\", line 427, in write\r\n",
      "    self.buffer.write(obj)\r\n",
      "ValueError: I/O operation on closed file\r\n",
      "Call stack:\r\n",
      "  File \"/home/alejandro/miniconda3/lib/python3.7/site-packages/tensorflow/python/training/tracking/util.py\", line 169, in __del__\r\n",
      "    \"A checkpoint was restored (e.g. tf.train.Checkpoint.restore or \"\r\n",
      "  File \"/home/alejandro/miniconda3/lib/python3.7/site-packages/tensorflow/python/platform/tf_logging.py\", line 178, in warning\r\n",
      "    get_logger().warning(msg, *args, **kwargs)\r\n",
      "Message: 'A checkpoint was restored (e.g. tf.train.Checkpoint.restore or tf.keras.Model.load_weights) but not all checkpointed values were used. See above for specific issues. Use expect_partial() on the load status object, e.g. tf.train.Checkpoint.restore(...).expect_partial(), to silence these warnings, or use assert_consumed() to make the check explicit. See https://www.tensorflow.org/guide/checkpoint#loading_mechanics for details.'\r\n",
      "Arguments: ()\r\n",
      "--- Logging error ---\r\n",
      "Traceback (most recent call last):\r\n",
      "  File \"/home/alejandro/miniconda3/lib/python3.7/logging/__init__.py\", line 1028, in emit\r\n",
      "    stream.write(msg + self.terminator)\r\n",
      "  File \"/home/alejandro/miniconda3/lib/python3.7/site-packages/_pytest/capture.py\", line 427, in write\r\n",
      "    self.buffer.write(obj)\r\n",
      "ValueError: I/O operation on closed file\r\n",
      "Call stack:\r\n",
      "  File \"/home/alejandro/miniconda3/lib/python3.7/site-packages/tensorflow/python/training/tracking/util.py\", line 169, in __del__\r\n",
      "    \"A checkpoint was restored (e.g. tf.train.Checkpoint.restore or \"\r\n",
      "  File \"/home/alejandro/miniconda3/lib/python3.7/site-packages/tensorflow/python/platform/tf_logging.py\", line 178, in warning\r\n",
      "    get_logger().warning(msg, *args, **kwargs)\r\n",
      "Message: 'A checkpoint was restored (e.g. tf.train.Checkpoint.restore or tf.keras.Model.load_weights) but not all checkpointed values were used. See above for specific issues. Use expect_partial() on the load status object, e.g. tf.train.Checkpoint.restore(...).expect_partial(), to silence these warnings, or use assert_consumed() to make the check explicit. See https://www.tensorflow.org/guide/checkpoint#loading_mechanics for details.'\r\n",
      "Arguments: ()\r\n"
     ]
    }
   ],
   "source": [
    "!python -m pytest tests/"
   ]
  },
  {
   "cell_type": "markdown",
   "id": "18dc6a4b",
   "metadata": {},
   "source": [
    "## Save Outlier and Svc Environments\n"
   ]
  },
  {
   "cell_type": "code",
   "execution_count": 29,
   "id": "3e1f9017",
   "metadata": {},
   "outputs": [
    {
     "name": "stdout",
     "output_type": "stream",
     "text": [
      "Overwriting artifacts/outlier/conda.yaml\n"
     ]
    }
   ],
   "source": [
    "%%writefile artifacts/outlier/conda.yaml\n",
    "name: tempo\n",
    "channels:\n",
    "  - defaults\n",
    "dependencies:\n",
    "  - python=3.7.9\n",
    "  - pip:\n",
    "    - alibi-detect==0.6.2\n",
    "    - dill==0.3.2\n",
    "    - opencv-python-headless\n",
    "    - mlops-tempo\n",
    "    - mlserver==0.3.2"
   ]
  },
  {
   "cell_type": "code",
   "execution_count": 30,
   "id": "9a515728",
   "metadata": {},
   "outputs": [
    {
     "name": "stdout",
     "output_type": "stream",
     "text": [
      "Overwriting artifacts/svc/conda.yaml\n"
     ]
    }
   ],
   "source": [
    "%%writefile artifacts/svc/conda.yaml\n",
    "name: tempo\n",
    "channels:\n",
    "  - defaults\n",
    "dependencies:\n",
    "  - python=3.7.9\n",
    "  - pip:\n",
    "    - mlops-tempo\n",
    "    - mlserver==0.3.2"
   ]
  },
  {
   "cell_type": "code",
   "execution_count": 12,
   "id": "61e4d540",
   "metadata": {},
   "outputs": [
    {
     "name": "stdout",
     "output_type": "stream",
     "text": [
      "Collecting packages...\n",
      "Packing environment at '/home/alejandro/miniconda3/envs/tempo-1142b4d9-c66f-47db-bd1a-1eccad0afc0b' to '/home/alejandro/Programming/kubernetes/seldon/tempo/docs/examples/outlier/artifacts/outlier/environment.tar.gz'\n",
      "[########################################] | 100% Completed | 56.8s\n"
     ]
    }
   ],
   "source": [
    "tempo.save(OutlierModel)"
   ]
  },
  {
   "cell_type": "code",
   "execution_count": 13,
   "id": "3c23ab3b",
   "metadata": {},
   "outputs": [
    {
     "name": "stdout",
     "output_type": "stream",
     "text": [
      "Collecting packages...\n",
      "Packing environment at '/home/alejandro/miniconda3/envs/tempo-e7f7a0d2-eefe-45cc-8dc9-2be0f74d83a1' to '/home/alejandro/Programming/kubernetes/seldon/tempo/docs/examples/outlier/artifacts/svc/environment.tar.gz'\n",
      "[########################################] | 100% Completed | 10.6s\n"
     ]
    }
   ],
   "source": [
    "tempo.save(Cifar10Svc)"
   ]
  },
  {
   "cell_type": "markdown",
   "id": "ae7a21d5",
   "metadata": {},
   "source": [
    "## Test Locally on Docker\n",
    "\n",
    "Here we test our models using production images but running locally on Docker. This allows us to ensure the final production deployed model will behave as expected when deployed."
   ]
  },
  {
   "cell_type": "code",
   "execution_count": 15,
   "id": "747d2d82",
   "metadata": {},
   "outputs": [],
   "source": [
    "from tempo import deploy_local\n",
    "remote_model = deploy_local(svc)"
   ]
  },
  {
   "cell_type": "code",
   "execution_count": 16,
   "id": "b22014e7",
   "metadata": {},
   "outputs": [
    {
     "data": {
      "image/png": "[encoded data removed]",
      "text/plain": [
       "<Figure size 432x288 with 1 Axes>"
      ]
     },
     "metadata": {
      "needs_background": "light"
     },
     "output_type": "display_data"
    },
    {
     "name": "stdout",
     "output_type": "stream",
     "text": [
      "b'{\"model_name\":\"cifar10-service\",\"model_version\":\"NOTIMPLEMENTED\",\"id\":\"7bfbc51d-c042-4517-9d62-4a757eeb0a5f\",\"parameters\":null,\"outputs\":[{\"name\":\"output0\",\"shape\":[1,10],\"datatype\":\"FP64\",\"parameters\":null,\"data\":[3.92254496e-09,1.2045546e-11,2.66010169e-09,0.999992609,2.52212834e-10,5.40860242e-07,6.75951833e-06,4.75118165e-12,6.90873403e-09,1.07275378e-11]}]}'\n"
     ]
    },
    {
     "data": {
      "text/plain": [
       "array([[3.92254496e-09, 1.20455460e-11, 2.66010169e-09, 9.99992609e-01,\n",
       "        2.52212834e-10, 5.40860242e-07, 6.75951833e-06, 4.75118165e-12,\n",
       "        6.90873403e-09, 1.07275378e-11]])"
      ]
     },
     "execution_count": 16,
     "metadata": {},
     "output_type": "execute_result"
    }
   ],
   "source": [
    "from src.utils import show_image\n",
    "show_image(data.X_test[0:1])\n",
    "remote_model.predict(payload=data.X_test[0:1])"
   ]
  },
  {
   "cell_type": "code",
   "execution_count": 17,
   "id": "03ef662f",
   "metadata": {},
   "outputs": [
    {
     "data": {
      "image/png": "[encoded data removed]",
      "text/plain": [
       "<Figure size 432x288 with 1 Axes>"
      ]
     },
     "metadata": {
      "needs_background": "light"
     },
     "output_type": "display_data"
    },
    {
     "name": "stdout",
     "output_type": "stream",
     "text": [
      "b'{\"model_name\":\"cifar10-service\",\"model_version\":\"NOTIMPLEMENTED\",\"id\":\"6e0124b8-bbb2-4a82-b167-6008ad17c21a\",\"parameters\":null,\"outputs\":[{\"name\":\"output0\",\"shape\":[0],\"datatype\":\"FP64\",\"parameters\":null,\"data\":[]}]}'\n"
     ]
    },
    {
     "data": {
      "text/plain": [
       "array([], dtype=float64)"
      ]
     },
     "execution_count": 17,
     "metadata": {},
     "output_type": "execute_result"
    }
   ],
   "source": [
    "from src.utils import create_cifar10_outlier\n",
    "\n",
    "outlier_img = create_cifar10_outlier(data)\n",
    "show_image(outlier_img)\n",
    "remote_model.predict(payload=outlier_img)"
   ]
  },
  {
   "cell_type": "code",
   "execution_count": 18,
   "id": "6c6ea7c7",
   "metadata": {},
   "outputs": [],
   "source": [
    "remote_model.undeploy()"
   ]
  },
  {
   "cell_type": "markdown",
   "id": "7a91f4d7",
   "metadata": {},
   "source": [
    "## Production Option 1 (Deploy to Kubernetes with Tempo)\n",
    "\n",
    " * Here we illustrate how to run the final models in \"production\" on Kubernetes by using Tempo to deploy\n",
    " \n",
    "### Prerequisites\n",
    " \n",
    "Create a Kind Kubernetes cluster with Minio and Seldon Core installed using Ansible as described [here](https://tempo.readthedocs.io/en/latest/overview/quickstart.html#kubernetes-cluster-with-seldon-core)."
   ]
  },
  {
   "cell_type": "code",
   "execution_count": 19,
   "id": "d8d2fb32",
   "metadata": {},
   "outputs": [
    {
     "name": "stdout",
     "output_type": "stream",
     "text": [
      "secret/minio-secret configured\r\n",
      "serviceaccount/tempo-pipeline unchanged\r\n",
      "role.rbac.authorization.k8s.io/tempo-pipeline unchanged\r\n",
      "rolebinding.rbac.authorization.k8s.io/tempo-pipeline-rolebinding unchanged\r\n"
     ]
    }
   ],
   "source": [
    "!kubectl apply -f k8s/rbac -n production"
   ]
  },
  {
   "cell_type": "code",
   "execution_count": 20,
   "id": "9fa80565",
   "metadata": {},
   "outputs": [],
   "source": [
    "from tempo.examples.minio import create_minio_rclone\n",
    "import os\n",
    "\n",
    "create_minio_rclone(os.getcwd()+\"/rclone-minio.conf\")"
   ]
  },
  {
   "cell_type": "code",
   "execution_count": 21,
   "id": "39ff404c",
   "metadata": {},
   "outputs": [],
   "source": [
    "tempo.upload(cifar10_model)\n",
    "tempo.upload(outlier)\n",
    "tempo.upload(svc)"
   ]
  },
  {
   "cell_type": "code",
   "execution_count": 24,
   "id": "c56b5ca7",
   "metadata": {},
   "outputs": [],
   "source": [
    "from tempo.serve.metadata import SeldonCoreOptions\n",
    "runtime_options = SeldonCoreOptions(**{\n",
    "        \"remote_options\": {\n",
    "            \"namespace\": \"production\",\n",
    "            \"authSecretName\": \"minio-secret\"\n",
    "        }\n",
    "    })"
   ]
  },
  {
   "cell_type": "code",
   "execution_count": 25,
   "id": "73763aee",
   "metadata": {},
   "outputs": [],
   "source": [
    "from tempo import deploy_remote\n",
    "remote_model = deploy_remote(svc, options=runtime_options)"
   ]
  },
  {
   "cell_type": "code",
   "execution_count": 26,
   "id": "8feb662b",
   "metadata": {},
   "outputs": [
    {
     "data": {
      "image/png": "[encoded data removed]",
      "text/plain": [
       "<Figure size 432x288 with 1 Axes>"
      ]
     },
     "metadata": {
      "needs_background": "light"
     },
     "output_type": "display_data"
    },
    {
     "name": "stdout",
     "output_type": "stream",
     "text": [
      "b'{\"model_name\":\"cifar10-service\",\"model_version\":\"NOTIMPLEMENTED\",\"id\":\"0a638833-4691-4368-9934-0a8b2db0d69c\",\"parameters\":null,\"outputs\":[{\"name\":\"output0\",\"shape\":[1,10],\"datatype\":\"FP64\",\"parameters\":null,\"data\":[3.92254496e-09,1.2045546e-11,2.66010169e-09,0.999992609,2.52212834e-10,5.40860242e-07,6.75951833e-06,4.75118165e-12,6.90873403e-09,1.07275378e-11]}]}'\n"
     ]
    },
    {
     "data": {
      "text/plain": [
       "array([[3.92254496e-09, 1.20455460e-11, 2.66010169e-09, 9.99992609e-01,\n",
       "        2.52212834e-10, 5.40860242e-07, 6.75951833e-06, 4.75118165e-12,\n",
       "        6.90873403e-09, 1.07275378e-11]])"
      ]
     },
     "execution_count": 26,
     "metadata": {},
     "output_type": "execute_result"
    }
   ],
   "source": [
    "from src.utils import show_image\n",
    "\n",
    "show_image(data.X_test[0:1])\n",
    "remote_model.predict(payload=data.X_test[0:1])"
   ]
  },
  {
   "cell_type": "code",
   "execution_count": 27,
   "id": "97b59a44",
   "metadata": {},
   "outputs": [
    {
     "data": {
      "image/png": "[encoded data removed]",
      "text/plain": [
       "<Figure size 432x288 with 1 Axes>"
      ]
     },
     "metadata": {
      "needs_background": "light"
     },
     "output_type": "display_data"
    },
    {
     "name": "stdout",
     "output_type": "stream",
     "text": [
      "b'{\"model_name\":\"cifar10-service\",\"model_version\":\"NOTIMPLEMENTED\",\"id\":\"4b7a7df0-6f37-4052-b5be-c2cf277bb1ee\",\"parameters\":null,\"outputs\":[{\"name\":\"output0\",\"shape\":[0],\"datatype\":\"FP64\",\"parameters\":null,\"data\":[]}]}'\n"
     ]
    },
    {
     "data": {
      "text/plain": [
       "array([], dtype=float64)"
      ]
     },
     "execution_count": 27,
     "metadata": {},
     "output_type": "execute_result"
    }
   ],
   "source": [
    "from src.utils import create_cifar10_outlier\n",
    "\n",
    "outlier_img = create_cifar10_outlier(data)\n",
    "show_image(outlier_img)\n",
    "remote_model.predict(payload=outlier_img)"
   ]
  },
  {
   "cell_type": "code",
   "execution_count": 28,
   "id": "c789f08b",
   "metadata": {},
   "outputs": [],
   "source": [
    "remote_model.undeploy()"
   ]
  },
  {
   "cell_type": "markdown",
   "id": "efd7205b",
   "metadata": {},
   "source": [
    "## Production Option 2 (Gitops)\n",
    "\n",
    " * We create yaml to provide to our DevOps team to deploy to a production cluster\n",
    " * We add Kustomize patches to modify the base Kubernetes yaml created by Tempo"
   ]
  },
  {
   "cell_type": "code",
   "execution_count": null,
   "id": "69ee5f4a",
   "metadata": {},
   "outputs": [],
   "source": [
    "from tempo.seldon import SeldonKubernetesRuntime\n",
    "\n",
    "k8s_runtime = SeldonKubernetesRuntime(runtime_options)\n",
    "yaml_str = k8s_runtime.manifest(svc)\n",
    "\n",
    "with open(os.getcwd()+\"/k8s/tempo.yaml\",\"w\") as f:\n",
    "    f.write(yaml_str)"
   ]
  },
  {
   "cell_type": "code",
   "execution_count": null,
   "id": "748bd754",
   "metadata": {},
   "outputs": [],
   "source": [
    "!kustomize build k8s"
   ]
  },
  {
   "cell_type": "code",
   "execution_count": null,
   "id": "59cc649c",
   "metadata": {},
   "outputs": [],
   "source": []
  }
 ],
 "metadata": {
  "kernelspec": {
   "display_name": "Python 3",
   "language": "python",
   "name": "python3"
  },
  "language_info": {
   "codemirror_mode": {
    "name": "ipython",
    "version": 3
   },
   "file_extension": ".py",
   "mimetype": "text/x-python",
   "name": "python",
   "nbconvert_exporter": "python",
   "pygments_lexer": "ipython3",
   "version": "3.7.10"
  }
 },
 "nbformat": 4,
 "nbformat_minor": 5
}
