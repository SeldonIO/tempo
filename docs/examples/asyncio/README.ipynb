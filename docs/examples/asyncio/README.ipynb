{
 "cells": [
  {
   "cell_type": "markdown",
   "id": "incoming-dialogue",
   "metadata": {},
   "source": [
    "# Leveraging AsyncIO in inference pipelines\n",
    "\n",
    "Tempo includes experimental support for `asyncio`, which provides a way to optimise pipelines.\n",
    "In particular, `asyncio` can be beneficial in scenarios where most of the heavy lifting is done by downstream models and the pipeline just orchestrates calls across these models.\n",
    "In this case, most of the time within the pipeline will be spent waiting for the requests from downstream models to come back.\n",
    "`asyncio` will allow us to process other incoming requests during this waiting time.\n",
    "\n",
    "This example will walk us through the process of setting up an asynchronous pipeline.\n",
    "As you will see, it's quite similar to the usual synchronous pipelines."
   ]
  },
  {
   "cell_type": "markdown",
   "id": "identical-token",
   "metadata": {},
   "source": [
    "## Prerequisites\n",
    "\n",
    "This notebooks needs to be run in the `tempo-examples` conda environment defined below. Create from project root folder:\n",
    "\n",
    "```bash\n",
    "conda env create --name tempo-examples --file conda/tempo-examples.yaml\n",
    "```"
   ]
  },
  {
   "cell_type": "markdown",
   "id": "cloudy-harrison",
   "metadata": {},
   "source": [
    "## Project Structure"
   ]
  },
  {
   "cell_type": "code",
   "execution_count": null,
   "id": "alert-surge",
   "metadata": {
    "scrolled": true
   },
   "outputs": [],
   "source": [
    "!tree -P \"*.py\"  -I \"__init__.py|__pycache__\" -L 2"
   ]
  },
  {
   "cell_type": "markdown",
   "id": "protective-friday",
   "metadata": {},
   "source": [
    "## Train Models\n",
    "\n",
    "This section is where as a data scientist you do your work of training models and creating artfacts.\n",
    "For this example, we will train two sklearn and xgboost classification models using the iris dataset.\n",
    "\n",
    "These models will be used by our inference pipeline."
   ]
  },
  {
   "cell_type": "code",
   "execution_count": null,
   "id": "equipped-silence",
   "metadata": {},
   "outputs": [],
   "source": [
    "import logging\n",
    "from tempo.utils import logger\n",
    "\n",
    "logger.setLevel(logging.ERROR)\n",
    "logging.basicConfig(level=logging.ERROR)"
   ]
  },
  {
   "cell_type": "code",
   "execution_count": null,
   "id": "reported-hurricane",
   "metadata": {
    "code_folding": []
   },
   "outputs": [],
   "source": [
    "# %load src/train.py\n",
    "import os\n",
    "\n",
    "import joblib\n",
    "from sklearn.linear_model import LogisticRegression\n",
    "from src.constants import SKLearnFolder, XGBoostFolder\n",
    "from src.data import IrisData\n",
    "from xgboost import XGBClassifier\n",
    "\n",
    "\n",
    "def train_sklearn(data: IrisData):\n",
    "    logreg = LogisticRegression(C=1e5)\n",
    "    logreg.fit(data.X, data.y)\n",
    "\n",
    "    model_path = os.path.join(SKLearnFolder, \"model.joblib\")\n",
    "    with open(model_path, \"wb\") as f:\n",
    "        joblib.dump(logreg, f)\n",
    "\n",
    "\n",
    "def train_xgboost(data: IrisData):\n",
    "    clf = XGBClassifier()\n",
    "    clf.fit(data.X, data.y)\n",
    "\n",
    "    model_path = os.path.join(XGBoostFolder, \"model.json\")\n",
    "    clf.save_model(model_path)\n"
   ]
  },
  {
   "cell_type": "code",
   "execution_count": null,
   "id": "lesser-reply",
   "metadata": {},
   "outputs": [],
   "source": [
    "from src.data import IrisData\n",
    "from src.train import train_sklearn, train_xgboost\n",
    "\n",
    "data = IrisData()\n",
    "\n",
    "train_sklearn(data)\n",
    "train_xgboost(data)"
   ]
  },
  {
   "cell_type": "markdown",
   "id": "typical-toolbox",
   "metadata": {},
   "source": [
    "## Create Tempo Artifacts\n",
    "\n",
    "Here we create the Tempo models and orchestration Pipeline for our final service using our models.\n",
    "For illustration the final service will call the sklearn model and based on the result will decide to return that prediction or call the xgboost model and return that prediction instead."
   ]
  },
  {
   "cell_type": "code",
   "execution_count": null,
   "id": "smoking-tribe",
   "metadata": {},
   "outputs": [],
   "source": [
    "from src.tempo import classifier"
   ]
  },
  {
   "cell_type": "code",
   "execution_count": null,
   "id": "regular-balance",
   "metadata": {
    "code_folding": []
   },
   "outputs": [],
   "source": [
    "# %load src/tempo.py\n",
    "import numpy as np\n",
    "from src.constants import ClassifierFolder, SKLearnFolder, XGBoostFolder\n",
    "\n",
    "from tempo import ModelFramework, PipelineModels\n",
    "from tempo.aio import Model, pipeline\n",
    "\n",
    "SKLearnModel = Model(\n",
    "    name=\"test-iris-sklearn\",\n",
    "    platform=ModelFramework.SKLearn,\n",
    "    local_folder=SKLearnFolder,\n",
    "    uri=\"s3://tempo/basic/sklearn\",\n",
    "    description=\"An SKLearn Iris classification model\",\n",
    ")\n",
    "\n",
    "XGBoostModel = Model(\n",
    "    name=\"test-iris-xgboost\",\n",
    "    platform=ModelFramework.XGBoost,\n",
    "    local_folder=XGBoostFolder,\n",
    "    uri=\"s3://tempo/basic/xgboost\",\n",
    "    description=\"An XGBoost Iris classification model\",\n",
    ")\n",
    "\n",
    "\n",
    "@pipeline(\n",
    "    name=\"classifier\",\n",
    "    models=PipelineModels(sklearn=SKLearnModel, xgboost=XGBoostModel),\n",
    "    local_folder=ClassifierFolder,\n",
    ")\n",
    "async def classifier(payload: np.ndarray) -> np.ndarray:\n",
    "    res1 = await classifier.models.sklearn(input=payload)\n",
    "    if res1[0] > 0.7:\n",
    "        return res1\n",
    "\n",
    "    return await classifier.models.xgboost(input=payload)\n"
   ]
  },
  {
   "cell_type": "markdown",
   "id": "induced-nylon",
   "metadata": {},
   "source": [
    "## Save Classifier Environment\n",
    "\n",
    "In preparation for running our models we save the Python environment needed for the orchestration to run as defined by a `conda.yaml` in our project."
   ]
  },
  {
   "cell_type": "code",
   "execution_count": null,
   "id": "considered-terminology",
   "metadata": {},
   "outputs": [],
   "source": [
    "!ls artifacts/classifier/conda.yaml"
   ]
  },
  {
   "cell_type": "code",
   "execution_count": null,
   "id": "rural-mathematics",
   "metadata": {},
   "outputs": [],
   "source": [
    "import tempo\n",
    "\n",
    "tempo.save(classifier)"
   ]
  },
  {
   "cell_type": "markdown",
   "id": "3a3907b3",
   "metadata": {},
   "source": [
    "## Test Locally on Docker\n",
    "\n",
    "Here we test our models using production images but running locally on Docker. This allows us to ensure the final production deployed model will behave as expected when deployed."
   ]
  },
  {
   "cell_type": "code",
   "execution_count": null,
   "id": "56037cc4",
   "metadata": {},
   "outputs": [],
   "source": [
    "from tempo.aio import deploy_local\n",
    "remote_model = deploy_local(classifier)"
   ]
  },
  {
   "cell_type": "code",
   "execution_count": null,
   "id": "cb489575",
   "metadata": {},
   "outputs": [],
   "source": [
    "import numpy as np\n",
    "await remote_model.predict(np.array([[1, 2, 3, 4]]))"
   ]
  },
  {
   "cell_type": "code",
   "execution_count": null,
   "id": "dc6c0829",
   "metadata": {},
   "outputs": [],
   "source": [
    "print(await remote_model.predict(np.array([[0, 0, 0,0]])))\n",
    "print(await remote_model.predict(np.array([[5.964,4.006,2.081,1.031]])))"
   ]
  },
  {
   "cell_type": "code",
   "execution_count": null,
   "id": "6fa56a63",
   "metadata": {},
   "outputs": [],
   "source": [
    "remote_model.undeploy()"
   ]
  },
  {
   "cell_type": "code",
   "execution_count": null,
   "id": "bright-tuning",
   "metadata": {},
   "outputs": [],
   "source": []
  }
 ],
 "metadata": {
  "kernelspec": {
   "display_name": "Python 3",
   "language": "python",
   "name": "python3"
  },
  "language_info": {
   "codemirror_mode": {
    "name": "ipython",
    "version": 3
   },
   "file_extension": ".py",
   "mimetype": "text/x-python",
   "name": "python",
   "nbconvert_exporter": "python",
   "pygments_lexer": "ipython3",
   "version": "3.7.9"
  }
 },
 "nbformat": 4,
 "nbformat_minor": 5
}
