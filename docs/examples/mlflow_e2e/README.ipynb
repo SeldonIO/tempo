{
 "cells": [
  {
   "cell_type": "markdown",
   "id": "205e017c",
   "metadata": {},
   "source": [
    "# MLflow end-to-end example\n",
    "\n",
    "In this example we are going to build a model using `mlflow`, pack and deploy locally using `tempo` (in docker and local kubernetes cluster).\n",
    "\n",
    "We are are going to use follow the MNIST pytorch example from `mlflow`, check this [link](https://github.com/mlflow/mlflow/tree/master/examples/pytorch/MNIST) for more information.\n",
    "\n"
   ]
  },
  {
   "cell_type": "markdown",
   "id": "73af26f0",
   "metadata": {},
   "source": [
    "In this example we will:\n",
    "  * [Train MNIST Model using mlflow and pytorch](#Train-model)\n",
    "  * [Create tempo artifacts](#Save-model-environment)\n",
    "  * [Deploy Locally to Docker](#Deploy-to-Docker)\n",
    "  * [Deploy Locally to Kubernetes](#Deploy-to-Kubernetes)"
   ]
  },
  {
   "cell_type": "markdown",
   "id": "fd9d05df",
   "metadata": {},
   "source": [
    "## Prerequisites\n",
    "\n",
    "This notebooks needs to be run in the `tempo-examples` conda environment defined below. Create from project root folder:\n",
    "\n",
    "```bash\n",
    "conda env create --name tempo-examples --file conda/tempo-examples.yaml\n",
    "```"
   ]
  },
  {
   "cell_type": "markdown",
   "id": "7f5b5136",
   "metadata": {},
   "source": [
    "## Train model\n",
    "\n",
    "We train MNIST model below:\n",
    "\n",
    "### Install prerequisites"
   ]
  },
  {
   "cell_type": "code",
   "execution_count": 1,
   "id": "20111971",
   "metadata": {
    "scrolled": false
   },
   "outputs": [
    {
     "name": "stdout",
     "output_type": "stream",
     "text": [
      "Requirement already satisfied: mlflow in /home/sa/miniconda3/envs/tempo-examples/lib/python3.7/site-packages (1.20.1)\n",
      "Requirement already satisfied: torchvision>=0.9.1 in /home/sa/miniconda3/envs/tempo-examples/lib/python3.7/site-packages (0.10.0)\n",
      "Requirement already satisfied: torch==1.9.0 in /home/sa/miniconda3/envs/tempo-examples/lib/python3.7/site-packages (1.9.0)\n",
      "Requirement already satisfied: pytorch-lightning==1.4.0 in /home/sa/miniconda3/envs/tempo-examples/lib/python3.7/site-packages (1.4.0)\n",
      "Requirement already satisfied: tqdm>=4.41.0 in /home/sa/miniconda3/envs/tempo-examples/lib/python3.7/site-packages (from pytorch-lightning==1.4.0) (4.62.1)\n",
      "Requirement already satisfied: typing-extensions in /home/sa/miniconda3/envs/tempo-examples/lib/python3.7/site-packages (from pytorch-lightning==1.4.0) (3.7.4.3)\n",
      "Requirement already satisfied: numpy>=1.17.2 in /home/sa/miniconda3/envs/tempo-examples/lib/python3.7/site-packages (from pytorch-lightning==1.4.0) (1.19.5)\n",
      "Requirement already satisfied: fsspec[http]!=2021.06.0,>=2021.05.0 in /home/sa/miniconda3/envs/tempo-examples/lib/python3.7/site-packages (from pytorch-lightning==1.4.0) (2021.7.0)\n",
      "Requirement already satisfied: PyYAML>=5.1 in /home/sa/miniconda3/envs/tempo-examples/lib/python3.7/site-packages (from pytorch-lightning==1.4.0) (5.4.1)\n",
      "Requirement already satisfied: packaging>=17.0 in /home/sa/miniconda3/envs/tempo-examples/lib/python3.7/site-packages (from pytorch-lightning==1.4.0) (21.0)\n",
      "Requirement already satisfied: pyDeprecate==0.3.1 in /home/sa/miniconda3/envs/tempo-examples/lib/python3.7/site-packages (from pytorch-lightning==1.4.0) (0.3.1)\n",
      "Requirement already satisfied: torchmetrics>=0.4.0 in /home/sa/miniconda3/envs/tempo-examples/lib/python3.7/site-packages (from pytorch-lightning==1.4.0) (0.5.0)\n",
      "Requirement already satisfied: future>=0.17.1 in /home/sa/miniconda3/envs/tempo-examples/lib/python3.7/site-packages (from pytorch-lightning==1.4.0) (0.18.2)\n",
      "Requirement already satisfied: tensorboard!=2.5.0,>=2.2.0 in /home/sa/miniconda3/envs/tempo-examples/lib/python3.7/site-packages (from pytorch-lightning==1.4.0) (2.6.0)\n",
      "Requirement already satisfied: pillow>=5.3.0 in /home/sa/miniconda3/envs/tempo-examples/lib/python3.7/site-packages (from torchvision>=0.9.1) (8.3.1)\n",
      "Requirement already satisfied: requests in /home/sa/miniconda3/envs/tempo-examples/lib/python3.7/site-packages (from fsspec[http]!=2021.06.0,>=2021.05.0->pytorch-lightning==1.4.0) (2.26.0)\n",
      "Requirement already satisfied: aiohttp in /home/sa/miniconda3/envs/tempo-examples/lib/python3.7/site-packages (from fsspec[http]!=2021.06.0,>=2021.05.0->pytorch-lightning==1.4.0) (3.7.4.post0)\n",
      "Requirement already satisfied: pyparsing>=2.0.2 in /home/sa/miniconda3/envs/tempo-examples/lib/python3.7/site-packages (from packaging>=17.0->pytorch-lightning==1.4.0) (2.4.7)\n",
      "Requirement already satisfied: absl-py>=0.4 in /home/sa/miniconda3/envs/tempo-examples/lib/python3.7/site-packages (from tensorboard!=2.5.0,>=2.2.0->pytorch-lightning==1.4.0) (0.13.0)\n",
      "Requirement already satisfied: setuptools>=41.0.0 in /home/sa/miniconda3/envs/tempo-examples/lib/python3.7/site-packages (from tensorboard!=2.5.0,>=2.2.0->pytorch-lightning==1.4.0) (52.0.0.post20210125)\n",
      "Requirement already satisfied: tensorboard-data-server<0.7.0,>=0.6.0 in /home/sa/miniconda3/envs/tempo-examples/lib/python3.7/site-packages (from tensorboard!=2.5.0,>=2.2.0->pytorch-lightning==1.4.0) (0.6.1)\n",
      "Requirement already satisfied: grpcio>=1.24.3 in /home/sa/miniconda3/envs/tempo-examples/lib/python3.7/site-packages (from tensorboard!=2.5.0,>=2.2.0->pytorch-lightning==1.4.0) (1.32.0)\n",
      "Requirement already satisfied: wheel>=0.26 in /home/sa/miniconda3/envs/tempo-examples/lib/python3.7/site-packages (from tensorboard!=2.5.0,>=2.2.0->pytorch-lightning==1.4.0) (0.37.0)\n",
      "Requirement already satisfied: protobuf>=3.6.0 in /home/sa/miniconda3/envs/tempo-examples/lib/python3.7/site-packages (from tensorboard!=2.5.0,>=2.2.0->pytorch-lightning==1.4.0) (3.17.3)\n",
      "Requirement already satisfied: google-auth<2,>=1.6.3 in /home/sa/miniconda3/envs/tempo-examples/lib/python3.7/site-packages (from tensorboard!=2.5.0,>=2.2.0->pytorch-lightning==1.4.0) (1.35.0)\n",
      "Requirement already satisfied: google-auth-oauthlib<0.5,>=0.4.1 in /home/sa/miniconda3/envs/tempo-examples/lib/python3.7/site-packages (from tensorboard!=2.5.0,>=2.2.0->pytorch-lightning==1.4.0) (0.4.5)\n",
      "Requirement already satisfied: markdown>=2.6.8 in /home/sa/miniconda3/envs/tempo-examples/lib/python3.7/site-packages (from tensorboard!=2.5.0,>=2.2.0->pytorch-lightning==1.4.0) (3.3.4)\n",
      "Requirement already satisfied: tensorboard-plugin-wit>=1.6.0 in /home/sa/miniconda3/envs/tempo-examples/lib/python3.7/site-packages (from tensorboard!=2.5.0,>=2.2.0->pytorch-lightning==1.4.0) (1.8.0)\n",
      "Requirement already satisfied: werkzeug>=0.11.15 in /home/sa/miniconda3/envs/tempo-examples/lib/python3.7/site-packages (from tensorboard!=2.5.0,>=2.2.0->pytorch-lightning==1.4.0) (2.0.1)\n",
      "Requirement already satisfied: six in /home/sa/miniconda3/envs/tempo-examples/lib/python3.7/site-packages (from absl-py>=0.4->tensorboard!=2.5.0,>=2.2.0->pytorch-lightning==1.4.0) (1.15.0)\n",
      "Requirement already satisfied: rsa<5,>=3.1.4 in /home/sa/miniconda3/envs/tempo-examples/lib/python3.7/site-packages (from google-auth<2,>=1.6.3->tensorboard!=2.5.0,>=2.2.0->pytorch-lightning==1.4.0) (4.7.2)\n",
      "Requirement already satisfied: pyasn1-modules>=0.2.1 in /home/sa/miniconda3/envs/tempo-examples/lib/python3.7/site-packages (from google-auth<2,>=1.6.3->tensorboard!=2.5.0,>=2.2.0->pytorch-lightning==1.4.0) (0.2.8)\n",
      "Requirement already satisfied: cachetools<5.0,>=2.0.0 in /home/sa/miniconda3/envs/tempo-examples/lib/python3.7/site-packages (from google-auth<2,>=1.6.3->tensorboard!=2.5.0,>=2.2.0->pytorch-lightning==1.4.0) (4.2.2)\n",
      "Requirement already satisfied: requests-oauthlib>=0.7.0 in /home/sa/miniconda3/envs/tempo-examples/lib/python3.7/site-packages (from google-auth-oauthlib<0.5,>=0.4.1->tensorboard!=2.5.0,>=2.2.0->pytorch-lightning==1.4.0) (1.3.0)\n",
      "Requirement already satisfied: importlib-metadata in /home/sa/miniconda3/envs/tempo-examples/lib/python3.7/site-packages (from markdown>=2.6.8->tensorboard!=2.5.0,>=2.2.0->pytorch-lightning==1.4.0) (4.6.4)\n",
      "Requirement already satisfied: pyasn1<0.5.0,>=0.4.6 in /home/sa/miniconda3/envs/tempo-examples/lib/python3.7/site-packages (from pyasn1-modules>=0.2.1->google-auth<2,>=1.6.3->tensorboard!=2.5.0,>=2.2.0->pytorch-lightning==1.4.0) (0.4.8)\n",
      "Requirement already satisfied: urllib3<1.27,>=1.21.1 in /home/sa/miniconda3/envs/tempo-examples/lib/python3.7/site-packages (from requests->fsspec[http]!=2021.06.0,>=2021.05.0->pytorch-lightning==1.4.0) (1.26.6)\n",
      "Requirement already satisfied: charset-normalizer~=2.0.0 in /home/sa/miniconda3/envs/tempo-examples/lib/python3.7/site-packages (from requests->fsspec[http]!=2021.06.0,>=2021.05.0->pytorch-lightning==1.4.0) (2.0.4)\n",
      "Requirement already satisfied: certifi>=2017.4.17 in /home/sa/miniconda3/envs/tempo-examples/lib/python3.7/site-packages (from requests->fsspec[http]!=2021.06.0,>=2021.05.0->pytorch-lightning==1.4.0) (2021.5.30)\n",
      "Requirement already satisfied: idna<4,>=2.5 in /home/sa/miniconda3/envs/tempo-examples/lib/python3.7/site-packages (from requests->fsspec[http]!=2021.06.0,>=2021.05.0->pytorch-lightning==1.4.0) (3.2)\n",
      "Requirement already satisfied: oauthlib>=3.0.0 in /home/sa/miniconda3/envs/tempo-examples/lib/python3.7/site-packages (from requests-oauthlib>=0.7.0->google-auth-oauthlib<0.5,>=0.4.1->tensorboard!=2.5.0,>=2.2.0->pytorch-lightning==1.4.0) (3.1.1)\n",
      "Requirement already satisfied: databricks-cli>=0.8.7 in /home/sa/miniconda3/envs/tempo-examples/lib/python3.7/site-packages (from mlflow) (0.15.0)\n",
      "Requirement already satisfied: Flask in /home/sa/miniconda3/envs/tempo-examples/lib/python3.7/site-packages (from mlflow) (2.0.1)\n",
      "Requirement already satisfied: alembic<=1.4.1 in /home/sa/miniconda3/envs/tempo-examples/lib/python3.7/site-packages (from mlflow) (1.4.1)\n",
      "Requirement already satisfied: pytz in /home/sa/miniconda3/envs/tempo-examples/lib/python3.7/site-packages (from mlflow) (2021.1)\n",
      "Requirement already satisfied: pandas in /home/sa/miniconda3/envs/tempo-examples/lib/python3.7/site-packages (from mlflow) (1.0.1)\n",
      "Requirement already satisfied: sqlalchemy in /home/sa/miniconda3/envs/tempo-examples/lib/python3.7/site-packages (from mlflow) (1.4.23)\n",
      "Requirement already satisfied: querystring-parser in /home/sa/miniconda3/envs/tempo-examples/lib/python3.7/site-packages (from mlflow) (1.2.4)\n",
      "Requirement already satisfied: gunicorn in /home/sa/miniconda3/envs/tempo-examples/lib/python3.7/site-packages (from mlflow) (20.1.0)\n",
      "Requirement already satisfied: prometheus-flask-exporter in /home/sa/miniconda3/envs/tempo-examples/lib/python3.7/site-packages (from mlflow) (0.18.2)\n",
      "Requirement already satisfied: gitpython>=2.1.0 in /home/sa/miniconda3/envs/tempo-examples/lib/python3.7/site-packages (from mlflow) (3.1.18)\n",
      "Requirement already satisfied: cloudpickle in /home/sa/miniconda3/envs/tempo-examples/lib/python3.7/site-packages (from mlflow) (1.6.0)\n",
      "Requirement already satisfied: docker>=4.0.0 in /home/sa/miniconda3/envs/tempo-examples/lib/python3.7/site-packages (from mlflow) (5.0.0)\n",
      "Requirement already satisfied: entrypoints in /home/sa/miniconda3/envs/tempo-examples/lib/python3.7/site-packages (from mlflow) (0.3)\n",
      "Requirement already satisfied: sqlparse>=0.3.1 in /home/sa/miniconda3/envs/tempo-examples/lib/python3.7/site-packages (from mlflow) (0.4.1)\n",
      "Requirement already satisfied: click>=7.0 in /home/sa/miniconda3/envs/tempo-examples/lib/python3.7/site-packages (from mlflow) (7.1.2)\n"
     ]
    },
    {
     "name": "stdout",
     "output_type": "stream",
     "text": [
      "Requirement already satisfied: python-editor>=0.3 in /home/sa/miniconda3/envs/tempo-examples/lib/python3.7/site-packages (from alembic<=1.4.1->mlflow) (1.0.4)\n",
      "Requirement already satisfied: python-dateutil in /home/sa/miniconda3/envs/tempo-examples/lib/python3.7/site-packages (from alembic<=1.4.1->mlflow) (2.8.2)\n",
      "Requirement already satisfied: Mako in /home/sa/miniconda3/envs/tempo-examples/lib/python3.7/site-packages (from alembic<=1.4.1->mlflow) (1.1.5)\n",
      "Requirement already satisfied: tabulate>=0.7.7 in /home/sa/miniconda3/envs/tempo-examples/lib/python3.7/site-packages (from databricks-cli>=0.8.7->mlflow) (0.8.9)\n",
      "Requirement already satisfied: websocket-client>=0.32.0 in /home/sa/miniconda3/envs/tempo-examples/lib/python3.7/site-packages (from docker>=4.0.0->mlflow) (1.2.1)\n",
      "Requirement already satisfied: gitdb<5,>=4.0.1 in /home/sa/miniconda3/envs/tempo-examples/lib/python3.7/site-packages (from gitpython>=2.1.0->mlflow) (4.0.7)\n",
      "Requirement already satisfied: smmap<5,>=3.0.1 in /home/sa/miniconda3/envs/tempo-examples/lib/python3.7/site-packages (from gitdb<5,>=4.0.1->gitpython>=2.1.0->mlflow) (4.0.0)\n",
      "Requirement already satisfied: zipp>=0.5 in /home/sa/miniconda3/envs/tempo-examples/lib/python3.7/site-packages (from importlib-metadata->markdown>=2.6.8->tensorboard!=2.5.0,>=2.2.0->pytorch-lightning==1.4.0) (3.5.0)\n",
      "Requirement already satisfied: greenlet!=0.4.17 in /home/sa/miniconda3/envs/tempo-examples/lib/python3.7/site-packages (from sqlalchemy->mlflow) (1.1.1)\n",
      "Requirement already satisfied: yarl<2.0,>=1.0 in /home/sa/miniconda3/envs/tempo-examples/lib/python3.7/site-packages (from aiohttp->fsspec[http]!=2021.06.0,>=2021.05.0->pytorch-lightning==1.4.0) (1.6.3)\n",
      "Requirement already satisfied: multidict<7.0,>=4.5 in /home/sa/miniconda3/envs/tempo-examples/lib/python3.7/site-packages (from aiohttp->fsspec[http]!=2021.06.0,>=2021.05.0->pytorch-lightning==1.4.0) (5.1.0)\n",
      "Requirement already satisfied: async-timeout<4.0,>=3.0 in /home/sa/miniconda3/envs/tempo-examples/lib/python3.7/site-packages (from aiohttp->fsspec[http]!=2021.06.0,>=2021.05.0->pytorch-lightning==1.4.0) (3.0.1)\n",
      "Requirement already satisfied: chardet<5.0,>=2.0 in /home/sa/miniconda3/envs/tempo-examples/lib/python3.7/site-packages (from aiohttp->fsspec[http]!=2021.06.0,>=2021.05.0->pytorch-lightning==1.4.0) (4.0.0)\n",
      "Requirement already satisfied: attrs>=17.3.0 in /home/sa/miniconda3/envs/tempo-examples/lib/python3.7/site-packages (from aiohttp->fsspec[http]!=2021.06.0,>=2021.05.0->pytorch-lightning==1.4.0) (20.3.0)\n",
      "Requirement already satisfied: Jinja2>=3.0 in /home/sa/miniconda3/envs/tempo-examples/lib/python3.7/site-packages (from Flask->mlflow) (3.0.1)\n",
      "Requirement already satisfied: itsdangerous>=2.0 in /home/sa/miniconda3/envs/tempo-examples/lib/python3.7/site-packages (from Flask->mlflow) (2.0.1)\n",
      "Requirement already satisfied: MarkupSafe>=2.0 in /home/sa/miniconda3/envs/tempo-examples/lib/python3.7/site-packages (from Jinja2>=3.0->Flask->mlflow) (2.0.1)\n",
      "Requirement already satisfied: prometheus-client in /home/sa/miniconda3/envs/tempo-examples/lib/python3.7/site-packages (from prometheus-flask-exporter->mlflow) (0.11.0)\n"
     ]
    }
   ],
   "source": [
    "!pip install mlflow 'torchvision>=0.9.1' torch==1.9.0 pytorch-lightning==1.4.0"
   ]
  },
  {
   "cell_type": "code",
   "execution_count": 3,
   "id": "20ed448f",
   "metadata": {},
   "outputs": [],
   "source": [
    "!rm -fr /tmp/mlflow"
   ]
  },
  {
   "cell_type": "code",
   "execution_count": 4,
   "id": "fd70b7dd",
   "metadata": {},
   "outputs": [
    {
     "name": "stdout",
     "output_type": "stream",
     "text": [
      "/tmp\n"
     ]
    }
   ],
   "source": [
    "%cd /tmp"
   ]
  },
  {
   "cell_type": "code",
   "execution_count": 5,
   "id": "222e6b62",
   "metadata": {},
   "outputs": [
    {
     "name": "stdout",
     "output_type": "stream",
     "text": [
      "Cloning into 'mlflow'...\n",
      "remote: Enumerating objects: 43208, done.\u001b[K\n",
      "remote: Counting objects: 100% (1650/1650), done.\u001b[K\n",
      "remote: Compressing objects: 100% (857/857), done.\u001b[K\n",
      "remote: Total 43208 (delta 992), reused 1271 (delta 767), pack-reused 41558\u001b[K\n",
      "Receiving objects: 100% (43208/43208), 38.22 MiB | 8.91 MiB/s, done.\n",
      "Resolving deltas: 100% (33107/33107), done.\n"
     ]
    }
   ],
   "source": [
    "!git clone https://github.com/mlflow/mlflow.git"
   ]
  },
  {
   "cell_type": "markdown",
   "id": "372d94e2",
   "metadata": {},
   "source": [
    "### Train model using `mlflow`"
   ]
  },
  {
   "cell_type": "code",
   "execution_count": 7,
   "id": "246e0b72",
   "metadata": {},
   "outputs": [
    {
     "name": "stdout",
     "output_type": "stream",
     "text": [
      "/tmp/mlflow/examples/pytorch/MNIST\n"
     ]
    }
   ],
   "source": [
    "%cd mlflow/examples/pytorch/MNIST"
   ]
  },
  {
   "cell_type": "code",
   "execution_count": 20,
   "id": "555f264a",
   "metadata": {},
   "outputs": [
    {
     "name": "stdout",
     "output_type": "stream",
     "text": [
      "2021/09/07 09:54:39 INFO mlflow.projects.utils: === Created directory /tmp/tmp583_9vom for downloading remote URIs passed to arguments of type 'path' ===\n",
      "2021/09/07 09:54:39 INFO mlflow.projects.backend.local: === Running command 'python mnist_autolog_example.py \\\n",
      "  --max_epochs 5 \\\n",
      "  --gpus 0 \\\n",
      "  --accelerator None \\\n",
      "  --batch_size 64 \\\n",
      "  --num_workers 3 \\\n",
      "  --lr 0.001 \\\n",
      "  --es_patience 3 \\\n",
      "  --es_mode min \\\n",
      "  --es_verbose True \\\n",
      "  --es_monitor val_loss\n",
      "' in run with ID 'c478ef52c6ec4c2fbaba3ad9f788a101' === \n",
      "/home/sa/miniconda3/envs/tempo-examples/lib/python3.7/site-packages/torchvision/datasets/mnist.py:498: UserWarning: The given NumPy array is not writeable, and PyTorch does not support non-writeable tensors. This means you can write to the underlying (supposedly non-writeable) NumPy array using the tensor. You may want to copy the array to protect its data or make it writeable before converting it to a tensor. This type of warning will be suppressed for the rest of this program. (Triggered internally at  /pytorch/torch/csrc/utils/tensor_numpy.cpp:180.)\n",
      "  return torch.from_numpy(parsed.astype(m[2], copy=False)).view(*s)\n",
      "/home/sa/miniconda3/envs/tempo-examples/lib/python3.7/site-packages/pytorch_lightning/callbacks/model_checkpoint.py:446: UserWarning: Checkpoint directory /tmp/mlflow/examples/pytorch/MNIST exists and is not empty.\n",
      "  rank_zero_warn(f\"Checkpoint directory {dirpath} exists and is not empty.\")\n",
      "GPU available: True, used: False\n",
      "TPU available: False, using: 0 TPU cores\n",
      "IPU available: False, using: 0 IPUs\n",
      "/home/sa/miniconda3/envs/tempo-examples/lib/python3.7/site-packages/pytorch_lightning/trainer/trainer.py:1293: UserWarning: GPU available but not used. Set the gpus flag in your trainer `Trainer(gpus=1)` or script `--gpus=1`.\n",
      "  \"GPU available but not used. Set the gpus flag in your trainer\"\n",
      "2021/09/07 09:54:40 INFO mlflow.utils.autologging_utils: Created MLflow autologging run with ID 'c478ef52c6ec4c2fbaba3ad9f788a101', which will track hyperparameters, performance metrics, model artifacts, and lineage information for the current pytorch workflow\n",
      "/home/sa/miniconda3/envs/tempo-examples/lib/python3.7/site-packages/pytorch_lightning/core/datamodule.py:424: LightningDeprecationWarning: DataModule.setup has already been called, so it will not be called again. In v1.6 this behavior will change to always call DataModule.setup.\n",
      "  f\"DataModule.{name} has already been called, so it will not be called again. \"\n",
      "2021-09-07 09:54:41.067061: W tensorflow/stream_executor/platform/default/dso_loader.cc:60] Could not load dynamic library 'libcudart.so.11.0'; dlerror: libcudart.so.11.0: cannot open shared object file: No such file or directory\n",
      "2021-09-07 09:54:41.067084: I tensorflow/stream_executor/cuda/cudart_stub.cc:29] Ignore above cudart dlerror if you do not have a GPU set up on your machine.\n",
      "\n",
      "  | Name    | Type   | Params\n",
      "-----------------------------------\n",
      "0 | layer_1 | Linear | 100 K \n",
      "1 | layer_2 | Linear | 33.0 K\n",
      "2 | layer_3 | Linear | 2.6 K \n",
      "-----------------------------------\n",
      "136 K     Trainable params\n",
      "0         Non-trainable params\n",
      "136 K     Total params\n",
      "0.544     Total estimated model params size (MB)\n",
      "Epoch 0:  92%|█████████▏| 860/939 [00:04<00:00, 176.21it/s, loss=0.157, v_num=1]\n",
      "Validating: 0it [00:00, ?it/s]\u001b[A\n",
      "Epoch 0:  92%|█████████▏| 866/939 [00:04<00:00, 175.08it/s, loss=0.157, v_num=1]\u001b[A\n",
      "Epoch 0:  94%|█████████▍| 887/939 [00:05<00:00, 175.52it/s, loss=0.157, v_num=1]\u001b[A\n",
      "Epoch 0:  97%|█████████▋| 910/939 [00:05<00:00, 176.58it/s, loss=0.157, v_num=1]\u001b[A\n",
      "Epoch 0:  99%|█████████▉| 933/939 [00:05<00:00, 176.97it/s, loss=0.157, v_num=1]\u001b[A\n",
      "Epoch 0: 100%|██████████| 939/939 [00:05<00:00, 176.38it/s, loss=0.157, v_num=1]\u001b[A\n",
      "                                                                                \u001b[AMetric val_loss improved. New best score: 0.139\n",
      "Epoch 0, global step 859: val_loss reached 0.13937 (best 0.13937), saving model to \"/tmp/mlflow/examples/pytorch/MNIST/epoch=0-step=859.ckpt\" as top 1\n",
      "/home/sa/miniconda3/envs/tempo-examples/lib/python3.7/site-packages/pytorch_lightning/trainer/callback_hook.py:103: LightningDeprecationWarning: The signature of `Callback.on_train_epoch_end` has changed in v1.3. `outputs` parameter has been removed. Support for the old signature will be removed in v1.5\n",
      "  \"The signature of `Callback.on_train_epoch_end` has changed in v1.3.\"\n",
      "/home/sa/miniconda3/envs/tempo-examples/lib/python3.7/site-packages/pytorch_lightning/trainer/deprecated_api.py:26: LightningDeprecationWarning: `Trainer.running_sanity_check` has been renamed to `Trainer.sanity_checking` and will be removed in v1.5.\n",
      "  \"`Trainer.running_sanity_check` has been renamed to `Trainer.sanity_checking` and will be removed in v1.5.\"\n",
      "Epoch 1:  92%|████████▏| 860/939 [00:04<00:00, 174.51it/s, loss=0.0984, v_num=1]\n",
      "Validating: 0it [00:00, ?it/s]\u001b[A\n",
      "Validating:   0%|                                        | 0/79 [00:00<?, ?it/s]\u001b[A\n",
      "Epoch 1:  93%|████████▍| 874/939 [00:05<00:00, 172.87it/s, loss=0.0984, v_num=1]\u001b[A\n",
      "Epoch 1:  96%|████████▌| 897/939 [00:05<00:00, 173.75it/s, loss=0.0984, v_num=1]\u001b[A\n",
      "Epoch 1:  98%|████████▊| 920/939 [00:05<00:00, 174.23it/s, loss=0.0984, v_num=1]\u001b[A\n",
      "Epoch 1: 100%|█████████| 939/939 [00:05<00:00, 174.44it/s, loss=0.0984, v_num=1]\u001b[A\n",
      "                                                                                \u001b[AMetric val_loss improved by 0.028 >= min_delta = 0.0. New best score: 0.112\n",
      "Epoch 1, global step 1719: val_loss reached 0.11164 (best 0.11164), saving model to \"/tmp/mlflow/examples/pytorch/MNIST/epoch=1-step=1719-v1.ckpt\" as top 1\n",
      "Epoch 2:  92%|████████▏| 860/939 [00:05<00:00, 170.63it/s, loss=0.0723, v_num=1]\n",
      "Validating: 0it [00:00, ?it/s]\u001b[A\n",
      "Validating:   0%|                                        | 0/79 [00:00<?, ?it/s]\u001b[A\n",
      "Epoch 2:  93%|████████▍| 874/939 [00:05<00:00, 168.68it/s, loss=0.0723, v_num=1]\u001b[A\n",
      "Epoch 2:  96%|████████▌| 897/939 [00:05<00:00, 169.39it/s, loss=0.0723, v_num=1]\u001b[A\n",
      "Epoch 2:  98%|████████▊| 920/939 [00:05<00:00, 170.16it/s, loss=0.0723, v_num=1]\u001b[A\n",
      "Epoch 2: 100%|█████████| 939/939 [00:05<00:00, 170.58it/s, loss=0.0723, v_num=1]\u001b[A\n",
      "                                                                                \u001b[AEpoch 2, global step 2579: val_loss was not in top 1\n",
      "Epoch 3:  92%|████████▏| 860/939 [00:04<00:00, 181.61it/s, loss=0.0594, v_num=1]\n",
      "Validating: 0it [00:00, ?it/s]\u001b[A\n",
      "Validating:   0%|                                        | 0/79 [00:00<?, ?it/s]\u001b[A\n",
      "Epoch 3:  93%|████████▍| 874/939 [00:04<00:00, 179.31it/s, loss=0.0594, v_num=1]\u001b[A\n",
      "Epoch 3:  96%|████████▌| 897/939 [00:05<00:00, 179.57it/s, loss=0.0594, v_num=1]\u001b[A\n",
      "Epoch 3:  98%|████████▊| 920/939 [00:05<00:00, 180.30it/s, loss=0.0594, v_num=1]\u001b[A\n",
      "Epoch 3: 100%|█████████| 939/939 [00:05<00:00, 180.52it/s, loss=0.0594, v_num=1]\u001b[A\n",
      "                                                                                \u001b[AMetric val_loss improved by 0.004 >= min_delta = 0.0. New best score: 0.108\n",
      "Epoch 3, global step 3439: val_loss reached 0.10778 (best 0.10778), saving model to \"/tmp/mlflow/examples/pytorch/MNIST/epoch=3-step=3439.ckpt\" as top 1\n",
      "Epoch 4:  92%|████████▏| 860/939 [00:04<00:00, 174.71it/s, loss=0.0495, v_num=1]\n",
      "Validating: 0it [00:00, ?it/s]\u001b[A\n",
      "Validating:   0%|                                        | 0/79 [00:00<?, ?it/s]\u001b[A\n",
      "Epoch 4:  93%|████████▍| 874/939 [00:05<00:00, 173.36it/s, loss=0.0495, v_num=1]\u001b[A\n",
      "Epoch 4:  96%|████████▌| 897/939 [00:05<00:00, 173.43it/s, loss=0.0495, v_num=1]\u001b[A\n",
      "Epoch 4:  98%|████████▊| 920/939 [00:05<00:00, 174.46it/s, loss=0.0495, v_num=1]\u001b[A\n",
      "Epoch 4: 100%|█████████| 939/939 [00:05<00:00, 174.89it/s, loss=0.0495, v_num=1]\u001b[A\n",
      "                                                                                \u001b[AEpoch 4, global step 4299: val_loss was not in top 1\n",
      "Epoch 4: 100%|█████████| 939/939 [00:05<00:00, 174.80it/s, loss=0.0495, v_num=1]\n",
      "2021/09/07 09:55:09 WARNING mlflow.utils.autologging_utils: MLflow autologging encountered a warning: \"/home/sa/miniconda3/envs/tempo-examples/lib/python3.7/site-packages/pytorch_lightning/core/memory.py:203: LightningDeprecationWarning: Argument `mode` in `ModelSummary` is deprecated in v1.4 and will be removed in v1.6. Use `max_depth=-1` to replicate `mode=full` behaviour.\"\n"
     ]
    },
    {
     "name": "stdout",
     "output_type": "stream",
     "text": [
      "/home/sa/miniconda3/envs/tempo-examples/lib/python3.7/site-packages/pytorch_lightning/core/datamodule.py:424: LightningDeprecationWarning: DataModule.prepare_data has already been called, so it will not be called again. In v1.6 this behavior will change to always call DataModule.prepare_data.\n",
      "  f\"DataModule.{name} has already been called, so it will not be called again. \"\n",
      "Testing: 0it [00:00, ?it/s]/home/sa/miniconda3/envs/tempo-examples/lib/python3.7/site-packages/deprecate/deprecation.py:115: LightningDeprecationWarning: The `accuracy` was deprecated since v1.3.0 in favor of `torchmetrics.functional.classification.accuracy.accuracy`. It will be removed in v1.5.0.\n",
      "  stream(template_mgs % msg_args)\n",
      "Testing:  91%|████████████████████████████▏  | 143/157 [00:00<00:00, 205.75it/s]--------------------------------------------------------------------------------\n",
      "DATALOADER:0 TEST RESULTS\n",
      "{'avg_test_acc': 0.9678543210029602}\n",
      "--------------------------------------------------------------------------------\n",
      "Testing: 100%|███████████████████████████████| 157/157 [00:00<00:00, 189.99it/s]\n",
      "2021/09/07 09:55:12 INFO mlflow.projects: === Run (ID 'c478ef52c6ec4c2fbaba3ad9f788a101') succeeded ===\n"
     ]
    }
   ],
   "source": [
    "!mlflow run . --no-conda"
   ]
  },
  {
   "cell_type": "code",
   "execution_count": 21,
   "id": "11e93154",
   "metadata": {
    "scrolled": true
   },
   "outputs": [
    {
     "name": "stdout",
     "output_type": "stream",
     "text": [
      "\u001b[01;34mmlruns/0\u001b[00m\r\n",
      "├── \u001b[01;34m3243d1faac7c4eb69ee11e2b77766e2a\u001b[00m\r\n",
      "├── \u001b[01;34mc478ef52c6ec4c2fbaba3ad9f788a101\u001b[00m\r\n",
      "└── meta.yaml\r\n",
      "\r\n",
      "2 directories, 1 file\r\n"
     ]
    }
   ],
   "source": [
    "!tree -L 1 mlruns/0"
   ]
  },
  {
   "cell_type": "markdown",
   "id": "74af0c30",
   "metadata": {},
   "source": [
    "### Choose test image"
   ]
  },
  {
   "cell_type": "code",
   "execution_count": 10,
   "id": "ec95f707",
   "metadata": {},
   "outputs": [
    {
     "name": "stderr",
     "output_type": "stream",
     "text": [
      "/home/sa/miniconda3/envs/tempo-examples/lib/python3.7/site-packages/torchvision/datasets/mnist.py:498: UserWarning: The given NumPy array is not writeable, and PyTorch does not support non-writeable tensors. This means you can write to the underlying (supposedly non-writeable) NumPy array using the tensor. You may want to copy the array to protect its data or make it writeable before converting it to a tensor. This type of warning will be suppressed for the rest of this program. (Triggered internally at  /pytorch/torch/csrc/utils/tensor_numpy.cpp:180.)\n",
      "  return torch.from_numpy(parsed.astype(m[2], copy=False)).view(*s)\n"
     ]
    },
    {
     "data": {
      "image/png": "[encoded data removed]",
      "text/plain": [
       "<PIL.Image.Image image mode=L size=28x28 at 0x7FC8401ECE50>"
      ]
     },
     "metadata": {},
     "output_type": "display_data"
    },
    {
     "name": "stdout",
     "output_type": "stream",
     "text": [
      "7\n"
     ]
    }
   ],
   "source": [
    "from torchvision import datasets\n",
    "\n",
    "mnist_test = datasets.MNIST('/tmp/data', train=False, download=True)\n",
    "# change the index below to get a different image for testing\n",
    "mnist_test = list(mnist_test)[0]\n",
    "img, category = mnist_test\n",
    "display(img)\n",
    "print(category)"
   ]
  },
  {
   "cell_type": "markdown",
   "id": "af590ba3",
   "metadata": {},
   "source": [
    "### Tranform test image to numpy"
   ]
  },
  {
   "cell_type": "code",
   "execution_count": 11,
   "id": "b635ae12",
   "metadata": {},
   "outputs": [],
   "source": [
    "import numpy as np\n",
    "img_np = np.asarray(img).reshape((1, 28*28)).astype(np.float32)"
   ]
  },
  {
   "cell_type": "markdown",
   "id": "55590e81",
   "metadata": {},
   "source": [
    "## Save model environment"
   ]
  },
  {
   "cell_type": "code",
   "execution_count": 22,
   "id": "047f8f45",
   "metadata": {},
   "outputs": [
    {
     "name": "stdout",
     "output_type": "stream",
     "text": [
      "/tmp/mlflow/examples/pytorch/MNIST/mlruns/0/c478ef52c6ec4c2fbaba3ad9f788a101/artifacts/model\n"
     ]
    }
   ],
   "source": [
    "import glob\n",
    "import os\n",
    "\n",
    "files = glob.glob(\"mlruns/0/*/\")\n",
    "files.sort(key=os.path.getmtime)\n",
    "\n",
    "ARTIFACTS_FOLDER = os.path.join(\n",
    "    os.getcwd(),\n",
    "    files[-1],\n",
    "    \"artifacts\",\n",
    "    \"model\"\n",
    ")\n",
    "assert os.path.exists(ARTIFACTS_FOLDER)\n",
    "print(ARTIFACTS_FOLDER)"
   ]
  },
  {
   "cell_type": "markdown",
   "id": "8901a382",
   "metadata": {},
   "source": [
    "### Define `tempo` model"
   ]
  },
  {
   "cell_type": "code",
   "execution_count": 23,
   "id": "3d0bd496",
   "metadata": {},
   "outputs": [
    {
     "name": "stderr",
     "output_type": "stream",
     "text": [
      "Insights Manager not initialised as empty URL provided.\n"
     ]
    }
   ],
   "source": [
    "from tempo.serve.metadata import ModelFramework\n",
    "from tempo.serve.model import Model\n",
    "\n",
    "mlflow_tag = \"mlflow\"\n",
    "\n",
    "pytorch_mnist_model = Model(\n",
    "    name=\"test-pytorch-mnist\",\n",
    "    platform=ModelFramework.MLFlow,\n",
    "    local_folder=ARTIFACTS_FOLDER,\n",
    "    # if we deploy to kube, this defines where the model artifacts are stored\n",
    "    uri=\"s3://tempo/basic/mnist\",\n",
    "    description=\"A pytorch MNIST model\",\n",
    ")\n",
    "\n"
   ]
  },
  {
   "cell_type": "markdown",
   "id": "8a5b6921",
   "metadata": {},
   "source": [
    "### Save model (environment) using `tempo`\n",
    "\n",
    "Tempo hides many details required to save the model environment for `mlserver`:\n",
    "- Add required runtime dependencies\n",
    "- Create a conda pack `environment.tar.gz`"
   ]
  },
  {
   "cell_type": "code",
   "execution_count": null,
   "id": "8a25f9a1",
   "metadata": {
    "scrolled": true
   },
   "outputs": [
    {
     "name": "stdout",
     "output_type": "stream",
     "text": [
      "Collecting package metadata (repodata.json): ...working... done\n",
      "Solving environment: ...working... done\n",
      "\n",
      "Downloading and Extracting Packages\n",
      "_openmp_mutex-4.5    | 22 KB     | ########## | 100% \n",
      "Preparing transaction: ...working... done\n",
      "Verifying transaction: ...working... done\n",
      "Executing transaction: ...working... done\n",
      "Installing pip dependencies: ...working... Ran pip subprocess with arguments:\n",
      "['/home/sa/miniconda3/envs/tempo-74889c69-e5a7-499d-9d10-867b916d697c/bin/python', '-m', 'pip', 'install', '-U', '-r', '/tmp/condaenv.hfliozx3.requirements.txt']\n",
      "Pip subprocess output:\n",
      "Collecting mlflow\n",
      "  Using cached mlflow-1.20.2-py3-none-any.whl (14.6 MB)\n",
      "Collecting astunparse==1.6.3\n",
      "  Using cached astunparse-1.6.3-py2.py3-none-any.whl (12 kB)\n",
      "Collecting cffi==1.14.6\n",
      "  Using cached cffi-1.14.6-cp37-cp37m-manylinux1_x86_64.whl (402 kB)\n",
      "Collecting cloudpickle==1.6.0\n",
      "  Using cached cloudpickle-1.6.0-py3-none-any.whl (23 kB)\n",
      "Collecting defusedxml==0.7.1\n",
      "  Using cached defusedxml-0.7.1-py2.py3-none-any.whl (25 kB)\n",
      "Collecting dill==0.3.4\n",
      "  Using cached dill-0.3.4-py2.py3-none-any.whl (86 kB)\n",
      "Collecting ipython==7.26.0\n",
      "  Using cached ipython-7.26.0-py3-none-any.whl (786 kB)\n",
      "Collecting pydeprecate==0.3.1\n",
      "  Using cached pyDeprecate-0.3.1-py3-none-any.whl (10 kB)\n",
      "Collecting pytorch-lightning==1.4.0\n",
      "  Using cached pytorch_lightning-1.4.0-py3-none-any.whl (913 kB)\n",
      "Collecting scipy==1.7.1\n",
      "  Using cached scipy-1.7.1-cp37-cp37m-manylinux_2_5_x86_64.manylinux1_x86_64.whl (28.5 MB)\n",
      "Collecting torch==1.9.0\n",
      "  Using cached torch-1.9.0-cp37-cp37m-manylinux1_x86_64.whl (831.4 MB)\n",
      "Collecting torchvision==0.10.0\n",
      "  Using cached torchvision-0.10.0-cp37-cp37m-manylinux1_x86_64.whl (22.1 MB)\n",
      "Collecting mlserver==0.4.1.dev1\n",
      "  Using cached mlserver-0.4.1.dev1-py3-none-any.whl (63 kB)\n",
      "Collecting mlserver-mlflow==0.4.1.dev1\n",
      "  Using cached mlserver_mlflow-0.4.1.dev1-py3-none-any.whl (8.6 kB)\n",
      "Requirement already satisfied: wheel<1.0,>=0.23.0 in /home/sa/miniconda3/envs/tempo-74889c69-e5a7-499d-9d10-867b916d697c/lib/python3.7/site-packages (from astunparse==1.6.3->-r /tmp/condaenv.hfliozx3.requirements.txt (line 2)) (0.37.0)\n",
      "Collecting six<2.0,>=1.6.1\n",
      "  Using cached six-1.16.0-py2.py3-none-any.whl (11 kB)\n",
      "Collecting pycparser\n",
      "  Using cached pycparser-2.20-py2.py3-none-any.whl (112 kB)\n",
      "Requirement already satisfied: setuptools>=18.5 in /home/sa/miniconda3/envs/tempo-74889c69-e5a7-499d-9d10-867b916d697c/lib/python3.7/site-packages (from ipython==7.26.0->-r /tmp/condaenv.hfliozx3.requirements.txt (line 7)) (57.4.0)\n",
      "Collecting pickleshare\n",
      "  Using cached pickleshare-0.7.5-py2.py3-none-any.whl (6.9 kB)\n",
      "Collecting traitlets>=4.2\n",
      "  Using cached traitlets-5.1.0-py3-none-any.whl (101 kB)\n",
      "Collecting decorator\n",
      "  Using cached decorator-5.0.9-py3-none-any.whl (8.9 kB)\n",
      "Collecting jedi>=0.16\n",
      "  Using cached jedi-0.18.0-py2.py3-none-any.whl (1.4 MB)\n",
      "Collecting pygments\n",
      "  Using cached Pygments-2.10.0-py3-none-any.whl (1.0 MB)\n",
      "Collecting pexpect>4.3\n",
      "  Using cached pexpect-4.8.0-py2.py3-none-any.whl (59 kB)\n",
      "Collecting matplotlib-inline\n",
      "  Using cached matplotlib_inline-0.1.2-py3-none-any.whl (8.2 kB)\n",
      "Collecting prompt-toolkit!=3.0.0,!=3.0.1,<3.1.0,>=2.0.0\n",
      "  Using cached prompt_toolkit-3.0.20-py3-none-any.whl (370 kB)\n",
      "Collecting backcall\n",
      "  Using cached backcall-0.2.0-py2.py3-none-any.whl (11 kB)\n",
      "Collecting tqdm>=4.41.0\n",
      "  Using cached tqdm-4.62.2-py2.py3-none-any.whl (76 kB)\n",
      "Collecting tensorboard!=2.5.0,>=2.2.0\n",
      "  Using cached tensorboard-2.6.0-py3-none-any.whl (5.6 MB)\n",
      "Collecting torchmetrics>=0.4.0\n",
      "  Using cached torchmetrics-0.5.1-py3-none-any.whl (282 kB)\n",
      "Collecting packaging>=17.0\n",
      "  Using cached packaging-21.0-py3-none-any.whl (40 kB)\n",
      "Collecting numpy>=1.17.2\n",
      "  Using cached numpy-1.21.2-cp37-cp37m-manylinux_2_12_x86_64.manylinux2010_x86_64.whl (15.7 MB)\n",
      "Collecting PyYAML>=5.1\n",
      "  Using cached PyYAML-5.4.1-cp37-cp37m-manylinux1_x86_64.whl (636 kB)\n",
      "Collecting typing-extensions\n",
      "  Using cached typing_extensions-3.10.0.2-py3-none-any.whl (26 kB)\n",
      "Collecting fsspec[http]!=2021.06.0,>=2021.05.0\n",
      "  Using cached fsspec-2021.8.1-py3-none-any.whl (119 kB)\n",
      "Collecting future>=0.17.1\n",
      "  Using cached future-0.18.2-py3-none-any.whl\n",
      "Collecting pillow>=5.3.0\n",
      "  Using cached Pillow-8.3.2-cp37-cp37m-manylinux_2_17_x86_64.manylinux2014_x86_64.whl (3.0 MB)\n",
      "Collecting pandas\n",
      "  Using cached pandas-1.3.2-cp37-cp37m-manylinux_2_17_x86_64.manylinux2014_x86_64.whl (11.3 MB)\n",
      "Collecting uvicorn\n",
      "  Using cached uvicorn-0.15.0-py3-none-any.whl (54 kB)\n",
      "Collecting protobuf\n",
      "  Using cached protobuf-3.17.3-cp37-cp37m-manylinux_2_5_x86_64.manylinux1_x86_64.whl (1.0 MB)\n",
      "Collecting click\n",
      "  Using cached click-8.0.1-py3-none-any.whl (97 kB)\n",
      "Collecting fastapi\n",
      "  Using cached fastapi-0.68.1-py3-none-any.whl (52 kB)\n",
      "Collecting orjson\n",
      "  Using cached orjson-3.6.3-cp37-cp37m-manylinux_2_24_x86_64.whl (234 kB)\n",
      "Collecting grpcio\n",
      "  Using cached grpcio-1.39.0-cp37-cp37m-manylinux2014_x86_64.whl (4.3 MB)\n",
      "Collecting gunicorn\n",
      "  Using cached gunicorn-20.1.0-py3-none-any.whl (79 kB)\n",
      "Collecting databricks-cli>=0.8.7\n",
      "  Using cached databricks_cli-0.15.0-py3-none-any.whl\n",
      "Collecting alembic<=1.4.1\n",
      "  Using cached alembic-1.4.1-py2.py3-none-any.whl\n",
      "Collecting entrypoints\n",
      "  Using cached entrypoints-0.3-py2.py3-none-any.whl (11 kB)\n",
      "Collecting Flask\n",
      "  Using cached Flask-2.0.1-py3-none-any.whl (94 kB)\n",
      "Collecting requests>=2.17.3\n",
      "  Using cached requests-2.26.0-py2.py3-none-any.whl (62 kB)\n",
      "Collecting prometheus-flask-exporter\n",
      "  Using cached prometheus_flask_exporter-0.18.2-py3-none-any.whl\n",
      "Collecting querystring-parser\n",
      "  Using cached querystring_parser-1.2.4-py2.py3-none-any.whl (7.9 kB)\n",
      "Collecting sqlparse>=0.3.1\n",
      "  Using cached sqlparse-0.4.1-py3-none-any.whl (42 kB)\n",
      "Collecting gitpython>=2.1.0\n",
      "  Using cached GitPython-3.1.18-py3-none-any.whl (170 kB)\n",
      "Collecting sqlalchemy\n",
      "  Using cached SQLAlchemy-1.4.23-cp37-cp37m-manylinux_2_5_x86_64.manylinux1_x86_64.manylinux_2_17_x86_64.manylinux2014_x86_64.whl (1.5 MB)\n",
      "Collecting importlib-metadata!=4.7.0,>=3.7.0\n",
      "  Using cached importlib_metadata-4.8.1-py3-none-any.whl (17 kB)\n",
      "Collecting docker>=4.0.0\n",
      "  Using cached docker-5.0.2-py2.py3-none-any.whl (145 kB)\n",
      "Collecting pytz\n",
      "  Using cached pytz-2021.1-py2.py3-none-any.whl (510 kB)\n",
      "Collecting python-editor>=0.3\n",
      "  Using cached python_editor-1.0.4-py3-none-any.whl (4.9 kB)\n",
      "Collecting Mako\n",
      "  Using cached Mako-1.1.5-py2.py3-none-any.whl (75 kB)\n",
      "Collecting python-dateutil\n",
      "  Using cached python_dateutil-2.8.2-py2.py3-none-any.whl (247 kB)\n",
      "Collecting tabulate>=0.7.7\n",
      "  Using cached tabulate-0.8.9-py3-none-any.whl (25 kB)\n",
      "Collecting websocket-client>=0.32.0\n",
      "  Using cached websocket_client-1.2.1-py2.py3-none-any.whl (52 kB)\n",
      "Collecting aiohttp\n",
      "  Using cached aiohttp-3.7.4.post0-cp37-cp37m-manylinux2014_x86_64.whl (1.3 MB)\n",
      "Collecting gitdb<5,>=4.0.1\n",
      "  Using cached gitdb-4.0.7-py3-none-any.whl (63 kB)\n",
      "Collecting smmap<5,>=3.0.1\n",
      "  Using cached smmap-4.0.0-py2.py3-none-any.whl (24 kB)\n",
      "Collecting zipp>=0.5\n",
      "  Using cached zipp-3.5.0-py3-none-any.whl (5.7 kB)\n",
      "Collecting parso<0.9.0,>=0.8.0\n",
      "  Using cached parso-0.8.2-py2.py3-none-any.whl (94 kB)\n",
      "Collecting pyparsing>=2.0.2\n",
      "  Using cached pyparsing-2.4.7-py2.py3-none-any.whl (67 kB)\n",
      "Collecting ptyprocess>=0.5\n",
      "  Using cached ptyprocess-0.7.0-py2.py3-none-any.whl (13 kB)\n",
      "Collecting wcwidth\n",
      "  Using cached wcwidth-0.2.5-py2.py3-none-any.whl (30 kB)\n",
      "Collecting certifi>=2017.4.17\n",
      "  Using cached certifi-2021.5.30-py2.py3-none-any.whl (145 kB)\n",
      "Collecting charset-normalizer~=2.0.0\n",
      "  Using cached charset_normalizer-2.0.4-py3-none-any.whl (36 kB)\n",
      "Collecting idna<4,>=2.5\n",
      "  Using cached idna-3.2-py3-none-any.whl (59 kB)\n",
      "Collecting urllib3<1.27,>=1.21.1\n",
      "  Using cached urllib3-1.26.6-py2.py3-none-any.whl (138 kB)\n",
      "Collecting greenlet!=0.4.17\n",
      "  Using cached greenlet-1.1.1-cp37-cp37m-manylinux_2_17_x86_64.manylinux2014_x86_64.whl (143 kB)\n",
      "Collecting google-auth<2,>=1.6.3\n",
      "  Using cached google_auth-1.35.0-py2.py3-none-any.whl (152 kB)\n",
      "Collecting markdown>=2.6.8\n",
      "  Using cached Markdown-3.3.4-py3-none-any.whl (97 kB)\n",
      "Collecting google-auth-oauthlib<0.5,>=0.4.1\n",
      "  Using cached google_auth_oauthlib-0.4.6-py2.py3-none-any.whl (18 kB)\n",
      "Collecting absl-py>=0.4\n",
      "  Using cached absl_py-0.13.0-py3-none-any.whl (132 kB)\n",
      "Collecting tensorboard-plugin-wit>=1.6.0\n",
      "  Using cached tensorboard_plugin_wit-1.8.0-py3-none-any.whl (781 kB)\n",
      "Collecting tensorboard-data-server<0.7.0,>=0.6.0\n",
      "  Using cached tensorboard_data_server-0.6.1-py3-none-manylinux2010_x86_64.whl (4.9 MB)\n",
      "Collecting werkzeug>=0.11.15\n",
      "  Using cached Werkzeug-2.0.1-py3-none-any.whl (288 kB)\n",
      "Collecting rsa<5,>=3.1.4\n",
      "  Using cached rsa-4.7.2-py3-none-any.whl (34 kB)\n",
      "Collecting cachetools<5.0,>=2.0.0\n",
      "  Using cached cachetools-4.2.2-py3-none-any.whl (11 kB)\n",
      "Collecting pyasn1-modules>=0.2.1\n",
      "  Using cached pyasn1_modules-0.2.8-py2.py3-none-any.whl (155 kB)\n",
      "Collecting requests-oauthlib>=0.7.0\n",
      "  Using cached requests_oauthlib-1.3.0-py2.py3-none-any.whl (23 kB)\n",
      "Collecting pyasn1<0.5.0,>=0.4.6\n",
      "  Using cached pyasn1-0.4.8-py2.py3-none-any.whl (77 kB)\n",
      "Collecting oauthlib>=3.0.0\n",
      "  Using cached oauthlib-3.1.1-py2.py3-none-any.whl (146 kB)\n",
      "Collecting async-timeout<4.0,>=3.0\n",
      "  Using cached async_timeout-3.0.1-py3-none-any.whl (8.2 kB)\n",
      "Collecting yarl<2.0,>=1.0\n",
      "  Using cached yarl-1.6.3-cp37-cp37m-manylinux2014_x86_64.whl (294 kB)\n",
      "Collecting multidict<7.0,>=4.5\n",
      "  Using cached multidict-5.1.0-cp37-cp37m-manylinux2014_x86_64.whl (142 kB)\n",
      "Collecting chardet<5.0,>=2.0\n",
      "  Using cached chardet-4.0.0-py2.py3-none-any.whl (178 kB)\n",
      "Collecting attrs>=17.3.0\n",
      "  Using cached attrs-21.2.0-py2.py3-none-any.whl (53 kB)\n",
      "Collecting starlette==0.14.2\n",
      "  Using cached starlette-0.14.2-py3-none-any.whl (60 kB)\n",
      "Collecting pydantic!=1.7,!=1.7.1,!=1.7.2,!=1.7.3,!=1.8,!=1.8.1,<2.0.0,>=1.6.2\n",
      "  Using cached pydantic-1.8.2-cp37-cp37m-manylinux2014_x86_64.whl (10.1 MB)\n",
      "Collecting itsdangerous>=2.0\n",
      "  Using cached itsdangerous-2.0.1-py3-none-any.whl (18 kB)\n",
      "Collecting Jinja2>=3.0\n",
      "  Using cached Jinja2-3.0.1-py3-none-any.whl (133 kB)\n",
      "Collecting MarkupSafe>=2.0\n",
      "  Using cached MarkupSafe-2.0.1-cp37-cp37m-manylinux_2_5_x86_64.manylinux1_x86_64.manylinux_2_12_x86_64.manylinux2010_x86_64.whl (31 kB)\n",
      "Collecting prometheus-client\n",
      "  Using cached prometheus_client-0.11.0-py2.py3-none-any.whl (56 kB)\n",
      "Collecting asgiref>=3.4.0\n",
      "  Using cached asgiref-3.4.1-py3-none-any.whl (25 kB)\n",
      "Collecting h11>=0.8\n",
      "  Using cached h11-0.12.0-py3-none-any.whl (54 kB)\n",
      "Installing collected packages: zipp, typing-extensions, urllib3, pyasn1, MarkupSafe, importlib-metadata, idna, charset-normalizer, certifi, werkzeug, smmap, six, rsa, requests, pyasn1-modules, oauthlib, multidict, Jinja2, itsdangerous, greenlet, click, cachetools, yarl, websocket-client, tabulate, starlette, sqlalchemy, requests-oauthlib, pytz, python-editor, python-dateutil, pyparsing, pydantic, prometheus-client, numpy, Mako, h11, google-auth, gitdb, Flask, chardet, attrs, async-timeout, asgiref, wcwidth, uvicorn, traitlets, torch, tensorboard-plugin-wit, tensorboard-data-server, sqlparse, querystring-parser, PyYAML, ptyprocess, protobuf, prometheus-flask-exporter, parso, pandas, packaging, orjson, markdown, gunicorn, grpcio, google-auth-oauthlib, gitpython, fsspec, fastapi, entrypoints, docker, databricks-cli, cloudpickle, alembic, aiohttp, absl-py, tqdm, torchmetrics, tensorboard, pygments, pydeprecate, pycparser, prompt-toolkit, pillow, pickleshare, pexpect, mlserver, mlflow, matplotlib-inline, jedi, future, decorator, backcall, torchvision, scipy, pytorch-lightning, mlserver-mlflow, ipython, dill, defusedxml, cffi, astunparse\n",
      "Successfully installed Flask-2.0.1 Jinja2-3.0.1 Mako-1.1.5 MarkupSafe-2.0.1 PyYAML-5.4.1 absl-py-0.13.0 aiohttp-3.7.4.post0 alembic-1.4.1 asgiref-3.4.1 astunparse-1.6.3 async-timeout-3.0.1 attrs-21.2.0 backcall-0.2.0 cachetools-4.2.2 certifi-2021.5.30 cffi-1.14.6 chardet-4.0.0 charset-normalizer-2.0.4 click-8.0.1 cloudpickle-1.6.0 databricks-cli-0.15.0 decorator-5.0.9 defusedxml-0.7.1 dill-0.3.4 docker-5.0.2 entrypoints-0.3 fastapi-0.68.1 fsspec-2021.8.1 future-0.18.2 gitdb-4.0.7 gitpython-3.1.18 google-auth-1.35.0 google-auth-oauthlib-0.4.6 greenlet-1.1.1 grpcio-1.39.0 gunicorn-20.1.0 h11-0.12.0 idna-3.2 importlib-metadata-4.8.1 ipython-7.26.0 itsdangerous-2.0.1 jedi-0.18.0 markdown-3.3.4 matplotlib-inline-0.1.2 mlflow-1.20.2 mlserver-0.4.1.dev1 mlserver-mlflow-0.4.1.dev1 multidict-5.1.0 numpy-1.21.2 oauthlib-3.1.1 orjson-3.6.3 packaging-21.0 pandas-1.3.2 parso-0.8.2 pexpect-4.8.0 pickleshare-0.7.5 pillow-8.3.2 prometheus-client-0.11.0 prometheus-flask-exporter-0.18.2 prompt-toolkit-3.0.20 protobuf-3.17.3 ptyprocess-0.7.0 pyasn1-0.4.8 pyasn1-modules-0.2.8 pycparser-2.20 pydantic-1.8.2 pydeprecate-0.3.1 pygments-2.10.0 pyparsing-2.4.7 python-dateutil-2.8.2 python-editor-1.0.4 pytorch-lightning-1.4.0 pytz-2021.1 querystring-parser-1.2.4 requests-2.26.0 requests-oauthlib-1.3.0 rsa-4.7.2 scipy-1.7.1 six-1.16.0 smmap-4.0.0 sqlalchemy-1.4.23 sqlparse-0.4.1 starlette-0.14.2 tabulate-0.8.9 tensorboard-2.6.0 tensorboard-data-server-0.6.1 tensorboard-plugin-wit-1.8.0 torch-1.9.0 torchmetrics-0.5.1 torchvision-0.10.0 tqdm-4.62.2 traitlets-5.1.0 typing-extensions-3.10.0.2 urllib3-1.26.6 uvicorn-0.15.0 wcwidth-0.2.5 websocket-client-1.2.1 werkzeug-2.0.1 yarl-1.6.3 zipp-3.5.0\n",
      "\n",
      "done\n",
      "#\n",
      "# To activate this environment, use\n",
      "#\n",
      "#     $ conda activate tempo-74889c69-e5a7-499d-9d10-867b916d697c\n",
      "#\n",
      "# To deactivate an active environment, use\n",
      "#\n",
      "#     $ conda deactivate\n",
      "\n"
     ]
    },
    {
     "name": "stdout",
     "output_type": "stream",
     "text": [
      "Collecting packages...\n",
      "Packing environment at '/home/sa/miniconda3/envs/tempo-74889c69-e5a7-499d-9d10-867b916d697c' to '/tmp/mlflow/examples/pytorch/MNIST/mlruns/0/c478ef52c6ec4c2fbaba3ad9f788a101/artifacts/model/environment.tar.gz'\n",
      "[#############################           ] | 73% Completed | 58.6s"
     ]
    }
   ],
   "source": [
    "from tempo.serve.loader import save\n",
    "save(pytorch_mnist_model)"
   ]
  },
  {
   "cell_type": "markdown",
   "id": "bb980c06",
   "metadata": {},
   "source": [
    "## Deploy to Docker"
   ]
  },
  {
   "cell_type": "code",
   "execution_count": null,
   "id": "6163844a",
   "metadata": {},
   "outputs": [],
   "source": [
    "from tempo import deploy_local\n",
    "local_deployed_model = deploy_local(pytorch_mnist_model)"
   ]
  },
  {
   "cell_type": "code",
   "execution_count": null,
   "id": "4aac0e58",
   "metadata": {},
   "outputs": [],
   "source": [
    "local_prediction = local_deployed_model.predict(img_np)\n",
    "print(np.nonzero(local_prediction.flatten() == 0))"
   ]
  },
  {
   "cell_type": "code",
   "execution_count": null,
   "id": "734d8f98",
   "metadata": {},
   "outputs": [],
   "source": [
    "local_deployed_model.undeploy()"
   ]
  },
  {
   "cell_type": "markdown",
   "id": "908aec93",
   "metadata": {},
   "source": [
    "## Deploy to Kubernetes\n",
    "\n",
    "### Prerequisites\n",
    " \n",
    "Create a Kind Kubernetes cluster with Minio and Seldon Core installed using Ansible as described [here](https://tempo.readthedocs.io/en/latest/overview/quickstart.html#kubernetes-cluster-with-seldon-core)."
   ]
  },
  {
   "cell_type": "code",
   "execution_count": null,
   "id": "06c0eae5",
   "metadata": {},
   "outputs": [],
   "source": [
    "%cd -0"
   ]
  },
  {
   "cell_type": "code",
   "execution_count": null,
   "id": "ceef87c3",
   "metadata": {
    "scrolled": true
   },
   "outputs": [],
   "source": [
    "!kubectl apply -f k8s/rbac -n seldon"
   ]
  },
  {
   "cell_type": "markdown",
   "id": "897eecff",
   "metadata": {},
   "source": [
    "### Upload artifacts to minio"
   ]
  },
  {
   "cell_type": "code",
   "execution_count": null,
   "id": "meaning-stand",
   "metadata": {},
   "outputs": [],
   "source": [
    "from tempo.examples.minio import create_minio_rclone\n",
    "import os\n",
    "create_minio_rclone(os.getcwd()+\"/rclone.conf\")"
   ]
  },
  {
   "cell_type": "code",
   "execution_count": null,
   "id": "db26e590",
   "metadata": {},
   "outputs": [],
   "source": [
    "from tempo.serve.loader import upload\n",
    "upload(pytorch_mnist_model)"
   ]
  },
  {
   "cell_type": "code",
   "execution_count": null,
   "id": "civil-arctic",
   "metadata": {},
   "outputs": [],
   "source": [
    "from tempo.serve.metadata import SeldonCoreOptions\n",
    "runtime_options = SeldonCoreOptions(**{\n",
    "        \"remote_options\": {\n",
    "            \"namespace\": \"seldon\",\n",
    "            \"authSecretName\": \"minio-secret\"\n",
    "        }\n",
    "    })"
   ]
  },
  {
   "cell_type": "markdown",
   "id": "c135b0cd",
   "metadata": {},
   "source": [
    "### Deploy to `kind`"
   ]
  },
  {
   "cell_type": "code",
   "execution_count": null,
   "id": "binary-denial",
   "metadata": {},
   "outputs": [],
   "source": [
    "from tempo import deploy_remote\n",
    "remote_deployed_model = deploy_remote(pytorch_mnist_model, options=runtime_options)"
   ]
  },
  {
   "cell_type": "code",
   "execution_count": null,
   "id": "df699f0f",
   "metadata": {},
   "outputs": [],
   "source": [
    "remote_prediction = remote_deployed_model.predict(img_np)\n",
    "print(np.nonzero(remote_prediction.flatten() == 0))"
   ]
  },
  {
   "cell_type": "code",
   "execution_count": null,
   "id": "7107be3b",
   "metadata": {},
   "outputs": [],
   "source": [
    "remote_deployed_model.undeploy()"
   ]
  },
  {
   "cell_type": "code",
   "execution_count": null,
   "id": "906a257e",
   "metadata": {},
   "outputs": [],
   "source": []
  }
 ],
 "metadata": {
  "kernelspec": {
   "display_name": "Python 3 (ipykernel)",
   "language": "python",
   "name": "python3"
  },
  "language_info": {
   "codemirror_mode": {
    "name": "ipython",
    "version": 3
   },
   "file_extension": ".py",
   "mimetype": "text/x-python",
   "name": "python",
   "nbconvert_exporter": "python",
   "pygments_lexer": "ipython3",
   "version": "3.7.9"
  }
 },
 "nbformat": 4,
 "nbformat_minor": 5
}
