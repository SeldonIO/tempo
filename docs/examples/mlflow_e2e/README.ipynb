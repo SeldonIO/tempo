{
 "cells": [
  {
   "cell_type": "markdown",
   "id": "205e017c",
   "metadata": {},
   "source": [
    "# MLflow end-to-end example\n",
    "\n",
    "In this example we are going to build a model using `mlflow`, pack and deploy locally using `tempo` (in docker and local kubernetes cluster).\n",
    "\n",
    "We are are going to use follow the MNIST pytorch example from `mlflow`, check this [link](https://github.com/mlflow/mlflow/tree/master/examples/pytorch/MNIST) for more information.\n",
    "\n"
   ]
  },
  {
   "cell_type": "markdown",
   "id": "73af26f0",
   "metadata": {},
   "source": [
    "In this example we will:\n",
    "  * [Train MNIST Model using mlflow and pytorch](#Train-model)\n",
    "  * [Create tempo artifacts](#Save-model-environment)\n",
    "  * [Deploy Locally to Docker](#Deploy-to-Docker)\n",
    "  * [Deploy Locally to Kubernetes](#Deploy-to-Kubernetes)"
   ]
  },
  {
   "cell_type": "markdown",
   "id": "fd9d05df",
   "metadata": {},
   "source": [
    "## Prerequisites\n",
    "\n",
    "This notebooks needs to be run in the `tempo-examples` conda environment defined below. Create from project root folder:\n",
    "\n",
    "```bash\n",
    "conda env create --name tempo-examples --file conda/tempo-examples.yaml\n",
    "```"
   ]
  },
  {
   "cell_type": "markdown",
   "id": "7f5b5136",
   "metadata": {},
   "source": [
    "## Train model\n",
    "\n",
    "We train MNIST model below:\n",
    "\n",
    "### Install prerequisites"
   ]
  },
  {
   "cell_type": "code",
   "execution_count": null,
   "id": "20111971",
   "metadata": {
    "scrolled": false
   },
   "outputs": [],
   "source": [
    "!pip install mlflow 'torchvision>=0.9.1' torch==1.9.0 pytorch-lightning==1.4.0"
   ]
  },
  {
   "cell_type": "code",
   "execution_count": null,
   "id": "046994d3",
   "metadata": {},
   "outputs": [],
   "source": [
    "!rm -fr /tmp/mlflow"
   ]
  },
  {
   "cell_type": "code",
   "execution_count": null,
   "id": "fd70b7dd",
   "metadata": {},
   "outputs": [],
   "source": [
    "%cd /tmp"
   ]
  },
  {
   "cell_type": "code",
   "execution_count": null,
   "id": "222e6b62",
   "metadata": {},
   "outputs": [],
   "source": [
    "!git clone https://github.com/mlflow/mlflow.git"
   ]
  },
  {
   "cell_type": "markdown",
   "id": "372d94e2",
   "metadata": {},
   "source": [
    "### Train model using `mlflow`"
   ]
  },
  {
   "cell_type": "code",
   "execution_count": null,
   "id": "246e0b72",
   "metadata": {},
   "outputs": [],
   "source": [
    "%cd mlflow/examples/pytorch/MNIST"
   ]
  },
  {
   "cell_type": "code",
   "execution_count": null,
   "id": "555f264a",
   "metadata": {},
   "outputs": [],
   "source": [
    "!mlflow run . --no-conda"
   ]
  },
  {
   "cell_type": "code",
   "execution_count": null,
   "id": "11e93154",
   "metadata": {
    "scrolled": true
   },
   "outputs": [],
   "source": [
    "!tree -L 1 mlruns/0"
   ]
  },
  {
   "cell_type": "markdown",
   "id": "74af0c30",
   "metadata": {},
   "source": [
    "### Choose test image"
   ]
  },
  {
   "cell_type": "code",
   "execution_count": null,
   "id": "ec95f707",
   "metadata": {},
   "outputs": [],
   "source": [
    "from torchvision import datasets\n",
    "\n",
    "mnist_test = datasets.MNIST('/tmp/data', train=False, download=True)\n",
    "# change the index below to get a different image for testing\n",
    "mnist_test = list(mnist_test)[0]\n",
    "img, category = mnist_test\n",
    "display(img)\n",
    "print(category)"
   ]
  },
  {
   "cell_type": "markdown",
   "id": "af590ba3",
   "metadata": {},
   "source": [
    "### Tranform test image to numpy"
   ]
  },
  {
   "cell_type": "code",
   "execution_count": null,
   "id": "b635ae12",
   "metadata": {},
   "outputs": [],
   "source": [
    "import numpy as np\n",
    "img_np = np.asarray(img).reshape((1, 28*28)).astype(np.float32)"
   ]
  },
  {
   "cell_type": "markdown",
   "id": "55590e81",
   "metadata": {},
   "source": [
    "## Save model environment"
   ]
  },
  {
   "cell_type": "code",
   "execution_count": null,
   "id": "047f8f45",
   "metadata": {},
   "outputs": [],
   "source": [
    "import glob\n",
    "import os\n",
    "\n",
    "files = glob.glob(\"mlruns/0/*/\")\n",
    "files.sort(key=os.path.getmtime)\n",
    "\n",
    "ARTIFACTS_FOLDER = os.path.join(\n",
    "    os.getcwd(),\n",
    "    files[-1],\n",
    "    \"artifacts\",\n",
    "    \"model\"\n",
    ")\n",
    "assert os.path.exists(ARTIFACTS_FOLDER)\n",
    "print(ARTIFACTS_FOLDER)"
   ]
  },
  {
   "cell_type": "markdown",
   "id": "8901a382",
   "metadata": {},
   "source": [
    "### Define `tempo` model"
   ]
  },
  {
   "cell_type": "code",
   "execution_count": null,
   "id": "3d0bd496",
   "metadata": {},
   "outputs": [],
   "source": [
    "from tempo.serve.metadata import ModelFramework\n",
    "from tempo.serve.model import Model\n",
    "\n",
    "\n",
    "mlflow_tag = \"mlflow\"\n",
    "\n",
    "pytorch_mnist_model = Model(\n",
    "    name=\"test-pytorch-mnist\",\n",
    "    platform=ModelFramework.MLFlow,\n",
    "    local_folder=ARTIFACTS_FOLDER,\n",
    "    # if we deploy to kube, this defines where the model artifacts are stored\n",
    "    uri=\"s3://tempo/basic/mnist\",\n",
    "    description=\"A pytorch MNIST model\",\n",
    ")\n",
    "\n"
   ]
  },
  {
   "cell_type": "markdown",
   "id": "8a5b6921",
   "metadata": {},
   "source": [
    "### Save model (environment) using `tempo`\n",
    "\n",
    "Tempo hides many details required to save the model environment for `mlserver`:\n",
    "- Add required runtime dependencies\n",
    "- Create a conda pack `environment.tar.gz`"
   ]
  },
  {
   "cell_type": "code",
   "execution_count": null,
   "id": "8a25f9a1",
   "metadata": {
    "scrolled": true
   },
   "outputs": [],
   "source": [
    "from tempo.serve.loader import save\n",
    "save(pytorch_mnist_model)"
   ]
  },
  {
   "cell_type": "markdown",
   "id": "bb980c06",
   "metadata": {},
   "source": [
    "## Deploy to Docker"
   ]
  },
  {
   "cell_type": "code",
   "execution_count": null,
   "id": "6163844a",
   "metadata": {},
   "outputs": [],
   "source": [
    "from tempo import deploy_local\n",
    "local_deployed_model = deploy_local(pytorch_mnist_model)"
   ]
  },
  {
   "cell_type": "code",
   "execution_count": null,
   "id": "4aac0e58",
   "metadata": {},
   "outputs": [],
   "source": [
    "local_prediction = local_deployed_model.predict(img_np)\n",
    "print(np.nonzero(local_prediction.flatten() == 0))"
   ]
  },
  {
   "cell_type": "code",
   "execution_count": null,
   "id": "734d8f98",
   "metadata": {},
   "outputs": [],
   "source": [
    "local_deployed_model.undeploy()"
   ]
  },
  {
   "cell_type": "markdown",
   "id": "908aec93",
   "metadata": {},
   "source": [
    "## Deploy to Kubernetes\n",
    "\n",
    "### Prerequisites\n",
    " \n",
    "Create a Kind Kubernetes cluster with Minio and Seldon Core installed using Ansible as described [here](https://tempo.readthedocs.io/en/latest/overview/quickstart.html#kubernetes-cluster-with-seldon-core)."
   ]
  },
  {
   "cell_type": "code",
   "execution_count": null,
   "id": "06c0eae5",
   "metadata": {},
   "outputs": [],
   "source": [
    "%cd -0"
   ]
  },
  {
   "cell_type": "code",
   "execution_count": null,
   "id": "ceef87c3",
   "metadata": {
    "scrolled": true
   },
   "outputs": [],
   "source": [
    "!kubectl apply -f k8s/rbac -n production"
   ]
  },
  {
   "cell_type": "markdown",
   "id": "897eecff",
   "metadata": {},
   "source": [
    "### Upload artifacts to minio"
   ]
  },
  {
   "cell_type": "code",
   "execution_count": null,
   "id": "meaning-stand",
   "metadata": {},
   "outputs": [],
   "source": [
    "from tempo.examples.minio import create_minio_rclone\n",
    "import os\n",
    "create_minio_rclone(os.getcwd()+\"/rclone.conf\")"
   ]
  },
  {
   "cell_type": "code",
   "execution_count": null,
   "id": "db26e590",
   "metadata": {},
   "outputs": [],
   "source": [
    "from tempo.serve.loader import upload\n",
    "upload(pytorch_mnist_model)"
   ]
  },
  {
   "cell_type": "code",
   "execution_count": null,
   "id": "civil-arctic",
   "metadata": {},
   "outputs": [],
   "source": [
    "from tempo.serve.metadata import SeldonCoreOptions\n",
    "runtime_options = SeldonCoreOptions(**{\n",
    "        \"remote_options\": {\n",
    "            \"namespace\": \"production\",\n",
    "            \"authSecretName\": \"minio-secret\"\n",
    "        }\n",
    "    })"
   ]
  },
  {
   "cell_type": "markdown",
   "id": "c135b0cd",
   "metadata": {},
   "source": [
    "### Deploy to `kind`"
   ]
  },
  {
   "cell_type": "code",
   "execution_count": null,
   "id": "binary-denial",
   "metadata": {},
   "outputs": [],
   "source": [
    "from tempo import deploy_remote\n",
    "remote_deployed_model = deploy_remote(pytorch_mnist_model, options=runtime_options)"
   ]
  },
  {
   "cell_type": "code",
   "execution_count": null,
   "id": "df699f0f",
   "metadata": {},
   "outputs": [],
   "source": [
    "remote_prediction = remote_deployed_model.predict(img_np)\n",
    "print(np.nonzero(remote_prediction.flatten() == 0))"
   ]
  },
  {
   "cell_type": "code",
   "execution_count": null,
   "id": "7107be3b",
   "metadata": {},
   "outputs": [],
   "source": [
    "remote_deployed_model.undeploy()"
   ]
  },
  {
   "cell_type": "code",
   "execution_count": null,
   "id": "906a257e",
   "metadata": {},
   "outputs": [],
   "source": []
  }
 ],
 "metadata": {
  "kernelspec": {
   "display_name": "Python 3 (ipykernel)",
   "language": "python",
   "name": "python3"
  },
  "language_info": {
   "codemirror_mode": {
    "name": "ipython",
    "version": 3
   },
   "file_extension": ".py",
   "mimetype": "text/x-python",
   "name": "python",
   "nbconvert_exporter": "python",
   "pygments_lexer": "ipython3",
   "version": "3.7.9"
  }
 },
 "nbformat": 4,
 "nbformat_minor": 5
}
