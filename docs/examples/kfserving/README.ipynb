{
 "cells": [
  {
   "cell_type": "markdown",
   "id": "8ef410d1",
   "metadata": {},
   "source": [
    "# Deploy to KFserving\n",
    "\n",
    "![architecture](architecture.png)\n",
    "\n",
    "In this introduction we will:\n",
    "\n",
    "  * [Describe the project structure](#Project-Structure)\n",
    "  * [Train some models](#Train-Models)\n",
    "  * [Create Tempo artifacts](#Create-Tempo-Artifacts)\n",
    "  * [Run unit tests](#Unit-Tests)\n",
    "  * [Save python environment for our classifier](#Save-Classifier-Environment)\n",
    "  * [Test Locally on Docker](#Test-Locally-on-Docker)\n",
    "  * [Production on Kubernetes via Tempo](#Production-Option-1-(Deploy-to-Kubernetes-with-Tempo))\n",
    "  * [Prodiuction on Kuebrnetes via GitOps](#Production-Option-2-(Gitops))"
   ]
  },
  {
   "cell_type": "markdown",
   "id": "c86b5277",
   "metadata": {},
   "source": [
    "## Prerequisites\n",
    "\n",
    "This notebooks needs to be run in the `tempo-examples` conda environment defined below. Create from project root folder:\n",
    "\n",
    "```bash\n",
    "conda env create --name tempo-examples --file conda/tempo-examples.yaml\n",
    "```"
   ]
  },
  {
   "cell_type": "markdown",
   "id": "f12ce5e8",
   "metadata": {},
   "source": [
    "## Project Structure"
   ]
  },
  {
   "cell_type": "code",
   "execution_count": 1,
   "id": "b8ca70f9",
   "metadata": {
    "scrolled": true
   },
   "outputs": [
    {
     "name": "stdout",
     "output_type": "stream",
     "text": [
      "\u001b[01;34m.\u001b[00m\r\n",
      "├── \u001b[01;34martifacts\u001b[00m\r\n",
      "│   ├── \u001b[01;34mclassifier\u001b[00m\r\n",
      "│   ├── \u001b[01;34msklearn\u001b[00m\r\n",
      "│   └── \u001b[01;34mxgboost\u001b[00m\r\n",
      "├── \u001b[01;34mk8s\u001b[00m\r\n",
      "│   └── \u001b[01;34mrbac\u001b[00m\r\n",
      "├── \u001b[01;34msrc\u001b[00m\r\n",
      "│   ├── constants.py\r\n",
      "│   ├── data.py\r\n",
      "│   ├── tempo.py\r\n",
      "│   └── train.py\r\n",
      "└── \u001b[01;34mtests\u001b[00m\r\n",
      "    └── test_deploy.py\r\n",
      "\r\n",
      "8 directories, 5 files\r\n"
     ]
    }
   ],
   "source": [
    "!tree -P \"*.py\"  -I \"__init__.py|__pycache__\" -L 2"
   ]
  },
  {
   "cell_type": "markdown",
   "id": "b55dad4f",
   "metadata": {},
   "source": [
    "## Train Models\n",
    "\n",
    " * This section is where as a data scientist you do your work of training models and creating artfacts.\n",
    " * For this example we train sklearn and xgboost classification models for the iris dataset."
   ]
  },
  {
   "cell_type": "code",
   "execution_count": 2,
   "id": "42c20ffa",
   "metadata": {},
   "outputs": [],
   "source": [
    "import os\n",
    "from tempo.utils import logger\n",
    "import logging\n",
    "import numpy as np\n",
    "logger.setLevel(logging.ERROR)\n",
    "logging.basicConfig(level=logging.ERROR)\n",
    "ARTIFACTS_FOLDER = os.getcwd()+\"/artifacts\""
   ]
  },
  {
   "cell_type": "code",
   "execution_count": 3,
   "id": "2e2abd28",
   "metadata": {
    "code_folding": [
     0
    ]
   },
   "outputs": [],
   "source": [
    "# %load src/train.py\n",
    "from typing import Tuple\n",
    "\n",
    "import joblib\n",
    "import numpy as np\n",
    "from sklearn import datasets\n",
    "from sklearn.linear_model import LogisticRegression\n",
    "from xgboost import XGBClassifier\n",
    "\n",
    "SKLearnFolder = \"sklearn\"\n",
    "XGBoostFolder = \"xgboost\"\n",
    "\n",
    "\n",
    "def load_iris() -> Tuple[np.ndarray, np.ndarray]:\n",
    "    iris = datasets.load_iris()\n",
    "    X = iris.data  # we only take the first two features.\n",
    "    y = iris.target\n",
    "    return (X, y)\n",
    "\n",
    "\n",
    "def train_sklearn(X: np.ndarray, y: np.ndarray, artifacts_folder: str):\n",
    "    logreg = LogisticRegression(C=1e5)\n",
    "    logreg.fit(X, y)\n",
    "    logreg.predict_proba(X[0:1])\n",
    "    with open(f\"{artifacts_folder}/{SKLearnFolder}/model.joblib\", \"wb\") as f:\n",
    "        joblib.dump(logreg, f)\n",
    "\n",
    "\n",
    "def train_xgboost(X: np.ndarray, y: np.ndarray, artifacts_folder: str):\n",
    "    clf = XGBClassifier()\n",
    "    clf.fit(X, y)\n",
    "    clf.save_model(f\"{artifacts_folder}/{XGBoostFolder}/model.bst\")\n"
   ]
  },
  {
   "cell_type": "code",
   "execution_count": 4,
   "id": "aa35a350",
   "metadata": {},
   "outputs": [
    {
     "name": "stdout",
     "output_type": "stream",
     "text": [
      "[11:51:11] WARNING: ../src/learner.cc:1095: Starting in XGBoost 1.3.0, the default evaluation metric used with the objective 'multi:softprob' was changed from 'merror' to 'mlogloss'. Explicitly set eval_metric if you'd like to restore the old behavior.\n"
     ]
    },
    {
     "name": "stderr",
     "output_type": "stream",
     "text": [
      "/home/clive/anaconda3/envs/tempo-dev/lib/python3.7/site-packages/xgboost/sklearn.py:1146: UserWarning: The use of label encoder in XGBClassifier is deprecated and will be removed in a future release. To remove this warning, do the following: 1) Pass option use_label_encoder=False when constructing XGBClassifier object; and 2) Encode your labels (y) as integers starting with 0, i.e. 0, 1, 2, ..., [num_class - 1].\n",
      "  warnings.warn(label_encoder_deprecation_msg, UserWarning)\n"
     ]
    }
   ],
   "source": [
    "from src.data import IrisData\n",
    "from src.train import train_lr, train_xgb\n",
    "data = IrisData()\n",
    "\n",
    "train_lr(ARTIFACTS_FOLDER, data)\n",
    "train_xgb(ARTIFACTS_FOLDER, data)"
   ]
  },
  {
   "cell_type": "markdown",
   "id": "c396b609",
   "metadata": {},
   "source": [
    "## Create Tempo Artifacts\n"
   ]
  },
  {
   "cell_type": "code",
   "execution_count": 5,
   "id": "a8345fb6",
   "metadata": {},
   "outputs": [],
   "source": [
    "from src.tempo import get_tempo_artifacts\n",
    "classifier, sklearn_model, xgboost_model = get_tempo_artifacts(ARTIFACTS_FOLDER)"
   ]
  },
  {
   "cell_type": "code",
   "execution_count": 6,
   "id": "c0b0af26",
   "metadata": {
    "code_folding": [
     0
    ]
   },
   "outputs": [],
   "source": [
    "# %load src/tempo.py\n",
    "from typing import Tuple\n",
    "\n",
    "import numpy as np\n",
    "from src.constants import SKLearnFolder, XGBFolder, SKLearnTag, XGBoostTag\n",
    "\n",
    "from tempo.serve.metadata import ModelFramework\n",
    "from tempo.serve.model import Model\n",
    "from tempo.serve.pipeline import Pipeline, PipelineModels\n",
    "from tempo.serve.utils import pipeline\n",
    "\n",
    "\n",
    "def get_tempo_artifacts(artifacts_folder: str) -> Tuple[Pipeline, Model, Model]:\n",
    "    sklearn_model = Model(\n",
    "        name=\"test-iris-sklearn\",\n",
    "        platform=ModelFramework.SKLearn,\n",
    "        local_folder=f\"{artifacts_folder}/{SKLearnFolder}\",\n",
    "        uri=\"s3://tempo/basic/sklearn\",\n",
    "        description=\"SKLearn Iris classification model\",\n",
    "    )\n",
    "\n",
    "    xgboost_model = Model(\n",
    "        name=\"test-iris-xgboost\",\n",
    "        platform=ModelFramework.XGBoost,\n",
    "        local_folder=f\"{artifacts_folder}/{XGBFolder}\",\n",
    "        uri=\"s3://tempo/basic/xgboost\",\n",
    "        description=\"XGBoost Iris classification model\",\n",
    "    )\n",
    "\n",
    "    @pipeline(\n",
    "        name=\"classifier\",\n",
    "        uri=\"s3://tempo/basic/pipeline\",\n",
    "        local_folder=f\"{artifacts_folder}/classifier\",\n",
    "        models=PipelineModels(sklearn=sklearn_model, xgboost=xgboost_model),\n",
    "        description=\"A pipeline to use either an sklearn or xgboost model for Iris classification\",\n",
    "    )\n",
    "    def classifier(payload: np.ndarray) -> Tuple[np.ndarray, str]:\n",
    "        res1 = classifier.models.sklearn(input=payload)\n",
    "        print(res1)\n",
    "        if res1[0] == 1:\n",
    "            return res1, SKLearnTag\n",
    "        else:\n",
    "            return classifier.models.xgboost(input=payload), XGBoostTag\n",
    "\n",
    "    return classifier, sklearn_model, xgboost_model\n"
   ]
  },
  {
   "cell_type": "markdown",
   "id": "f7a0525e",
   "metadata": {},
   "source": [
    "## Unit Tests\n",
    "\n",
    " * Here we run our unit tests to ensure the orchestration works before running on the actual models."
   ]
  },
  {
   "cell_type": "code",
   "execution_count": 7,
   "id": "8159cbec",
   "metadata": {
    "code_folding": [
     0
    ]
   },
   "outputs": [],
   "source": [
    "# %load tests/test_deploy.py\n",
    "import numpy as np\n",
    "from src.tempo import get_tempo_artifacts\n",
    "from src.constants import SKLearnTag, XGBoostTag\n",
    "\n",
    "\n",
    "def test_sklearn_model_used():\n",
    "    classifier, _, _ = get_tempo_artifacts(\"\")\n",
    "    classifier.models.sklearn = lambda input: np.array([[1]])\n",
    "    res, tag = classifier(np.array([[1, 2, 3, 4]]))\n",
    "    assert res[0][0] == 1\n",
    "    assert tag == SKLearnTag\n",
    "\n",
    "\n",
    "def test_xgboost_model_used():\n",
    "    classifier, _, _ = get_tempo_artifacts(\"\")\n",
    "    classifier.models.sklearn = lambda input: np.array([[0.2]])\n",
    "    classifier.models.xgboost = lambda input: np.array([[0.1]])\n",
    "    res, tag = classifier(np.array([[1, 2, 3, 4]]))\n",
    "    assert res[0][0] == 0.1\n",
    "    assert tag == XGBoostTag\n"
   ]
  },
  {
   "cell_type": "code",
   "execution_count": 8,
   "id": "aa78ec19",
   "metadata": {},
   "outputs": [
    {
     "name": "stdout",
     "output_type": "stream",
     "text": [
      "\u001b[1m============================= test session starts ==============================\u001b[0m\n",
      "platform linux -- Python 3.7.10, pytest-6.2.0, py-1.10.0, pluggy-0.13.1\n",
      "rootdir: /home/clive/work/mlops/fork-tempo, configfile: setup.cfg\n",
      "plugins: cases-3.4.6, asyncio-0.14.0\n",
      "collected 2 items                                                              \u001b[0m\u001b[1m\n",
      "\n",
      "tests/test_deploy.py \u001b[32m.\u001b[0m\u001b[32m.\u001b[0m\u001b[32m                                                  [100%]\u001b[0m\n",
      "\n",
      "\u001b[32m============================== \u001b[32m\u001b[1m2 passed\u001b[0m\u001b[32m in 0.75s\u001b[0m\u001b[32m ===============================\u001b[0m\n"
     ]
    }
   ],
   "source": [
    "!python -m pytest tests/"
   ]
  },
  {
   "cell_type": "markdown",
   "id": "18dc6a4b",
   "metadata": {},
   "source": [
    "## Save Classifier Environment\n",
    "\n",
    " * In preparation for running our models we save the Python environment needed for the orchestration to run as defined by a `conda.yaml` in our project."
   ]
  },
  {
   "cell_type": "code",
   "execution_count": 31,
   "id": "3e1f9017",
   "metadata": {},
   "outputs": [
    {
     "name": "stdout",
     "output_type": "stream",
     "text": [
      "artifacts/classifier/conda.yaml\r\n"
     ]
    }
   ],
   "source": [
    "!ls artifacts/classifier/conda.yaml"
   ]
  },
  {
   "cell_type": "code",
   "execution_count": 10,
   "id": "3c23ab3b",
   "metadata": {},
   "outputs": [
    {
     "name": "stdout",
     "output_type": "stream",
     "text": [
      "Collecting packages...\n",
      "Packing environment at '/home/clive/anaconda3/envs/tempo-b078d4e0-48a7-4c6e-bf46-74fc623ea46a' to '/home/clive/work/mlops/fork-tempo/docs/examples/kfserving/artifacts/classifier/environment.tar.gz'\n",
      "[########################################] | 100% Completed | 13.7s\n"
     ]
    }
   ],
   "source": [
    "from tempo.serve.loader import save\n",
    "save(classifier)"
   ]
  },
  {
   "cell_type": "markdown",
   "id": "ae7a21d5",
   "metadata": {},
   "source": [
    "## Test Locally on Docker\n",
    "\n",
    " * Here we test our models using production images but running locally on Docker. This allows us to ensure the final production deployed model will behave as expected when deployed."
   ]
  },
  {
   "cell_type": "code",
   "execution_count": 32,
   "id": "a36bfb9f",
   "metadata": {},
   "outputs": [],
   "source": [
    "from tempo import deploy_local\n",
    "remote_model = deploy_local(classifier)"
   ]
  },
  {
   "cell_type": "code",
   "execution_count": 33,
   "id": "6fad9e5e",
   "metadata": {},
   "outputs": [
    {
     "name": "stdout",
     "output_type": "stream",
     "text": [
      "{'output0': array([1.], dtype=float32), 'output1': 'sklearn prediction'}\n",
      "{'output0': array([[0.97329617, 0.02412145, 0.00258233]], dtype=float32), 'output1': 'xgboost prediction'}\n"
     ]
    }
   ],
   "source": [
    "print(remote_model.predict(np.array([[0, 0, 0,0]])))\n",
    "print(remote_model.predict(np.array([[5.964,4.006,2.081,1.031]])))"
   ]
  },
  {
   "cell_type": "code",
   "execution_count": 34,
   "id": "6c6ea7c7",
   "metadata": {},
   "outputs": [],
   "source": [
    "remote_model.undeploy()"
   ]
  },
  {
   "cell_type": "markdown",
   "id": "7a91f4d7",
   "metadata": {},
   "source": [
    "## Production Option 1 (Deploy to Kubernetes with Tempo)\n",
    "\n",
    " * Here we illustrate how to run the final models in \"production\" on Kubernetes by using Tempo to deploy\n",
    " \n",
    "### Prerequisites\n",
    " \n",
    "Create a Kind Kubernetes cluster with Minio and KFserving installed using Ansible as described [here](https://tempo.readthedocs.io/en/latest/overview/quickstart.html#kubernetes-cluster-with-kfserving)."
   ]
  },
  {
   "cell_type": "code",
   "execution_count": 19,
   "id": "eacfd8cc",
   "metadata": {},
   "outputs": [
    {
     "name": "stdout",
     "output_type": "stream",
     "text": [
      "Error from server (AlreadyExists): namespaces \"production\" already exists\r\n"
     ]
    }
   ],
   "source": [
    "!kubectl create ns production"
   ]
  },
  {
   "cell_type": "code",
   "execution_count": 20,
   "id": "d8d2fb32",
   "metadata": {},
   "outputs": [
    {
     "name": "stdout",
     "output_type": "stream",
     "text": [
      "secret/minio-secret configured\r\n",
      "serviceaccount/kf-tempo configured\r\n",
      "role.rbac.authorization.k8s.io/kf-tempo unchanged\r\n",
      "rolebinding.rbac.authorization.k8s.io/tempo-pipeline-rolebinding unchanged\r\n"
     ]
    }
   ],
   "source": [
    "!kubectl apply -f k8s/rbac -n production"
   ]
  },
  {
   "cell_type": "code",
   "execution_count": 21,
   "id": "9fa80565",
   "metadata": {},
   "outputs": [],
   "source": [
    "from tempo.examples.minio import create_minio_rclone\n",
    "import os\n",
    "create_minio_rclone(os.getcwd()+\"/rclone.conf\")"
   ]
  },
  {
   "cell_type": "code",
   "execution_count": 22,
   "id": "39ff404c",
   "metadata": {},
   "outputs": [],
   "source": [
    "from tempo.serve.loader import upload\n",
    "upload(sklearn_model)\n",
    "upload(xgboost_model)\n",
    "upload(classifier)"
   ]
  },
  {
   "cell_type": "code",
   "execution_count": 23,
   "id": "5b3b03e6",
   "metadata": {},
   "outputs": [],
   "source": [
    "from tempo.serve.metadata import SeldonCoreOptions\n",
    "runtime_options = SeldonCoreOptions(**{\n",
    "        \"remote_options\": {\n",
    "            \"runtime\": \"tempo.kfserving.KFServingKubernetesRuntime\",\n",
    "            \"namespace\": \"production\",\n",
    "            \"serviceAccountName\": \"kf-tempo\"\n",
    "        }\n",
    "    })"
   ]
  },
  {
   "cell_type": "code",
   "execution_count": 24,
   "id": "363a9b61",
   "metadata": {},
   "outputs": [],
   "source": [
    "from tempo import deploy_remote\n",
    "remote_model = deploy_remote(classifier, options=runtime_options)"
   ]
  },
  {
   "cell_type": "code",
   "execution_count": 25,
   "id": "8feb662b",
   "metadata": {},
   "outputs": [
    {
     "name": "stdout",
     "output_type": "stream",
     "text": [
      "{'output0': array([1.], dtype=float32), 'output1': 'sklearn prediction'}\n",
      "{'output0': array([[0.00847207, 0.03168794, 0.95984   ]], dtype=float32), 'output1': 'xgboost prediction'}\n"
     ]
    }
   ],
   "source": [
    "print(remote_model.predict(payload=np.array([[0, 0, 0, 0]])))\n",
    "print(remote_model.predict(payload=np.array([[1, 2, 3, 4]])))"
   ]
  },
  {
   "cell_type": "markdown",
   "id": "3b8e8ca4",
   "metadata": {},
   "source": [
    "### Illustrate client using model remotely\n",
    "\n",
    "With the Kubernetes runtime one can list running models on the Kubernetes cluster and instantiate a RemoteModel to call the Tempo model."
   ]
  },
  {
   "cell_type": "code",
   "execution_count": 26,
   "id": "adc7dc37",
   "metadata": {},
   "outputs": [
    {
     "name": "stdout",
     "output_type": "stream",
     "text": [
      "Name\tDescription\n",
      "classifier\tA pipeline to use either an sklearn or xgboost model for Iris classification\n",
      "test-iris-sklearn\tSKLearn Iris classification model\n",
      "test-iris-xgboost\tXGBoost Iris classification model\n"
     ]
    }
   ],
   "source": [
    "from tempo.kfserving.k8s import KFServingKubernetesRuntime\n",
    "k8s_runtime = KFServingKubernetesRuntime(runtime_options.remote_options)\n",
    "models = k8s_runtime.list_models(namespace=\"production\")\n",
    "print(\"Name\\tDescription\")\n",
    "for model in models:\n",
    "    details = model.get_tempo().model_spec.model_details\n",
    "    print(f\"{details.name}\\t{details.description}\")"
   ]
  },
  {
   "cell_type": "code",
   "execution_count": 27,
   "id": "3e1903eb",
   "metadata": {},
   "outputs": [
    {
     "data": {
      "text/plain": [
       "{'output0': array([[0.00847207, 0.03168794, 0.95984   ]], dtype=float32),\n",
       " 'output1': 'xgboost prediction'}"
      ]
     },
     "execution_count": 27,
     "metadata": {},
     "output_type": "execute_result"
    }
   ],
   "source": [
    "models[0].predict(payload=np.array([[1, 2, 3, 4]]))"
   ]
  },
  {
   "cell_type": "code",
   "execution_count": 28,
   "id": "0c5b7b61",
   "metadata": {},
   "outputs": [],
   "source": [
    "remote_model.undeploy()"
   ]
  },
  {
   "cell_type": "markdown",
   "id": "efd7205b",
   "metadata": {},
   "source": [
    "## Production Option 2 (Gitops)\n",
    "\n",
    " * We create yaml to provide to our DevOps team to deploy to a production cluster\n",
    " * We add Kustomize patches to modify the base Kubernetes yaml created by Tempo"
   ]
  },
  {
   "cell_type": "code",
   "execution_count": 29,
   "id": "69ee5f4a",
   "metadata": {},
   "outputs": [],
   "source": [
    "from tempo import manifest\n",
    "from tempo.serve.metadata import SeldonCoreOptions\n",
    "runtime_options = SeldonCoreOptions(**{\n",
    "        \"remote_options\": {\n",
    "            \"runtime\": \"tempo.kfserving.KFServingKubernetesRuntime\",\n",
    "            \"namespace\": \"production\",\n",
    "            \"serviceAccountName\": \"kf-tempo\"\n",
    "        }\n",
    "    })\n",
    "yaml_str = manifest(classifier, options=runtime_options)\n",
    "with open(os.getcwd()+\"/k8s/tempo.yaml\",\"w\") as f:\n",
    "    f.write(yaml_str)"
   ]
  },
  {
   "cell_type": "code",
   "execution_count": 30,
   "id": "748bd754",
   "metadata": {},
   "outputs": [
    {
     "name": "stdout",
     "output_type": "stream",
     "text": [
      "apiVersion: serving.kubeflow.org/v1beta1\r\n",
      "kind: InferenceService\r\n",
      "metadata:\r\n",
      "  annotations:\r\n",
      "    seldon.io/tempo-description: A pipeline to use either an sklearn or xgboost model\r\n",
      "      for Iris classification\r\n",
      "    seldon.io/tempo-model: '{\"model_details\": {\"name\": \"classifier\", \"local_folder\":\r\n",
      "      \"/home/clive/work/mlops/fork-tempo/docs/examples/kfserving/artifacts/classifier\",\r\n",
      "      \"uri\": \"s3://tempo/basic/pipeline\", \"platform\": \"tempo\", \"inputs\": {\"args\":\r\n",
      "      [{\"ty\": \"numpy.ndarray\", \"name\": \"payload\"}]}, \"outputs\": {\"args\": [{\"ty\": \"numpy.ndarray\",\r\n",
      "      \"name\": null}, {\"ty\": \"builtins.str\", \"name\": null}]}, \"description\": \"A pipeline\r\n",
      "      to use either an sklearn or xgboost model for Iris classification\"}, \"protocol\":\r\n",
      "      \"tempo.kfserving.protocol.KFServingV2Protocol\", \"runtime_options\": {\"runtime\":\r\n",
      "      \"tempo.kfserving.KFServingKubernetesRuntime\", \"state_options\": {\"state_type\":\r\n",
      "      \"LOCAL\", \"key_prefix\": \"\", \"host\": \"\", \"port\": \"\"}, \"insights_options\": {\"worker_endpoint\":\r\n",
      "      \"\", \"batch_size\": 1, \"parallelism\": 1, \"retries\": 3, \"window_time\": 0, \"mode_type\":\r\n",
      "      \"NONE\", \"in_asyncio\": false}, \"ingress_options\": {\"ingress\": \"tempo.ingress.istio.IstioIngress\",\r\n",
      "      \"ssl\": false, \"verify_ssl\": true}, \"replicas\": 1, \"minReplicas\": null, \"maxReplicas\":\r\n",
      "      null, \"authSecretName\": null, \"serviceAccountName\": \"kf-tempo\", \"add_svc_orchestrator\":\r\n",
      "      false, \"namespace\": \"production\"}}'\r\n",
      "  labels:\r\n",
      "    seldon.io/tempo: \"true\"\r\n",
      "  name: classifier\r\n",
      "  namespace: production\r\n",
      "spec:\r\n",
      "  predictor:\r\n",
      "    containers:\r\n",
      "    - env:\r\n",
      "      - name: STORAGE_URI\r\n",
      "        value: s3://tempo/basic/pipeline\r\n",
      "      - name: MLSERVER_HTTP_PORT\r\n",
      "        value: \"8080\"\r\n",
      "      - name: MLSERVER_GRPC_PORT\r\n",
      "        value: \"9000\"\r\n",
      "      - name: MLSERVER_MODEL_IMPLEMENTATION\r\n",
      "        value: tempo.mlserver.InferenceRuntime\r\n",
      "      - name: MLSERVER_MODEL_NAME\r\n",
      "        value: classifier\r\n",
      "      - name: MLSERVER_MODEL_URI\r\n",
      "        value: /mnt/models\r\n",
      "      - name: TEMPO_RUNTIME_OPTIONS\r\n",
      "        value: '{\"runtime\": \"tempo.kfserving.KFServingKubernetesRuntime\", \"state_options\":\r\n",
      "          {\"state_type\": \"LOCAL\", \"key_prefix\": \"\", \"host\": \"\", \"port\": \"\"}, \"insights_options\":\r\n",
      "          {\"worker_endpoint\": \"\", \"batch_size\": 1, \"parallelism\": 1, \"retries\": 3,\r\n",
      "          \"window_time\": 0, \"mode_type\": \"NONE\", \"in_asyncio\": false}, \"ingress_options\":\r\n",
      "          {\"ingress\": \"tempo.ingress.istio.IstioIngress\", \"ssl\": false, \"verify_ssl\":\r\n",
      "          true}, \"replicas\": 1, \"minReplicas\": null, \"maxReplicas\": null, \"authSecretName\":\r\n",
      "          null, \"serviceAccountName\": \"kf-tempo\", \"add_svc_orchestrator\": false, \"namespace\":\r\n",
      "          \"production\"}'\r\n",
      "      image: seldonio/mlserver:0.3.2\r\n",
      "      name: mlserver\r\n",
      "      resources:\r\n",
      "        limits:\r\n",
      "          cpu: 1\r\n",
      "          memory: 1Gi\r\n",
      "        requests:\r\n",
      "          cpu: 500m\r\n",
      "          memory: 500Mi\r\n",
      "    serviceAccountName: kf-tempo\r\n",
      "---\r\n",
      "apiVersion: serving.kubeflow.org/v1beta1\r\n",
      "kind: InferenceService\r\n",
      "metadata:\r\n",
      "  annotations:\r\n",
      "    seldon.io/tempo-description: SKLearn Iris classification model\r\n",
      "    seldon.io/tempo-model: '{\"model_details\": {\"name\": \"test-iris-sklearn\", \"local_folder\":\r\n",
      "      \"/home/clive/work/mlops/fork-tempo/docs/examples/kfserving/artifacts/sklearn\",\r\n",
      "      \"uri\": \"s3://tempo/basic/sklearn\", \"platform\": \"sklearn\", \"inputs\": {\"args\":\r\n",
      "      [{\"ty\": \"numpy.ndarray\", \"name\": null}]}, \"outputs\": {\"args\": [{\"ty\": \"numpy.ndarray\",\r\n",
      "      \"name\": null}]}, \"description\": \"SKLearn Iris classification model\"}, \"protocol\":\r\n",
      "      \"tempo.kfserving.protocol.KFServingV2Protocol\", \"runtime_options\": {\"runtime\":\r\n",
      "      \"tempo.kfserving.KFServingKubernetesRuntime\", \"state_options\": {\"state_type\":\r\n",
      "      \"LOCAL\", \"key_prefix\": \"\", \"host\": \"\", \"port\": \"\"}, \"insights_options\": {\"worker_endpoint\":\r\n",
      "      \"\", \"batch_size\": 1, \"parallelism\": 1, \"retries\": 3, \"window_time\": 0, \"mode_type\":\r\n",
      "      \"NONE\", \"in_asyncio\": false}, \"ingress_options\": {\"ingress\": \"tempo.ingress.istio.IstioIngress\",\r\n",
      "      \"ssl\": false, \"verify_ssl\": true}, \"replicas\": 1, \"minReplicas\": null, \"maxReplicas\":\r\n",
      "      null, \"authSecretName\": null, \"serviceAccountName\": \"kf-tempo\", \"add_svc_orchestrator\":\r\n",
      "      false, \"namespace\": \"production\"}}'\r\n",
      "  labels:\r\n",
      "    seldon.io/tempo: \"true\"\r\n",
      "  name: test-iris-sklearn\r\n",
      "  namespace: production\r\n",
      "spec:\r\n",
      "  predictor:\r\n",
      "    serviceAccountName: kf-tempo\r\n",
      "    sklearn:\r\n",
      "      protocolVersion: v2\r\n",
      "      storageUri: s3://tempo/basic/sklearn\r\n",
      "---\r\n",
      "apiVersion: serving.kubeflow.org/v1beta1\r\n",
      "kind: InferenceService\r\n",
      "metadata:\r\n",
      "  annotations:\r\n",
      "    seldon.io/tempo-description: XGBoost Iris classification model\r\n",
      "    seldon.io/tempo-model: '{\"model_details\": {\"name\": \"test-iris-xgboost\", \"local_folder\":\r\n",
      "      \"/home/clive/work/mlops/fork-tempo/docs/examples/kfserving/artifacts/xgboost\",\r\n",
      "      \"uri\": \"s3://tempo/basic/xgboost\", \"platform\": \"xgboost\", \"inputs\": {\"args\":\r\n",
      "      [{\"ty\": \"numpy.ndarray\", \"name\": null}]}, \"outputs\": {\"args\": [{\"ty\": \"numpy.ndarray\",\r\n",
      "      \"name\": null}]}, \"description\": \"XGBoost Iris classification model\"}, \"protocol\":\r\n",
      "      \"tempo.kfserving.protocol.KFServingV2Protocol\", \"runtime_options\": {\"runtime\":\r\n",
      "      \"tempo.kfserving.KFServingKubernetesRuntime\", \"state_options\": {\"state_type\":\r\n",
      "      \"LOCAL\", \"key_prefix\": \"\", \"host\": \"\", \"port\": \"\"}, \"insights_options\": {\"worker_endpoint\":\r\n",
      "      \"\", \"batch_size\": 1, \"parallelism\": 1, \"retries\": 3, \"window_time\": 0, \"mode_type\":\r\n",
      "      \"NONE\", \"in_asyncio\": false}, \"ingress_options\": {\"ingress\": \"tempo.ingress.istio.IstioIngress\",\r\n",
      "      \"ssl\": false, \"verify_ssl\": true}, \"replicas\": 1, \"minReplicas\": null, \"maxReplicas\":\r\n",
      "      null, \"authSecretName\": null, \"serviceAccountName\": \"kf-tempo\", \"add_svc_orchestrator\":\r\n",
      "      false, \"namespace\": \"production\"}}'\r\n",
      "  labels:\r\n",
      "    seldon.io/tempo: \"true\"\r\n",
      "  name: test-iris-xgboost\r\n",
      "  namespace: production\r\n",
      "spec:\r\n",
      "  predictor:\r\n",
      "    serviceAccountName: kf-tempo\r\n",
      "    xgboost:\r\n",
      "      protocolVersion: v2\r\n",
      "      storageUri: s3://tempo/basic/xgboost\r\n"
     ]
    }
   ],
   "source": [
    "!kustomize build k8s"
   ]
  },
  {
   "cell_type": "code",
   "execution_count": null,
   "id": "11fff2db",
   "metadata": {},
   "outputs": [],
   "source": []
  }
 ],
 "metadata": {
  "kernelspec": {
   "display_name": "Python 3",
   "language": "python",
   "name": "python3"
  },
  "language_info": {
   "codemirror_mode": {
    "name": "ipython",
    "version": 3
   },
   "file_extension": ".py",
   "mimetype": "text/x-python",
   "name": "python",
   "nbconvert_exporter": "python",
   "pygments_lexer": "ipython3",
   "version": "3.7.10"
  }
 },
 "nbformat": 4,
 "nbformat_minor": 5
}
