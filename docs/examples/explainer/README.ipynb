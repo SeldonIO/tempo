{
 "cells": [
  {
   "cell_type": "markdown",
   "id": "8ef410d1",
   "metadata": {},
   "source": [
    "# Model Explainer Example\n",
    "\n",
    "![architecture](architecture.png)\n",
    "\n",
    "In this example we will:\n",
    "\n",
    "  * [Describe the project structure](#Project-Structure)\n",
    "  * [Train some models](#Train-Models)\n",
    "  * [Create Tempo artifacts](#Create-Tempo-Artifacts)\n",
    "  * [Run unit tests](#Unit-Tests)\n",
    "  * [Save python environment for our classifier](#Save-Classifier-Environment)\n",
    "  * [Test Locally on Docker](#Test-Locally-on-Docker)\n",
    "  * [Production on Kubernetes via Tempo](#Production-Option-1-(Deploy-to-Kubernetes-with-Tempo))\n",
    "  * [Prodiuction on Kuebrnetes via GitOps](#Production-Option-2-(Gitops))"
   ]
  },
  {
   "cell_type": "markdown",
   "id": "c86b5277",
   "metadata": {},
   "source": [
    "## Prerequisites\n",
    "\n",
    "This notebooks needs to be run in the `tempo-examples` conda environment defined below. Create from project root folder:\n",
    "\n",
    "```bash\n",
    "conda env create --name tempo-examples --file conda/tempo-examples.yaml\n",
    "```"
   ]
  },
  {
   "cell_type": "markdown",
   "id": "f12ce5e8",
   "metadata": {},
   "source": [
    "## Project Structure"
   ]
  },
  {
   "cell_type": "code",
   "execution_count": 1,
   "id": "b8ca70f9",
   "metadata": {
    "scrolled": true
   },
   "outputs": [
    {
     "name": "stdout",
     "output_type": "stream",
     "text": [
      "\u001b[01;34m.\u001b[00m\r\n",
      "├── \u001b[01;34martifacts\u001b[00m\r\n",
      "│   ├── \u001b[01;34mexplainer\u001b[00m\r\n",
      "│   └── \u001b[01;34mmodel\u001b[00m\r\n",
      "├── \u001b[01;34mk8s\u001b[00m\r\n",
      "│   └── \u001b[01;34mrbac\u001b[00m\r\n",
      "└── \u001b[01;34msrc\u001b[00m\r\n",
      "    ├── constants.py\r\n",
      "    ├── data.py\r\n",
      "    ├── explainer.py\r\n",
      "    ├── model.py\r\n",
      "    └── tempo.py\r\n",
      "\r\n",
      "6 directories, 5 files\r\n"
     ]
    }
   ],
   "source": [
    "!tree -P \"*.py\"  -I \"__init__.py|__pycache__\" -L 2"
   ]
  },
  {
   "cell_type": "markdown",
   "id": "b55dad4f",
   "metadata": {},
   "source": [
    "## Train Models\n",
    "\n",
    " * This section is where as a data scientist you do your work of training models and creating artfacts.\n",
    " * For this example we train sklearn and xgboost classification models for the iris dataset."
   ]
  },
  {
   "cell_type": "code",
   "execution_count": 2,
   "id": "42c20ffa",
   "metadata": {},
   "outputs": [],
   "source": [
    "import os\n",
    "import logging\n",
    "import numpy as np\n",
    "import json\n",
    "import tempo\n",
    "\n",
    "from tempo.utils import logger\n",
    "\n",
    "from src.constants import ARTIFACTS_FOLDER\n",
    "\n",
    "logger.setLevel(logging.ERROR)\n",
    "logging.basicConfig(level=logging.ERROR)"
   ]
  },
  {
   "cell_type": "code",
   "execution_count": 3,
   "id": "aa35a350",
   "metadata": {},
   "outputs": [],
   "source": [
    "from src.data import AdultData\n",
    "\n",
    "data = AdultData()"
   ]
  },
  {
   "cell_type": "code",
   "execution_count": 4,
   "id": "9bc17ab0",
   "metadata": {},
   "outputs": [
    {
     "name": "stdout",
     "output_type": "stream",
     "text": [
      "Train accuracy:  0.9656333333333333\n",
      "Test accuracy:  0.854296875\n"
     ]
    }
   ],
   "source": [
    "from src.model import train_model\n",
    "\n",
    "adult_model = train_model(ARTIFACTS_FOLDER, data)"
   ]
  },
  {
   "cell_type": "code",
   "execution_count": 5,
   "id": "7afce019",
   "metadata": {},
   "outputs": [
    {
     "data": {
      "text/plain": [
       "AnchorTabular(meta={\n",
       "  'name': 'AnchorTabular',\n",
       "  'type': ['blackbox'],\n",
       "  'explanations': ['local'],\n",
       "  'params': {'disc_perc': (25, 50, 75), 'seed': 1}}\n",
       ")"
      ]
     },
     "execution_count": 5,
     "metadata": {},
     "output_type": "execute_result"
    }
   ],
   "source": [
    "from src.explainer import train_explainer\n",
    "\n",
    "train_explainer(ARTIFACTS_FOLDER, data, adult_model)"
   ]
  },
  {
   "cell_type": "markdown",
   "id": "c396b609",
   "metadata": {},
   "source": [
    "## Create Tempo Artifacts\n"
   ]
  },
  {
   "cell_type": "code",
   "execution_count": 6,
   "id": "a8345fb6",
   "metadata": {},
   "outputs": [],
   "source": [
    "from src.tempo import create_explainer, create_adult_model\n",
    "\n",
    "sklearn_model = create_adult_model()\n",
    "Explainer = create_explainer(sklearn_model)\n",
    "explainer = Explainer()"
   ]
  },
  {
   "cell_type": "code",
   "execution_count": 7,
   "id": "c0b0af26",
   "metadata": {
    "code_folding": [
     0
    ]
   },
   "outputs": [],
   "source": [
    "# %load src/tempo.py\n",
    "import os\n",
    "\n",
    "import dill\n",
    "import numpy as np\n",
    "from alibi.utils.wrappers import ArgmaxTransformer\n",
    "from src.constants import ARTIFACTS_FOLDER, EXPLAINER_FOLDER, MODEL_FOLDER\n",
    "\n",
    "from tempo.serve.metadata import ModelFramework\n",
    "from tempo.serve.model import Model\n",
    "from tempo.serve.pipeline import PipelineModels\n",
    "from tempo.serve.utils import pipeline, predictmethod\n",
    "\n",
    "\n",
    "def create_adult_model() -> Model:\n",
    "    sklearn_model = Model(\n",
    "        name=\"income-sklearn\",\n",
    "        platform=ModelFramework.SKLearn,\n",
    "        local_folder=os.path.join(ARTIFACTS_FOLDER, MODEL_FOLDER),\n",
    "        uri=\"gs://seldon-models/test/income/model\",\n",
    "    )\n",
    "\n",
    "    return sklearn_model\n",
    "\n",
    "\n",
    "def create_explainer(model: Model):\n",
    "    @pipeline(\n",
    "        name=\"income-explainer\",\n",
    "        uri=\"s3://tempo/explainer/pipeline\",\n",
    "        local_folder=os.path.join(ARTIFACTS_FOLDER, EXPLAINER_FOLDER),\n",
    "        models=PipelineModels(sklearn=model),\n",
    "    )\n",
    "    class ExplainerPipeline(object):\n",
    "        def __init__(self):\n",
    "            pipeline = self.get_tempo()\n",
    "            models_folder = pipeline.details.local_folder\n",
    "\n",
    "            explainer_path = os.path.join(models_folder, \"explainer.dill\")\n",
    "            with open(explainer_path, \"rb\") as f:\n",
    "                self.explainer = dill.load(f)\n",
    "\n",
    "        def update_predict_fn(self, x):\n",
    "            if np.argmax(self.models.sklearn(x).shape) == 0:\n",
    "                self.explainer.predictor = self.models.sklearn\n",
    "                self.explainer.samplers[0].predictor = self.models.sklearn\n",
    "            else:\n",
    "                self.explainer.predictor = ArgmaxTransformer(self.models.sklearn)\n",
    "                self.explainer.samplers[0].predictor = ArgmaxTransformer(self.models.sklearn)\n",
    "\n",
    "        @predictmethod\n",
    "        def explain(self, payload: np.ndarray, parameters: dict) -> str:\n",
    "            print(\"Explain called with \", parameters)\n",
    "            self.update_predict_fn(payload)\n",
    "            explanation = self.explainer.explain(payload, **parameters)\n",
    "            return explanation.to_json()\n",
    "\n",
    "    # explainer = ExplainerPipeline()\n",
    "    # return sklearn_model, explainer\n",
    "    return ExplainerPipeline\n"
   ]
  },
  {
   "cell_type": "markdown",
   "id": "18dc6a4b",
   "metadata": {},
   "source": [
    "## Save Explainer\n"
   ]
  },
  {
   "cell_type": "code",
   "execution_count": 24,
   "id": "d8b75d35",
   "metadata": {},
   "outputs": [
    {
     "name": "stdout",
     "output_type": "stream",
     "text": [
      "artifacts/explainer/conda.yaml\r\n"
     ]
    }
   ],
   "source": [
    "!ls artifacts/explainer/conda.yaml"
   ]
  },
  {
   "cell_type": "code",
   "execution_count": 9,
   "id": "3c23ab3b",
   "metadata": {},
   "outputs": [
    {
     "name": "stdout",
     "output_type": "stream",
     "text": [
      "Collecting packages...\n",
      "Packing environment at '/home/clive/anaconda3/envs/tempo-27d7d340-70df-4095-92b7-b9ef722eda26' to '/home/clive/work/mlops/fork-tempo/docs/examples/explainer/artifacts/explainer/environment.tar.gz'\n",
      "[########################################] | 100% Completed | 59.8s\n"
     ]
    }
   ],
   "source": [
    "tempo.save(Explainer)"
   ]
  },
  {
   "cell_type": "markdown",
   "id": "ae7a21d5",
   "metadata": {},
   "source": [
    "## Test Locally on Docker\n",
    "\n",
    "Here we test our models using production images but running locally on Docker. This allows us to ensure the final production deployed model will behave as expected when deployed."
   ]
  },
  {
   "cell_type": "code",
   "execution_count": 10,
   "id": "a39ade59",
   "metadata": {},
   "outputs": [],
   "source": [
    "from tempo import deploy_local\n",
    "remote_model = deploy_local(explainer)"
   ]
  },
  {
   "cell_type": "code",
   "execution_count": 11,
   "id": "fb09a516",
   "metadata": {},
   "outputs": [
    {
     "name": "stdout",
     "output_type": "stream",
     "text": [
      "['Marital Status = Separated', 'Sex = Female']\n"
     ]
    }
   ],
   "source": [
    "r = json.loads(remote_model.predict(payload=data.X_test[0:1], parameters={\"threshold\":0.90}))\n",
    "print(r[\"data\"][\"anchor\"])"
   ]
  },
  {
   "cell_type": "code",
   "execution_count": 12,
   "id": "b22014e7",
   "metadata": {},
   "outputs": [
    {
     "name": "stdout",
     "output_type": "stream",
     "text": [
      "['Marital Status = Separated', 'Sex = Female', 'Capital Gain <= 0.00', 'Education = Associates', 'Age > 28.00']\n"
     ]
    }
   ],
   "source": [
    "r = json.loads(remote_model.predict(payload=data.X_test[0:1], parameters={\"threshold\":0.99}))\n",
    "print(r[\"data\"][\"anchor\"])"
   ]
  },
  {
   "cell_type": "code",
   "execution_count": 13,
   "id": "6c6ea7c7",
   "metadata": {},
   "outputs": [],
   "source": [
    "remote_model.undeploy()"
   ]
  },
  {
   "cell_type": "markdown",
   "id": "7a91f4d7",
   "metadata": {},
   "source": [
    "## Production Option 1 (Deploy to Kubernetes with Tempo)\n",
    "\n",
    " * Here we illustrate how to run the final models in \"production\" on Kubernetes by using Tempo to deploy\n",
    " \n",
    "### Prerequisites\n",
    " \n",
    "Create a Kind Kubernetes cluster with Minio and Seldon Core installed using Ansible as described [here](https://tempo.readthedocs.io/en/latest/overview/quickstart.html#kubernetes-cluster-with-seldon-core)."
   ]
  },
  {
   "cell_type": "code",
   "execution_count": 14,
   "id": "d8d2fb32",
   "metadata": {},
   "outputs": [
    {
     "name": "stdout",
     "output_type": "stream",
     "text": [
      "secret/minio-secret configured\r\n",
      "serviceaccount/tempo-pipeline unchanged\r\n",
      "role.rbac.authorization.k8s.io/tempo-pipeline unchanged\r\n",
      "rolebinding.rbac.authorization.k8s.io/tempo-pipeline-rolebinding unchanged\r\n"
     ]
    }
   ],
   "source": [
    "!kubectl apply -f k8s/rbac -n production"
   ]
  },
  {
   "cell_type": "code",
   "execution_count": 15,
   "id": "9fa80565",
   "metadata": {},
   "outputs": [],
   "source": [
    "from tempo.examples.minio import create_minio_rclone\n",
    "import os\n",
    "create_minio_rclone(os.getcwd()+\"/rclone-minio.conf\")"
   ]
  },
  {
   "cell_type": "code",
   "execution_count": 16,
   "id": "39ff404c",
   "metadata": {},
   "outputs": [],
   "source": [
    "tempo.upload(sklearn_model)\n",
    "tempo.upload(explainer)"
   ]
  },
  {
   "cell_type": "code",
   "execution_count": 17,
   "id": "c56b5ca7",
   "metadata": {},
   "outputs": [],
   "source": [
    "from tempo.serve.metadata import SeldonCoreOptions\n",
    "runtime_options = SeldonCoreOptions(**{\n",
    "        \"remote_options\": {\n",
    "            \"namespace\": \"production\",\n",
    "            \"authSecretName\": \"minio-secret\"\n",
    "        }\n",
    "    })"
   ]
  },
  {
   "cell_type": "code",
   "execution_count": 18,
   "id": "f59b1d53",
   "metadata": {},
   "outputs": [],
   "source": [
    "from tempo import deploy_remote\n",
    "remote_model = deploy_remote(explainer, options=runtime_options)"
   ]
  },
  {
   "cell_type": "code",
   "execution_count": 19,
   "id": "97b59a44",
   "metadata": {},
   "outputs": [
    {
     "name": "stdout",
     "output_type": "stream",
     "text": [
      "['Relationship = Unmarried', 'Marital Status = Separated', 'Capital Gain <= 0.00']\n"
     ]
    }
   ],
   "source": [
    "r = json.loads(remote_model.predict(payload=data.X_test[0:1], parameters={\"threshold\":0.95}))\n",
    "print(r[\"data\"][\"anchor\"])"
   ]
  },
  {
   "cell_type": "code",
   "execution_count": 20,
   "id": "c789f08b",
   "metadata": {},
   "outputs": [],
   "source": [
    "remote_model.undeploy()"
   ]
  },
  {
   "cell_type": "markdown",
   "id": "efd7205b",
   "metadata": {},
   "source": [
    "## Production Option 2 (Gitops)\n",
    "\n",
    " * We create yaml to provide to our DevOps team to deploy to a production cluster\n",
    " * We add Kustomize patches to modify the base Kubernetes yaml created by Tempo"
   ]
  },
  {
   "cell_type": "code",
   "execution_count": 9,
   "id": "e07499e4",
   "metadata": {},
   "outputs": [],
   "source": [
    "from tempo import manifest\n",
    "from tempo.serve.metadata import SeldonCoreOptions\n",
    "runtime_options = SeldonCoreOptions(**{\n",
    "        \"remote_options\": {\n",
    "            \"namespace\": \"production\",\n",
    "            \"authSecretName\": \"minio-secret\"\n",
    "        }\n",
    "    })\n",
    "yaml_str = manifest(explainer, options=runtime_options)\n",
    "with open(os.getcwd()+\"/k8s/tempo.yaml\",\"w\") as f:\n",
    "    f.write(yaml_str)"
   ]
  },
  {
   "cell_type": "code",
   "execution_count": 10,
   "id": "748bd754",
   "metadata": {},
   "outputs": [
    {
     "name": "stdout",
     "output_type": "stream",
     "text": [
      "apiVersion: machinelearning.seldon.io/v1\r\n",
      "kind: SeldonDeployment\r\n",
      "metadata:\r\n",
      "  annotations:\r\n",
      "    seldon.io/tempo-description: \"\"\r\n",
      "    seldon.io/tempo-model: '{\"model_details\": {\"name\": \"income-explainer\", \"local_folder\":\r\n",
      "      \"/home/clive/work/mlops/fork-tempo/docs/examples/explainer/artifacts/explainer\",\r\n",
      "      \"uri\": \"s3://tempo/explainer/pipeline\", \"platform\": \"tempo\", \"inputs\": {\"args\":\r\n",
      "      [{\"ty\": \"numpy.ndarray\", \"name\": \"payload\"}, {\"ty\": \"builtins.dict\", \"name\":\r\n",
      "      \"parameters\"}]}, \"outputs\": {\"args\": [{\"ty\": \"builtins.str\", \"name\": null}]},\r\n",
      "      \"description\": \"\"}, \"protocol\": \"tempo.kfserving.protocol.KFServingV2Protocol\",\r\n",
      "      \"runtime_options\": {\"runtime\": \"tempo.seldon.SeldonKubernetesRuntime\", \"state_options\":\r\n",
      "      {\"state_type\": \"LOCAL\", \"key_prefix\": \"\", \"host\": \"\", \"port\": \"\"}, \"insights_options\":\r\n",
      "      {\"worker_endpoint\": \"\", \"batch_size\": 1, \"parallelism\": 1, \"retries\": 3, \"window_time\":\r\n",
      "      0, \"mode_type\": \"NONE\", \"in_asyncio\": false}, \"ingress_options\": {\"ingress\":\r\n",
      "      \"tempo.ingress.istio.IstioIngress\", \"ssl\": false, \"verify_ssl\": true}, \"replicas\":\r\n",
      "      1, \"minReplicas\": null, \"maxReplicas\": null, \"authSecretName\": \"minio-secret\",\r\n",
      "      \"serviceAccountName\": null, \"add_svc_orchestrator\": false, \"namespace\": \"production\"}}'\r\n",
      "  labels:\r\n",
      "    seldon.io/tempo: \"true\"\r\n",
      "  name: income-explainer\r\n",
      "  namespace: production\r\n",
      "spec:\r\n",
      "  predictors:\r\n",
      "  - annotations:\r\n",
      "      seldon.io/no-engine: \"true\"\r\n",
      "    componentSpecs:\r\n",
      "    - spec:\r\n",
      "        containers:\r\n",
      "        - name: classifier\r\n",
      "          resources:\r\n",
      "            limits:\r\n",
      "              cpu: 1\r\n",
      "              memory: 1Gi\r\n",
      "            requests:\r\n",
      "              cpu: 500m\r\n",
      "              memory: 500Mi\r\n",
      "    graph:\r\n",
      "      envSecretRefName: minio-secret\r\n",
      "      implementation: TEMPO_SERVER\r\n",
      "      modelUri: s3://tempo/explainer/pipeline\r\n",
      "      name: income-explainer\r\n",
      "      serviceAccountName: tempo-pipeline\r\n",
      "      type: MODEL\r\n",
      "    name: default\r\n",
      "    replicas: 1\r\n",
      "  protocol: kfserving\r\n",
      "---\r\n",
      "apiVersion: machinelearning.seldon.io/v1\r\n",
      "kind: SeldonDeployment\r\n",
      "metadata:\r\n",
      "  annotations:\r\n",
      "    seldon.io/tempo-description: \"\"\r\n",
      "    seldon.io/tempo-model: '{\"model_details\": {\"name\": \"income-sklearn\", \"local_folder\":\r\n",
      "      \"/home/clive/work/mlops/fork-tempo/docs/examples/explainer/artifacts/model\",\r\n",
      "      \"uri\": \"gs://seldon-models/test/income/model\", \"platform\": \"sklearn\", \"inputs\":\r\n",
      "      {\"args\": [{\"ty\": \"numpy.ndarray\", \"name\": null}]}, \"outputs\": {\"args\": [{\"ty\":\r\n",
      "      \"numpy.ndarray\", \"name\": null}]}, \"description\": \"\"}, \"protocol\": \"tempo.kfserving.protocol.KFServingV2Protocol\",\r\n",
      "      \"runtime_options\": {\"runtime\": \"tempo.seldon.SeldonKubernetesRuntime\", \"state_options\":\r\n",
      "      {\"state_type\": \"LOCAL\", \"key_prefix\": \"\", \"host\": \"\", \"port\": \"\"}, \"insights_options\":\r\n",
      "      {\"worker_endpoint\": \"\", \"batch_size\": 1, \"parallelism\": 1, \"retries\": 3, \"window_time\":\r\n",
      "      0, \"mode_type\": \"NONE\", \"in_asyncio\": false}, \"ingress_options\": {\"ingress\":\r\n",
      "      \"tempo.ingress.istio.IstioIngress\", \"ssl\": false, \"verify_ssl\": true}, \"replicas\":\r\n",
      "      1, \"minReplicas\": null, \"maxReplicas\": null, \"authSecretName\": \"minio-secret\",\r\n",
      "      \"serviceAccountName\": null, \"add_svc_orchestrator\": false, \"namespace\": \"production\"}}'\r\n",
      "  labels:\r\n",
      "    seldon.io/tempo: \"true\"\r\n",
      "  name: income-sklearn\r\n",
      "  namespace: production\r\n",
      "spec:\r\n",
      "  predictors:\r\n",
      "  - annotations:\r\n",
      "      seldon.io/no-engine: \"true\"\r\n",
      "    graph:\r\n",
      "      envSecretRefName: minio-secret\r\n",
      "      implementation: SKLEARN_SERVER\r\n",
      "      modelUri: gs://seldon-models/test/income/model\r\n",
      "      name: income-sklearn\r\n",
      "      type: MODEL\r\n",
      "    name: default\r\n",
      "    replicas: 1\r\n",
      "  protocol: kfserving\r\n"
     ]
    }
   ],
   "source": [
    "!kustomize build k8s"
   ]
  },
  {
   "cell_type": "code",
   "execution_count": null,
   "id": "3bffbadd",
   "metadata": {},
   "outputs": [],
   "source": []
  }
 ],
 "metadata": {
  "kernelspec": {
   "display_name": "Python 3",
   "language": "python",
   "name": "python3"
  },
  "language_info": {
   "codemirror_mode": {
    "name": "ipython",
    "version": 3
   },
   "file_extension": ".py",
   "mimetype": "text/x-python",
   "name": "python",
   "nbconvert_exporter": "python",
   "pygments_lexer": "ipython3",
   "version": "3.7.9"
  }
 },
 "nbformat": 4,
 "nbformat_minor": 5
}
