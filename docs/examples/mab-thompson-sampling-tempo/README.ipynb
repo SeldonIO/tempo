{
 "cells": [
  {
   "cell_type": "markdown",
   "metadata": {},
   "source": [
    "# Multi-Armed Bandit with State"
   ]
  },
  {
   "cell_type": "code",
   "execution_count": 1,
   "metadata": {},
   "outputs": [],
   "source": [
    "import numpy as np\n",
    "\n",
    "from tempo.serve.metadata import ModelFramework, KubernetesOptions\n",
    "from tempo.serve.model import Model\n",
    "from tempo.seldon.docker import SeldonDockerRuntime\n",
    "from tempo.kfserving.protocol import KFServingV2Protocol\n",
    "from tempo.serve.utils import pipeline, predictmethod\n",
    "from tempo.seldon.k8s import SeldonKubernetesRuntime\n",
    "from tempo.serve.utils import pipeline"
   ]
  },
  {
   "cell_type": "code",
   "execution_count": 2,
   "metadata": {},
   "outputs": [
    {
     "name": "stderr",
     "output_type": "stream",
     "text": [
      "INFO:root:test\n"
     ]
    }
   ],
   "source": [
    "import logging\n",
    "logger = logging.getLogger()\n",
    "logger.setLevel(logging.INFO)\n",
    "logging.info(\"test\")"
   ]
  },
  {
   "cell_type": "code",
   "execution_count": 3,
   "metadata": {},
   "outputs": [
    {
     "name": "stdout",
     "output_type": "stream",
     "text": [
      "Error from server (AlreadyExists): namespaces \"production\" already exists\r\n"
     ]
    }
   ],
   "source": [
    "!kubectl create ns production"
   ]
  },
  {
   "cell_type": "code",
   "execution_count": 15,
   "metadata": {},
   "outputs": [
    {
     "name": "stdout",
     "output_type": "stream",
     "text": [
      "serviceaccount/tempo-pipeline unchanged\r\n",
      "role.rbac.authorization.k8s.io/tempo-pipeline unchanged\r\n",
      "rolebinding.rbac.authorization.k8s.io/tempo-pipeline-rolebinding unchanged\r\n"
     ]
    }
   ],
   "source": [
    "!kubectl apply -f ../../../tempo/tests/testdata/tempo-pipeline-rbac.yaml -n production"
   ]
  },
  {
   "cell_type": "code",
   "execution_count": 10,
   "metadata": {},
   "outputs": [
    {
     "name": "stdout",
     "output_type": "stream",
     "text": [
      "Release \"redis\" has been upgraded. Happy Helming!\r\n",
      "NAME: redis\r\n",
      "LAST DEPLOYED: Fri Mar 19 16:55:09 2021\r\n",
      "NAMESPACE: production\r\n",
      "STATUS: deployed\r\n",
      "REVISION: 2\r\n",
      "TEST SUITE: None\r\n",
      "NOTES:\r\n",
      "** Please be patient while the chart is being deployed **\r\n",
      "\r\n",
      "Redis can be accessed via port 6379 on the following DNS names from within your cluster:\r\n",
      "\r\n",
      "redis-master.production.svc.cluster.local for read/write operations\r\n",
      "redis-slave.production.svc.cluster.local for read-only operations\r\n",
      "\r\n",
      "\r\n",
      "\r\n",
      "To connect to your Redis(TM) server:\r\n",
      "\r\n",
      "1. Run a Redis(TM) pod that you can use as a client:\r\n",
      "   kubectl run --namespace production redis-client --rm --tty -i --restart='Never' \\\r\n",
      "   \r\n",
      "   --image docker.io/bitnami/redis:6.0.10-debian-10-r1 -- bash\r\n",
      "\r\n",
      "2. Connect using the Redis(TM) CLI:\r\n",
      "   redis-cli -h redis-master\r\n",
      "   redis-cli -h redis-slave\r\n",
      "\r\n",
      "To connect to your database from outside the cluster execute the following commands:\r\n",
      "\r\n",
      "  NOTE: It may take a few minutes for the LoadBalancer IP to be available.\r\n",
      "        Watch the status with: 'kubectl get svc --namespace production -w redis'\r\n",
      "\r\n",
      "    export SERVICE_IP=$(kubectl get svc --namespace production redis --template \"{{ range (index .status.loadBalancer.ingress 0) }}{{.}}{{ end }}\")\r\n",
      "    redis-cli -h $SERVICE_IP -p 6379\r\n"
     ]
    }
   ],
   "source": [
    "!helm upgrade --install redis bitnami/redis -n production \\\n",
    "    --set usePassword=false \\\n",
    "    --set master.service.type=LoadBalancer"
   ]
  },
  {
   "cell_type": "code",
   "execution_count": 11,
   "metadata": {},
   "outputs": [
    {
     "name": "stdout",
     "output_type": "stream",
     "text": [
      "Downloading default-of-credit-card-clients-dataset.zip to /home/alejandro/Programming/kubernetes/seldon/tempo/docs/examples/mab-thompson-sampling-tempo\n",
      "100%|██████████████████████████████████████| 0.98M/0.98M [00:00<00:00, 2.78MB/s]\n",
      "100%|██████████████████████████████████████| 0.98M/0.98M [00:00<00:00, 2.77MB/s]\n",
      "Archive:  default-of-credit-card-clients-dataset.zip\n",
      "  inflating: UCI_Credit_Card.csv     \n"
     ]
    }
   ],
   "source": [
    "!kaggle datasets download -d uciml/default-of-credit-card-clients-dataset\n",
    "!unzip -o default-of-credit-card-clients-dataset.zip"
   ]
  },
  {
   "cell_type": "code",
   "execution_count": 27,
   "metadata": {},
   "outputs": [],
   "source": [
    "!mkdir -p artifacts/mab/\n",
    "!mkdir -p artifacts/mab/route/\n",
    "!mkdir -p artifacts/mab/feedback/"
   ]
  },
  {
   "cell_type": "code",
   "execution_count": 16,
   "metadata": {},
   "outputs": [],
   "source": [
    "import pandas as pd\n",
    "data = pd.read_csv('UCI_Credit_Card.csv')"
   ]
  },
  {
   "cell_type": "code",
   "execution_count": 17,
   "metadata": {},
   "outputs": [],
   "source": [
    "target = 'default.payment.next.month'"
   ]
  },
  {
   "cell_type": "code",
   "execution_count": 18,
   "metadata": {},
   "outputs": [],
   "source": [
    "import numpy as np\n",
    "from sklearn.model_selection import train_test_split\n",
    "\n",
    "OBSERVED_DATA = 15000\n",
    "TRAIN_1 = 10000\n",
    "TEST_1 = 5000\n",
    "\n",
    "REST_DATA = 15000\n",
    "\n",
    "RUN_DATA = 5000\n",
    "ROUTE_DATA = 10000\n",
    "\n",
    "# get features and target\n",
    "X = data.loc[:, data.columns!=target].values\n",
    "y = data[target].values\n",
    "\n",
    "# observed/unobserved split\n",
    "X_obs, X_rest, y_obs, y_rest = train_test_split(X, y, random_state=1, test_size=REST_DATA)\n",
    "\n",
    "# observed split into train1/test1\n",
    "X_train1, X_test1, y_train1, y_test1 = train_test_split(X_obs, y_obs, random_state=1, test_size=TEST_1)\n",
    "\n",
    "# unobserved split into run/route\n",
    "X_run, X_route, y_run, y_route = train_test_split(X_rest, y_rest, random_state=1, test_size=ROUTE_DATA)\n",
    "\n",
    "# observed+run split into train2/test2\n",
    "X_rest = np.vstack((X_run, X_route))\n",
    "y_rest = np.hstack((y_run, y_route))\n",
    "\n",
    "X_train2 = np.vstack((X_train1, X_test1))\n",
    "X_test2 = X_run\n",
    "\n",
    "y_train2 = np.hstack((y_train1, y_test1))\n",
    "y_test2 = y_run"
   ]
  },
  {
   "cell_type": "code",
   "execution_count": 7,
   "metadata": {},
   "outputs": [
    {
     "data": {
      "text/plain": [
       "RandomForestClassifier(random_state=1)"
      ]
     },
     "execution_count": 7,
     "metadata": {},
     "output_type": "execute_result"
    }
   ],
   "source": [
    "from sklearn.ensemble import RandomForestClassifier\n",
    "rf = RandomForestClassifier(random_state=1)\n",
    "rf.fit(X_train1, y_train1)"
   ]
  },
  {
   "cell_type": "code",
   "execution_count": 8,
   "metadata": {},
   "outputs": [
    {
     "name": "stderr",
     "output_type": "stream",
     "text": [
      "INFO:numexpr.utils:Note: NumExpr detected 16 cores but \"NUMEXPR_MAX_THREADS\" not set, so enforcing safe limit of 8.\n",
      "INFO:numexpr.utils:NumExpr defaulting to 8 threads.\n"
     ]
    },
    {
     "data": {
      "text/plain": [
       "XGBClassifier(base_score=0.5, booster='gbtree', colsample_bylevel=1,\n",
       "              colsample_bynode=1, colsample_bytree=1, gamma=0, gpu_id=-1,\n",
       "              importance_type='gain', interaction_constraints='',\n",
       "              learning_rate=0.300000012, max_delta_step=0, max_depth=6,\n",
       "              min_child_weight=1, missing=nan, monotone_constraints='()',\n",
       "              n_estimators=100, n_jobs=0, num_parallel_tree=1, random_state=1,\n",
       "              reg_alpha=0, reg_lambda=1, scale_pos_weight=1, subsample=1,\n",
       "              tree_method='exact', validate_parameters=1, verbosity=None)"
      ]
     },
     "execution_count": 8,
     "metadata": {},
     "output_type": "execute_result"
    }
   ],
   "source": [
    "from xgboost import XGBClassifier\n",
    "xgb = XGBClassifier(random_state=1)\n",
    "xgb.fit(X_train2, y_train2)"
   ]
  },
  {
   "cell_type": "code",
   "execution_count": 9,
   "metadata": {},
   "outputs": [],
   "source": [
    "!mkdir -p artifacts/mab/sklearn/\n",
    "!mkdir -p artifacts/mab/xgboost/"
   ]
  },
  {
   "cell_type": "code",
   "execution_count": 10,
   "metadata": {},
   "outputs": [
    {
     "data": {
      "text/plain": [
       "['artifacts/mab/sklearn/model.joblib']"
      ]
     },
     "execution_count": 10,
     "metadata": {},
     "output_type": "execute_result"
    }
   ],
   "source": [
    "import joblib\n",
    "joblib.dump(rf, 'artifacts/mab/sklearn/model.joblib')"
   ]
  },
  {
   "cell_type": "code",
   "execution_count": 11,
   "metadata": {},
   "outputs": [],
   "source": [
    "xgb.save_model('artifacts/mab/xgboost/model.bst')"
   ]
  },
  {
   "cell_type": "code",
   "execution_count": 19,
   "metadata": {},
   "outputs": [],
   "source": [
    "import os\n",
    "\n",
    "k8s_options = KubernetesOptions(namespace=\"production\")\n",
    "k8s_runtime = SeldonKubernetesRuntime(k8s_options=k8s_options)\n",
    "\n",
    "sklearn_model = Model(\n",
    "        name=\"test-iris-sklearn\",\n",
    "        runtime=k8s_runtime,\n",
    "        platform=ModelFramework.SKLearn,\n",
    "        uri=\"gs://seldon-models/mab/sklearn\",\n",
    "        local_folder=os.getcwd()+\"/artifacts/mab/sklearn\")\n",
    "\n",
    "xgboost_model = Model(\n",
    "        name=\"test-iris-xgboost\",\n",
    "        runtime=k8s_runtime,\n",
    "        platform=ModelFramework.XGBoost,\n",
    "        uri=\"gs://seldon-models/mab/xgboost\",\n",
    "        local_folder=os.getcwd()+\"/artifacts/mab/xgboost/\")"
   ]
  },
  {
   "cell_type": "code",
   "execution_count": null,
   "metadata": {},
   "outputs": [],
   "source": [
    "sklearn_model.upload()\n",
    "xgboost_model.upload()"
   ]
  },
  {
   "cell_type": "code",
   "execution_count": 20,
   "metadata": {},
   "outputs": [
    {
     "name": "stdout",
     "output_type": "stream",
     "text": [
      "env: TEMPO_STATE_REDIS_PORT=6379\n",
      "env: TEMPO_STATE_REDIS_HOST=localhost\n"
     ]
    }
   ],
   "source": [
    "%env TEMPO_STATE_REDIS_PORT=6379\n",
    "%env TEMPO_STATE_REDIS_HOST=localhost"
   ]
  },
  {
   "cell_type": "code",
   "execution_count": 23,
   "metadata": {},
   "outputs": [],
   "source": [
    "from tempo.serve.metadata import StateDetails, StateType\n",
    "\n",
    "state_details = StateDetails(\n",
    "    state_type=StateType.redis,\n",
    "    config={\"host\": \"redis-master\", \"port\": 6379})"
   ]
  },
  {
   "cell_type": "code",
   "execution_count": 25,
   "metadata": {},
   "outputs": [],
   "source": [
    "key = \"mab-pipeline-unique\""
   ]
  },
  {
   "cell_type": "code",
   "execution_count": 26,
   "metadata": {},
   "outputs": [],
   "source": [
    "k8s_runtime_v2 = SeldonKubernetesRuntime(k8s_options=k8s_options, protocol=KFServingV2Protocol())\n",
    "\n",
    "@pipeline(name=\"mab-pipeline\",\n",
    "          runtime=k8s_runtime_v2,\n",
    "          uri=\"gs://seldon-models/mab/route\",\n",
    "          local_folder=os.getcwd()+\"/artifacts/mab/route/\",\n",
    "          models=[sklearn_model, xgboost_model],\n",
    "          state_details=state_details)\n",
    "class MABRouter(object):\n",
    "\n",
    "    def _init(self):\n",
    "        self.n_branches = 2\n",
    "        self.beta_params = [1 for _ in range(self.n_branches * 2)]\n",
    "        \n",
    "        import logging\n",
    "        log = logging.getLogger(__name__)\n",
    "        log.setLevel(10)\n",
    "        self._log = log\n",
    "        \n",
    "        host = \"redis-master\"\n",
    "        import os\n",
    "        if os.environ.get(\"SELDON_LOCAL_ENVIRONMENT\"):\n",
    "            host = \"localhost\"\n",
    "            \n",
    "        self._log.info(f\"Setting up redis with host {host}\")\n",
    "            \n",
    "        import numpy as np\n",
    "        self._np = np\n",
    "        \n",
    "        self._key = key\n",
    "                \n",
    "        if not self._state.exists(self._key):\n",
    "            models_beta_params = [1 for _ in range(self.n_branches * 2)]\n",
    "            self._state.get_internal_state().lpush(self._key, *models_beta_params)\n",
    "            \n",
    "    @predictmethod\n",
    "    def route(self, payload: np.ndarray) -> np.ndarray:\n",
    "\n",
    "        if not hasattr(self, \"_is_init\") or not self._is_init:\n",
    "            self._init()\n",
    "            self._is_init = True\n",
    "        \n",
    "        models_beta_params = [float(i) for i in self._state.get_internal_state().lrange(self._key, 0, -1)]\n",
    "        branch_values = [np.random.beta(a, b) for a, b in zip(*[iter(models_beta_params)] * 2)]\n",
    "        selected_branch = np.argmax(branch_values)\n",
    "        self._log.info(f\"routing to branch: {selected_branch}\")\n",
    "        \n",
    "        if selected_branch:\n",
    "            return sklearn_model(payload)\n",
    "        else:\n",
    "            return xgboost_model(payload)"
   ]
  },
  {
   "cell_type": "code",
   "execution_count": 27,
   "metadata": {},
   "outputs": [
    {
     "name": "stdout",
     "output_type": "stream",
     "text": [
      "env: SELDON_LOCAL_ENVIRONMENT=LOCAL\n"
     ]
    }
   ],
   "source": [
    "%env SELDON_LOCAL_ENVIRONMENT=LOCAL\n",
    "\n",
    "mab_router = MABRouter()"
   ]
  },
  {
   "cell_type": "code",
   "execution_count": 28,
   "metadata": {},
   "outputs": [
    {
     "name": "stderr",
     "output_type": "stream",
     "text": [
      "INFO:__main__:Setting up redis with host localhost\n",
      "INFO:__main__:routing to branch: 1\n"
     ]
    },
    {
     "data": {
      "text/plain": [
       "array([[0.79, 0.21]])"
      ]
     },
     "execution_count": 28,
     "metadata": {},
     "output_type": "execute_result"
    }
   ],
   "source": [
    "mab_router.route(payload=X_rest[0:1])"
   ]
  },
  {
   "cell_type": "code",
   "execution_count": 147,
   "metadata": {},
   "outputs": [
    {
     "name": "stdout",
     "output_type": "stream",
     "text": [
      "Overwriting artifacts/mab/route/conda.yaml\n"
     ]
    }
   ],
   "source": [
    "%%writefile artifacts/mab/route/conda.yaml\n",
    "name: tempo\n",
    "channels:\n",
    "  - defaults\n",
    "dependencies:\n",
    "  - _libgcc_mutex=0.1=main\n",
    "  - ca-certificates=2021.1.19=h06a4308_0\n",
    "  - certifi=2020.12.5=py37h06a4308_0\n",
    "  - ld_impl_linux-64=2.33.1=h53a641e_7\n",
    "  - libedit=3.1.20191231=h14c3975_1\n",
    "  - libffi=3.3=he6710b0_2\n",
    "  - libgcc-ng=9.1.0=hdf63c60_0\n",
    "  - libstdcxx-ng=9.1.0=hdf63c60_0\n",
    "  - ncurses=6.2=he6710b0_1\n",
    "  - openssl=1.1.1j=h27cfd23_0\n",
    "  - pip=21.0.1=py37h06a4308_0\n",
    "  - python=3.7.9=h7579374_0\n",
    "  - readline=8.1=h27cfd23_0\n",
    "  - setuptools=52.0.0=py37h06a4308_0\n",
    "  - sqlite=3.33.0=h62c20be_0\n",
    "  - tk=8.6.10=hbc83047_0\n",
    "  - wheel=0.36.2=pyhd3eb1b0_0\n",
    "  - xz=5.2.5=h7b6447c_0\n",
    "  - zlib=1.2.11=h7b6447c_3\n",
    "  - pip:\n",
    "    - redis==3.5.3\n",
    "    - websocket-client==0.58.0\n",
    "    - mlops-tempo==0.1.0.dev4\n",
    "    - mlserver==0.3.1.dev5"
   ]
  },
  {
   "cell_type": "code",
   "execution_count": 41,
   "metadata": {},
   "outputs": [],
   "source": [
    "# Currently needed as \"save\" doesn't fully work after sending a request\n",
    "mab_router = MABRouter()"
   ]
  },
  {
   "cell_type": "code",
   "execution_count": 42,
   "metadata": {},
   "outputs": [],
   "source": [
    "mab_router.save(save_env=False)"
   ]
  },
  {
   "cell_type": "code",
   "execution_count": 43,
   "metadata": {},
   "outputs": [],
   "source": [
    "mab_router.upload()"
   ]
  },
  {
   "cell_type": "code",
   "execution_count": 44,
   "metadata": {},
   "outputs": [
    {
     "name": "stderr",
     "output_type": "stream",
     "text": [
      "INFO:tempo:deploying models for mab-pipeline\n"
     ]
    }
   ],
   "source": [
    "mab_router.deploy()"
   ]
  },
  {
   "cell_type": "code",
   "execution_count": null,
   "metadata": {},
   "outputs": [],
   "source": [
    "mab_router.wait_ready()"
   ]
  },
  {
   "cell_type": "code",
   "execution_count": 422,
   "metadata": {},
   "outputs": [
    {
     "data": {
      "text/plain": [
       "array([[0.79, 0.21]])"
      ]
     },
     "execution_count": 422,
     "metadata": {},
     "output_type": "execute_result"
    }
   ],
   "source": [
    "mab_router.remote(payload=X_rest[0:1])"
   ]
  },
  {
   "cell_type": "code",
   "execution_count": 29,
   "metadata": {},
   "outputs": [],
   "source": [
    "@pipeline(name=\"mab-feedback\",\n",
    "          runtime=k8s_runtime_v2,\n",
    "          local_folder=os.getcwd()+\"/artifacts/mab/feedback/\",\n",
    "          conda_env=\"tempo\",\n",
    "          uri=\"gs://seldon-models/custom\",\n",
    "          state_details=state_details)\n",
    "class MABFeedback(object):\n",
    "\n",
    "    def _init(self):\n",
    "        self.n_branches = 2\n",
    "        self.beta_params = [1 for _ in range(self.n_branches * 2)]\n",
    "        \n",
    "        import logging\n",
    "        log = logging.getLogger(__name__)\n",
    "        log.setLevel(10)\n",
    "        self._log = log\n",
    "        \n",
    "        host = \"redis-master\"\n",
    "        import os\n",
    "        if os.environ.get(\"SELDON_LOCAL_ENVIRONMENT\"):\n",
    "            host = \"localhost\"\n",
    "        \n",
    "        self._log.info(f\"Setting up redis with host {host}\")\n",
    "            \n",
    "        import numpy as np\n",
    "        self._np = np\n",
    "        \n",
    "        self._key = key\n",
    "        \n",
    "        if not self._state.exists(self._key):\n",
    "            models_beta_params = [1 for _ in range(self.n_branches * 2)]\n",
    "            self._log.info(f\"Creating new key in redis with vals: {models_beta_params}\")\n",
    "            self._state.get_internal_state().lpush(self._key, *models_beta_params)\n",
    "        else:\n",
    "            self._log.info(\"Redis key already exists\")\n",
    "\n",
    "    @predictmethod\n",
    "    def feedback(self, payload: np.ndarray, parameters: dict) -> np.ndarray:\n",
    "\n",
    "        if not hasattr(self, \"_is_init\") or not self._is_init:\n",
    "            self._init()\n",
    "            self._is_init = True\n",
    "            \n",
    "        self._log.info(f\"Feedback method with truth {payload} and parameters {parameters}\")\n",
    "                \n",
    "        reward = parameters[\"reward\"]\n",
    "        routing = parameters[\"routing\"]\n",
    "\n",
    "        self._log.info(f\"Sending feedback with route {routing} reward {reward}\")\n",
    "        \n",
    "        # Currently only support 1 feedback at a time\n",
    "        n_predictions = 1\n",
    "        n_success = int(reward * n_predictions)\n",
    "        n_failures = n_predictions - n_success\n",
    "    \n",
    "        self._log.info(f\"n_success: {n_success}, n_failures: {n_failures}\")\n",
    "\n",
    "        # Non atomic, race condition op\n",
    "        self._log.info(f\"LINDEX key {self._key} on index {routing*2}\")\n",
    "        success_val = float(self._state.get_internal_state().lindex(self._key, int(routing*2)))\n",
    "        self._state.get_internal_state().lset(self._key, int(routing*2), str(success_val + n_success))\n",
    "        fail_val = float(self._state.get_internal_state().lindex(self._key, int(routing*2 + 1)))\n",
    "        self._state.get_internal_state().lset(self._key, int(routing*2 + 1), str(fail_val + n_failures))\n",
    "        \n",
    "        return np.array([n_success, n_failures])\n",
    "        "
   ]
  },
  {
   "cell_type": "code",
   "execution_count": 30,
   "metadata": {},
   "outputs": [
    {
     "name": "stdout",
     "output_type": "stream",
     "text": [
      "env: SELDON_LOCAL_ENVIRONMENT=LOCAL\n"
     ]
    }
   ],
   "source": [
    "%env SELDON_LOCAL_ENVIRONMENT=LOCAL\n",
    "\n",
    "mab_feedback = MABFeedback()"
   ]
  },
  {
   "cell_type": "code",
   "execution_count": 31,
   "metadata": {},
   "outputs": [
    {
     "data": {
      "text/plain": [
       "array([[ 2.8590e+03,  5.0000e+05,  1.0000e+00,  1.0000e+00,  1.0000e+00,\n",
       "         4.0000e+01, -2.0000e+00, -2.0000e+00, -2.0000e+00, -2.0000e+00,\n",
       "        -2.0000e+00, -2.0000e+00,  5.2550e+03,  7.2100e+02,  1.7252e+04,\n",
       "         7.3880e+03,  6.0690e+03,  0.0000e+00,  7.2100e+02,  1.7252e+04,\n",
       "         7.4210e+03,  6.0690e+03,  0.0000e+00,  0.0000e+00]])"
      ]
     },
     "execution_count": 31,
     "metadata": {},
     "output_type": "execute_result"
    }
   ],
   "source": [
    "X_rest[0:1]"
   ]
  },
  {
   "cell_type": "code",
   "execution_count": 32,
   "metadata": {},
   "outputs": [
    {
     "name": "stderr",
     "output_type": "stream",
     "text": [
      "INFO:__main__:Setting up redis with host localhost\n",
      "INFO:__main__:Redis key already exists\n",
      "INFO:__main__:Feedback method with truth [[ 2.8590e+03  5.0000e+05  1.0000e+00  1.0000e+00  1.0000e+00  4.0000e+01\n",
      "  -2.0000e+00 -2.0000e+00 -2.0000e+00 -2.0000e+00 -2.0000e+00 -2.0000e+00\n",
      "   5.2550e+03  7.2100e+02  1.7252e+04  7.3880e+03  6.0690e+03  0.0000e+00\n",
      "   7.2100e+02  1.7252e+04  7.4210e+03  6.0690e+03  0.0000e+00  0.0000e+00]] and parameters {'reward': 1, 'routing': 0}\n",
      "INFO:__main__:Sending feedback with route 0 reward 1\n",
      "INFO:__main__:n_success: 1, n_failures: 0\n",
      "INFO:__main__:LINDEX key mab-pipeline-unique on index 0\n"
     ]
    },
    {
     "data": {
      "text/plain": [
       "array([1, 0])"
      ]
     },
     "execution_count": 32,
     "metadata": {},
     "output_type": "execute_result"
    }
   ],
   "source": [
    "mab_feedback.feedback(payload=X_rest[0:1], parameters={ \"reward\": 1, \"routing\": 0} )"
   ]
  },
  {
   "cell_type": "code",
   "execution_count": 428,
   "metadata": {},
   "outputs": [
    {
     "name": "stdout",
     "output_type": "stream",
     "text": [
      "env: SELDON_LOCAL_ENVIRONMENT=LOCAL\n"
     ]
    }
   ],
   "source": [
    "%env SELDON_LOCAL_ENVIRONMENT=LOCAL\n",
    "\n",
    "mab_feedback = MABFeedback()"
   ]
  },
  {
   "cell_type": "code",
   "execution_count": 429,
   "metadata": {},
   "outputs": [],
   "source": [
    "mab_feedback.save(save_env=False)"
   ]
  },
  {
   "cell_type": "code",
   "execution_count": 298,
   "metadata": {},
   "outputs": [],
   "source": [
    "mab_feedback.pipeline.upload()"
   ]
  },
  {
   "cell_type": "code",
   "execution_count": 299,
   "metadata": {},
   "outputs": [
    {
     "name": "stderr",
     "output_type": "stream",
     "text": [
      "INFO:tempo:deploying models for mab-feedback\n"
     ]
    }
   ],
   "source": [
    "mab_feedback.deploy()"
   ]
  },
  {
   "cell_type": "code",
   "execution_count": null,
   "metadata": {},
   "outputs": [],
   "source": [
    "mab_feedback.wait_ready()"
   ]
  },
  {
   "cell_type": "code",
   "execution_count": 424,
   "metadata": {},
   "outputs": [
    {
     "data": {
      "text/plain": [
       "array([0, 1])"
      ]
     },
     "execution_count": 424,
     "metadata": {},
     "output_type": "execute_result"
    }
   ],
   "source": [
    "mab_feedback.remote(payload=X_rest[0:1], parameters={\"reward\":0.0,\"routing\":0} )"
   ]
  },
  {
   "cell_type": "code",
   "execution_count": null,
   "metadata": {},
   "outputs": [],
   "source": []
  }
 ],
 "metadata": {
  "kernelspec": {
   "display_name": "Python 3",
   "language": "python",
   "name": "python3"
  },
  "language_info": {
   "codemirror_mode": {
    "name": "ipython",
    "version": 3
   },
   "file_extension": ".py",
   "mimetype": "text/x-python",
   "name": "python",
   "nbconvert_exporter": "python",
   "pygments_lexer": "ipython3",
<<<<<<< HEAD
   "version": "3.9.2"
=======
   "version": "3.7.4"
As the impact of data science & engineering increasingly reaches farther and wider, our professional responsibility as AI practitioners and researchers becomes more critical to society. In this talk we will cover practical steps that AI practitioners and researchers can take to ensure best practice, and mitigate undesired outcomes when designing, building and deploying AI systems.
>>>>>>> bedb437 (Added base state functionality)
  }
 },
 "nbformat": 4,
 "nbformat_minor": 4
}
