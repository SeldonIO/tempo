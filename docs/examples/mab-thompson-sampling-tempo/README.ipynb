{
 "cells": [
  {
   "cell_type": "markdown",
   "metadata": {},
   "source": [
    "# Multi-Armed Bandit with State"
   ]
  },
  {
   "cell_type": "code",
   "execution_count": 1,
   "metadata": {},
   "outputs": [
    {
     "name": "stderr",
     "output_type": "stream",
     "text": [
      "INFO:root:test\n"
     ]
    }
   ],
   "source": [
    "import logging\n",
    "logger = logging.getLogger()\n",
    "logger.setLevel(logging.INFO)\n",
    "logging.info(\"test\")"
   ]
  },
  {
   "cell_type": "code",
   "execution_count": 2,
   "metadata": {},
   "outputs": [
    {
     "name": "stdout",
     "output_type": "stream",
     "text": [
      "Downloading default-of-credit-card-clients-dataset.zip to /home/alejandro/Programming/kubernetes/seldon/tempo/docs/examples/mab-thompson-sampling-tempo\n",
      "100%|██████████████████████████████████████| 0.98M/0.98M [00:00<00:00, 2.16MB/s]\n",
      "100%|██████████████████████████████████████| 0.98M/0.98M [00:00<00:00, 2.15MB/s]\n",
      "Archive:  default-of-credit-card-clients-dataset.zip\n",
      "  inflating: UCI_Credit_Card.csv     \n"
     ]
    }
   ],
   "source": [
    "!kaggle datasets download -d uciml/default-of-credit-card-clients-dataset\n",
    "!unzip -o default-of-credit-card-clients-dataset.zip"
   ]
  },
  {
   "cell_type": "code",
   "execution_count": 3,
   "metadata": {},
   "outputs": [],
   "source": [
    "!mkdir -p artifacts/mab/\n",
    "!mkdir -p artifacts/mab/route/\n",
    "!mkdir -p artifacts/mab/feedback/"
   ]
  },
  {
   "cell_type": "code",
   "execution_count": 4,
   "metadata": {},
   "outputs": [],
   "source": [
    "import pandas as pd\n",
    "data = pd.read_csv('UCI_Credit_Card.csv')"
   ]
  },
  {
   "cell_type": "code",
   "execution_count": 5,
   "metadata": {},
   "outputs": [],
   "source": [
    "target = 'default.payment.next.month'"
   ]
  },
  {
   "cell_type": "code",
   "execution_count": 6,
   "metadata": {},
   "outputs": [],
   "source": [
    "import numpy as np\n",
    "from sklearn.model_selection import train_test_split\n",
    "\n",
    "OBSERVED_DATA = 15000\n",
    "TRAIN_1 = 10000\n",
    "TEST_1 = 5000\n",
    "\n",
    "REST_DATA = 15000\n",
    "\n",
    "RUN_DATA = 5000\n",
    "ROUTE_DATA = 10000\n",
    "\n",
    "# get features and target\n",
    "X = data.loc[:, data.columns!=target].values\n",
    "y = data[target].values\n",
    "\n",
    "# observed/unobserved split\n",
    "X_obs, X_rest, y_obs, y_rest = train_test_split(X, y, random_state=1, test_size=REST_DATA)\n",
    "\n",
    "# observed split into train1/test1\n",
    "X_train1, X_test1, y_train1, y_test1 = train_test_split(X_obs, y_obs, random_state=1, test_size=TEST_1)\n",
    "\n",
    "# unobserved split into run/route\n",
    "X_run, X_route, y_run, y_route = train_test_split(X_rest, y_rest, random_state=1, test_size=ROUTE_DATA)\n",
    "\n",
    "# observed+run split into train2/test2\n",
    "X_rest = np.vstack((X_run, X_route))\n",
    "y_rest = np.hstack((y_run, y_route))\n",
    "\n",
    "X_train2 = np.vstack((X_train1, X_test1))\n",
    "X_test2 = X_run\n",
    "\n",
    "y_train2 = np.hstack((y_train1, y_test1))\n",
    "y_test2 = y_run"
   ]
  },
  {
   "cell_type": "code",
   "execution_count": 7,
   "metadata": {},
   "outputs": [
    {
     "data": {
      "text/plain": [
       "RandomForestClassifier(random_state=1)"
      ]
     },
     "execution_count": 7,
     "metadata": {},
     "output_type": "execute_result"
    }
   ],
   "source": [
    "from sklearn.ensemble import RandomForestClassifier\n",
    "rf = RandomForestClassifier(random_state=1)\n",
    "rf.fit(X_train1, y_train1)"
   ]
  },
  {
   "cell_type": "code",
   "execution_count": 8,
   "metadata": {},
   "outputs": [
    {
     "name": "stderr",
     "output_type": "stream",
     "text": [
      "INFO:numexpr.utils:Note: NumExpr detected 16 cores but \"NUMEXPR_MAX_THREADS\" not set, so enforcing safe limit of 8.\n",
      "INFO:numexpr.utils:NumExpr defaulting to 8 threads.\n"
     ]
    },
    {
     "data": {
      "text/plain": [
       "XGBClassifier(base_score=0.5, booster='gbtree', colsample_bylevel=1,\n",
       "              colsample_bynode=1, colsample_bytree=1, gamma=0, gpu_id=-1,\n",
       "              importance_type='gain', interaction_constraints='',\n",
       "              learning_rate=0.300000012, max_delta_step=0, max_depth=6,\n",
       "              min_child_weight=1, missing=nan, monotone_constraints='()',\n",
       "              n_estimators=100, n_jobs=0, num_parallel_tree=1, random_state=1,\n",
       "              reg_alpha=0, reg_lambda=1, scale_pos_weight=1, subsample=1,\n",
       "              tree_method='exact', validate_parameters=1, verbosity=None)"
      ]
     },
     "execution_count": 8,
     "metadata": {},
     "output_type": "execute_result"
    }
   ],
   "source": [
    "from xgboost import XGBClassifier\n",
    "xgb = XGBClassifier(random_state=1)\n",
    "xgb.fit(X_train2, y_train2)"
   ]
  },
  {
   "cell_type": "code",
   "execution_count": 9,
   "metadata": {},
   "outputs": [],
   "source": [
    "!mkdir -p artifacts/mab/sklearn/\n",
    "!mkdir -p artifacts/mab/xgboost/"
   ]
  },
  {
   "cell_type": "code",
   "execution_count": 10,
   "metadata": {},
   "outputs": [
    {
     "data": {
      "text/plain": [
       "['artifacts/mab/sklearn/model.joblib']"
      ]
     },
     "execution_count": 10,
     "metadata": {},
     "output_type": "execute_result"
    }
   ],
   "source": [
    "import joblib\n",
    "joblib.dump(rf, 'artifacts/mab/sklearn/model.joblib')"
   ]
  },
  {
   "cell_type": "code",
   "execution_count": 11,
   "metadata": {},
   "outputs": [],
   "source": [
    "xgb.save_model('artifacts/mab/xgboost/model.bst')"
   ]
  },
  {
   "cell_type": "code",
   "execution_count": 12,
   "metadata": {},
   "outputs": [
    {
     "name": "stderr",
     "output_type": "stream",
     "text": [
      "INFO:tempo:Initialising Insights Manager with Args: ('', 1, 1, 3, 0)\n",
      "WARNING:tempo:Insights Manager not initialised as empty URL provided.\n",
      "INFO:tempo:Initialising Insights Manager with Args: ('', 1, 1, 3, 0)\n",
      "WARNING:tempo:Insights Manager not initialised as empty URL provided.\n"
     ]
    }
   ],
   "source": [
    "import os\n",
    "from tempo.serve.model import Model\n",
    "from tempo.serve.metadata import ModelFramework\n",
    "\n",
    "sklearn_tempo = Model(\n",
    "        name=\"test-iris-sklearn\",\n",
    "        platform=ModelFramework.SKLearn,\n",
    "        uri=\"gs://seldon-models/mab/sklearn\",\n",
    "        local_folder=os.getcwd()+\"/artifacts/mab/sklearn\")\n",
    "\n",
    "xgboost_tempo = Model(\n",
    "        name=\"test-iris-xgboost\",\n",
    "        platform=ModelFramework.XGBoost,\n",
    "        uri=\"gs://seldon-models/mab/xgboost\",\n",
    "        local_folder=os.getcwd()+\"/artifacts/mab/xgboost/\")"
   ]
  },
  {
   "cell_type": "code",
   "execution_count": 15,
   "metadata": {},
   "outputs": [],
   "source": [
    "from tempo import deploy_local\n",
    "remote_sklearn = deploy_local(sklearn_tempo)\n",
    "remote_xgboost = deploy_local(xgboost_tempo)"
   ]
  },
  {
   "cell_type": "code",
   "execution_count": 16,
   "metadata": {},
   "outputs": [
    {
     "data": {
      "text/plain": [
       "array([0])"
      ]
     },
     "execution_count": 16,
     "metadata": {},
     "output_type": "execute_result"
    }
   ],
   "source": [
    "remote_sklearn.predict(X_test2[0:1])"
   ]
  },
  {
   "cell_type": "code",
   "execution_count": 17,
   "metadata": {},
   "outputs": [
    {
     "data": {
      "text/plain": [
       "array([0.0865844], dtype=float32)"
      ]
     },
     "execution_count": 17,
     "metadata": {},
     "output_type": "execute_result"
    }
   ],
   "source": [
    "remote_xgboost.predict(X_test2[0:1])"
   ]
  },
  {
   "cell_type": "code",
   "execution_count": 18,
   "metadata": {},
   "outputs": [],
   "source": [
    "from tempo.docker.utils import deploy_redis\n",
    "\n",
    "deploy_redis()"
   ]
  },
  {
   "cell_type": "code",
   "execution_count": 19,
   "metadata": {},
   "outputs": [
    {
     "name": "stderr",
     "output_type": "stream",
     "text": [
      "INFO:tempo:Initialising Insights Manager with Args: ('', 1, 1, 3, 0)\n",
      "WARNING:tempo:Insights Manager not initialised as empty URL provided.\n"
     ]
    }
   ],
   "source": [
    "import logging\n",
    "\n",
    "import numpy as np\n",
    "from tempo.serve.utils import pipeline, predictmethod\n",
    "from tempo.serve.metadata import InsightRequestModes, SeldonCoreOptions, StateTypes\n",
    "from tempo.serve.constants import DefaultRedisLocalHost, DefaultRedisPort, DefaultRedisK8sHost\n",
    "from tempo.serve.pipeline import PipelineModels\n",
    "\n",
    "from tempo.magic import t\n",
    "\n",
    "runtime_options = SeldonCoreOptions(**{\n",
    "    \"local_options\": {\n",
    "        \"state_options\": {\n",
    "            \"state_type\": StateTypes.REDIS,\n",
    "            \"host\": DefaultRedisLocalHost,\n",
    "            \"port\": DefaultRedisPort,\n",
    "        }\n",
    "    },\n",
    "    \"remote_options\": {\n",
    "        \"state_options\": {\n",
    "            \"state_type\": StateTypes.REDIS,\n",
    "            \"host\": DefaultRedisK8sHost,\n",
    "            \"port\": DefaultRedisPort,\n",
    "        }\n",
    "    }\n",
    "})\n",
    "\n",
    "@pipeline(name=\"mab-router\",\n",
    "          runtime_options=runtime_options.local_options,\n",
    "          uri=\"s3://tempo/mab/route\",\n",
    "          local_folder=os.getcwd()+\"/artifacts/mab/router/\",\n",
    "          models=PipelineModels(sklearn=sklearn_tempo, xgboost=xgboost_tempo))\n",
    "class MABRouter(object):\n",
    "\n",
    "    def __init__(self):\n",
    "        self.n_branches = 2\n",
    "        self.beta_params = [1 for _ in range(self.n_branches * 2)]\n",
    "                            \n",
    "        logging.info(f\"Setting up MAB routing pipeline\")\n",
    "            \n",
    "        self._key = \"beta_params\"\n",
    "            \n",
    "    @predictmethod\n",
    "    def predict(self, payload: np.ndarray) -> np.ndarray:\n",
    "        \n",
    "        if not t.state.exists(self._key):\n",
    "            models_beta_params = [1 for _ in range(self.n_branches * 2)]\n",
    "            t.state.internal_state.lpush(self._key, *models_beta_params)\n",
    "        \n",
    "        models_beta_params = [float(i) for i in t.state.internal_state.lrange(self._key, 0, -1)]\n",
    "        branch_values = [np.random.beta(a, b) for a, b in zip(*[iter(models_beta_params)] * 2)]\n",
    "        selected_branch = np.argmax(branch_values)\n",
    "        logging.info(f\"routing to branch: {selected_branch}\")\n",
    "        \n",
    "        if selected_branch:\n",
    "            return self.models.xgboost(payload)\n",
    "        else:\n",
    "            return self.models.sklearn(payload)"
   ]
  },
  {
   "cell_type": "code",
   "execution_count": 20,
   "metadata": {},
   "outputs": [
    {
     "name": "stderr",
     "output_type": "stream",
     "text": [
      "INFO:root:Setting up MAB routing pipeline\n"
     ]
    }
   ],
   "source": [
    "mab_router = MABRouter()"
   ]
  },
  {
   "cell_type": "code",
   "execution_count": 21,
   "metadata": {},
   "outputs": [
    {
     "name": "stderr",
     "output_type": "stream",
     "text": [
      "INFO:root:routing to branch: 1\n",
      "INFO:root:routing to branch: 1\n",
      "INFO:root:routing to branch: 1\n",
      "INFO:root:routing to branch: 0\n",
      "INFO:root:routing to branch: 0\n",
      "INFO:root:routing to branch: 0\n"
     ]
    },
    {
     "name": "stdout",
     "output_type": "stream",
     "text": [
      "[0.0865844]\n",
      "[0.0865844]\n",
      "[0.0865844]\n",
      "[0]\n",
      "[0]\n"
     ]
    },
    {
     "name": "stderr",
     "output_type": "stream",
     "text": [
      "INFO:root:routing to branch: 0\n",
      "INFO:root:routing to branch: 0\n",
      "INFO:root:routing to branch: 0\n",
      "INFO:root:routing to branch: 1\n"
     ]
    },
    {
     "name": "stdout",
     "output_type": "stream",
     "text": [
      "[0]\n",
      "[0]\n",
      "[0]\n",
      "[0]\n",
      "[0.0865844]\n"
     ]
    }
   ],
   "source": [
    "for i in range(10):\n",
    "    print(mab_router.predict(X_test2[0:1]))"
   ]
  },
  {
   "cell_type": "code",
   "execution_count": 22,
   "metadata": {},
   "outputs": [],
   "source": [
    "from IPython.core.magic import register_line_cell_magic\n",
    "\n",
    "@register_line_cell_magic\n",
    "def writetemplate(line, cell):\n",
    "    with open(line, 'w') as f:\n",
    "        f.write(cell.format(**globals()))"
   ]
  },
  {
   "cell_type": "code",
   "execution_count": 23,
   "metadata": {},
   "outputs": [],
   "source": [
    "import os\n",
    "\n",
    "TEMPO_DIR = os.path.abspath(os.path.join(os.getcwd(), '..', '..', '..'))"
   ]
  },
  {
   "cell_type": "code",
   "execution_count": 25,
   "metadata": {},
   "outputs": [],
   "source": [
    "!mkdir -p artifacts/mab/router/"
   ]
  },
  {
   "cell_type": "code",
   "execution_count": 26,
   "metadata": {},
   "outputs": [],
   "source": [
    "%%writetemplate artifacts/mab/router/conda.yaml\n",
    "name: tempo-insights\n",
    "channels:\n",
    "  - defaults\n",
    "dependencies:\n",
    "  - pip=21.0.1\n",
    "  - python=3.7.9\n",
    "  - pip:\n",
    "    - mlops-tempo @ file://{TEMPO_DIR}\n",
    "    - mlserver==0.3.1.dev7"
   ]
  },
  {
   "cell_type": "code",
   "execution_count": 62,
   "metadata": {},
   "outputs": [
    {
     "name": "stderr",
     "output_type": "stream",
     "text": [
      "INFO:tempo:Initialising Insights Manager with Args: ('', 1, 1, 3, 0)\n",
      "WARNING:tempo:Insights Manager not initialised as empty URL provided.\n",
      "INFO:tempo:Initialising Insights Manager with Args: ('', 1, 1, 3, 0)\n",
      "WARNING:tempo:Insights Manager not initialised as empty URL provided.\n",
      "INFO:tempo:Saving environment\n",
      "INFO:tempo:Saving tempo model to /home/alejandro/Programming/kubernetes/seldon/tempo/docs/examples/mab-thompson-sampling-tempo/artifacts/mab/router/model.pickle\n"
     ]
    }
   ],
   "source": [
    "from tempo.serve.loader import save\n",
    "save(MABRouter, save_env=True)"
   ]
  },
  {
   "cell_type": "code",
   "execution_count": 32,
   "metadata": {},
   "outputs": [],
   "source": [
    "from tempo import deploy_local\n",
    "from tempo.serve.constants import DefaultRedisDockerHost\n",
    "\n",
    "runtime_options.local_options.state_options.host = DefaultRedisDockerHost\n",
    "\n",
    "remote_mab_router = deploy_local(mab_router, runtime_options)"
   ]
  },
  {
   "cell_type": "code",
   "execution_count": 33,
   "metadata": {},
   "outputs": [
    {
     "name": "stdout",
     "output_type": "stream",
     "text": [
      "[0]\n",
      "[0.0865844]\n",
      "[0.0865844]\n",
      "[0]\n",
      "[0.0865844]\n",
      "[0]\n",
      "[0]\n",
      "[0.0865844]\n",
      "[0]\n",
      "[0.0865844]\n"
     ]
    }
   ],
   "source": [
    "for i in range(10):\n",
    "    print(remote_mab_router.predict(X_test2[0:1]))"
   ]
  },
  {
   "cell_type": "code",
   "execution_count": 34,
   "metadata": {},
   "outputs": [
    {
     "name": "stderr",
     "output_type": "stream",
     "text": [
      "INFO:tempo:Initialising Insights Manager with Args: ('', 1, 1, 3, 0)\n",
      "WARNING:tempo:Insights Manager not initialised as empty URL provided.\n"
     ]
    }
   ],
   "source": [
    "@pipeline(name=\"mab-feedback\",\n",
    "          runtime_options=runtime_options.local_options,\n",
    "          uri=\"s3://tempo/mab/feedback\",\n",
    "          local_folder=os.getcwd()+\"/artifacts/mab/feedback/\")\n",
    "class MABFeedback(object):\n",
    "\n",
    "    def __init__(self):\n",
    "        self._key = \"beta_params\"\n",
    "\n",
    "    @predictmethod\n",
    "    def predict(self, payload: np.ndarray, parameters: dict) -> np.ndarray:\n",
    "            \n",
    "        logging.info(f\"Feedback method with truth {payload} and parameters {parameters}\")\n",
    "                \n",
    "        reward = parameters[\"reward\"]\n",
    "        routing = parameters[\"routing\"]\n",
    "\n",
    "        logging.info(f\"Sending feedback with route {routing} reward {reward}\")\n",
    "        \n",
    "        # Currently only support 1 feedback at a time\n",
    "        n_predictions = 1\n",
    "        n_success = int(reward * n_predictions)\n",
    "        n_failures = n_predictions - n_success\n",
    "    \n",
    "        logging.info(f\"n_success: {n_success}, n_failures: {n_failures}\")\n",
    "\n",
    "        # Non atomic, race condition op\n",
    "        logging.info(f\"LINDEX key {self._key} on index {routing*2}\")\n",
    "        success_val = float(t.state.internal_state.lindex(self._key, int(routing*2)))\n",
    "        t.state.internal_state.lset(self._key, int(routing*2), str(success_val + n_success))\n",
    "        fail_val = float(t.state.internal_state.lindex(self._key, int(routing*2 + 1)))\n",
    "        t.state.internal_state.lset(self._key, int(routing*2 + 1), str(fail_val + n_failures))\n",
    "        \n",
    "        return np.array([n_success, n_failures])\n",
    "        "
   ]
  },
  {
   "cell_type": "code",
   "execution_count": 35,
   "metadata": {},
   "outputs": [],
   "source": [
    "mab_feedback = MABFeedback()"
   ]
  },
  {
   "cell_type": "markdown",
   "metadata": {},
   "source": [
    "### Deploy Feedback Pipeline"
   ]
  },
  {
   "cell_type": "code",
   "execution_count": 36,
   "metadata": {},
   "outputs": [],
   "source": [
    "%%writetemplate artifacts/mab/feedback/conda.yaml\n",
    "name: tempo-insights\n",
    "channels:\n",
    "  - defaults\n",
    "dependencies:\n",
    "  - pip=21.0.1\n",
    "  - python=3.7.9\n",
    "  - pip:\n",
    "    - mlops-tempo @ file://{TEMPO_DIR}\n",
    "    - mlserver==0.3.1.dev7"
   ]
  },
  {
   "cell_type": "code",
   "execution_count": 63,
   "metadata": {
    "scrolled": true
   },
   "outputs": [
    {
     "name": "stderr",
     "output_type": "stream",
     "text": [
      "INFO:tempo:Saving environment\n",
      "INFO:tempo:Saving tempo model to /home/alejandro/Programming/kubernetes/seldon/tempo/docs/examples/mab-thompson-sampling-tempo/artifacts/mab/feedback/model.pickle\n"
     ]
    }
   ],
   "source": [
    "save(MABFeedback, save_env=True)"
   ]
  },
  {
   "cell_type": "code",
   "execution_count": 38,
   "metadata": {},
   "outputs": [],
   "source": [
    "remote_mab_feedback = deploy_local(mab_feedback, runtime_options)"
   ]
  },
  {
   "cell_type": "markdown",
   "metadata": {},
   "source": [
    "## Send feedback showing that route sklearn model performs better"
   ]
  },
  {
   "cell_type": "code",
   "execution_count": 39,
   "metadata": {},
   "outputs": [
    {
     "name": "stdout",
     "output_type": "stream",
     "text": [
      "[1 0]\n",
      "[1 0]\n",
      "[1 0]\n",
      "[1 0]\n",
      "[1 0]\n",
      "[1 0]\n",
      "[1 0]\n",
      "[1 0]\n",
      "[1 0]\n",
      "[1 0]\n"
     ]
    }
   ],
   "source": [
    "for i in range(10):\n",
    "    print(remote_mab_feedback.predict(payload=X_rest[0:1], parameters={ \"reward\": 1, \"routing\": 0}))"
   ]
  },
  {
   "cell_type": "markdown",
   "metadata": {},
   "source": [
    "## See now most requests being sent to sklearn model"
   ]
  },
  {
   "cell_type": "code",
   "execution_count": 40,
   "metadata": {},
   "outputs": [
    {
     "name": "stdout",
     "output_type": "stream",
     "text": [
      "[0]\n",
      "[0]\n",
      "[0]\n",
      "[0]\n",
      "[0]\n",
      "[0]\n",
      "[0]\n",
      "[0]\n",
      "[0]\n",
      "[0]\n"
     ]
    }
   ],
   "source": [
    "for i in range(10):\n",
    "    print(remote_mab_router.predict(X_test2[0:1]))"
   ]
  },
  {
   "cell_type": "markdown",
   "metadata": {},
   "source": [
    "### Now send 20 positive requests showing xgboost performing better"
   ]
  },
  {
   "cell_type": "code",
   "execution_count": 41,
   "metadata": {},
   "outputs": [
    {
     "name": "stdout",
     "output_type": "stream",
     "text": [
      "[1 0]\n",
      "[1 0]\n",
      "[1 0]\n",
      "[1 0]\n",
      "[1 0]\n",
      "[1 0]\n",
      "[1 0]\n",
      "[1 0]\n",
      "[1 0]\n",
      "[1 0]\n",
      "[1 0]\n",
      "[1 0]\n",
      "[1 0]\n",
      "[1 0]\n",
      "[1 0]\n",
      "[1 0]\n",
      "[1 0]\n",
      "[1 0]\n",
      "[1 0]\n",
      "[1 0]\n"
     ]
    }
   ],
   "source": [
    "for i in range(20):\n",
    "    print(remote_mab_feedback.predict(payload=X_rest[0:1], parameters={ \"reward\": 1, \"routing\": 1}))"
   ]
  },
  {
   "cell_type": "markdown",
   "metadata": {},
   "source": [
    "### We should now see the xgboost model receiving most requests"
   ]
  },
  {
   "cell_type": "code",
   "execution_count": 42,
   "metadata": {},
   "outputs": [
    {
     "name": "stdout",
     "output_type": "stream",
     "text": [
      "[0]\n",
      "[0.0865844]\n",
      "[0]\n",
      "[0.0865844]\n",
      "[0.0865844]\n",
      "[0.0865844]\n",
      "[0]\n",
      "[0.0865844]\n",
      "[0]\n",
      "[0.0865844]\n"
     ]
    }
   ],
   "source": [
    "for i in range(10):\n",
    "    print(remote_mab_router.predict(X_test2[0:1]))"
   ]
  },
  {
   "cell_type": "markdown",
   "metadata": {},
   "source": [
    "### Clean up Docker"
   ]
  },
  {
   "cell_type": "code",
   "execution_count": 43,
   "metadata": {},
   "outputs": [
    {
     "name": "stderr",
     "output_type": "stream",
     "text": [
      "INFO:tempo:Undeploying mab-router\n",
      "INFO:tempo:Undeploying test-iris-sklearn\n",
      "INFO:tempo:Undeploying test-iris-xgboost\n",
      "INFO:tempo:Undeploying mab-feedback\n"
     ]
    }
   ],
   "source": [
    "remote_mab_router.undeploy()\n",
    "remote_mab_feedback.undeploy()"
   ]
  },
  {
   "cell_type": "code",
   "execution_count": 44,
   "metadata": {},
   "outputs": [],
   "source": [
    "from tempo.docker.utils import undeploy_redis\n",
    "undeploy_redis()"
   ]
  },
  {
   "cell_type": "markdown",
   "metadata": {},
   "source": [
    "## Deploy to Kubernetes"
   ]
  },
  {
   "cell_type": "code",
   "execution_count": 54,
   "metadata": {},
   "outputs": [
    {
     "name": "stdout",
     "output_type": "stream",
     "text": [
      "secret/minio-secret configured\r\n",
      "serviceaccount/tempo-pipeline unchanged\r\n",
      "role.rbac.authorization.k8s.io/tempo-pipeline unchanged\r\n",
      "rolebinding.rbac.authorization.k8s.io/tempo-pipeline-rolebinding unchanged\r\n"
     ]
    }
   ],
   "source": [
    "!kubectl apply -f k8s/rbac -n default"
   ]
  },
  {
   "cell_type": "code",
   "execution_count": 47,
   "metadata": {},
   "outputs": [],
   "source": [
    "from tempo.examples.minio import create_minio_rclone\n",
    "import os\n",
    "create_minio_rclone(os.getcwd()+\"/rclone.conf\")"
   ]
  },
  {
   "cell_type": "code",
   "execution_count": 64,
   "metadata": {},
   "outputs": [
    {
     "name": "stderr",
     "output_type": "stream",
     "text": [
      "INFO:tempo:Uploading /home/alejandro/Programming/kubernetes/seldon/tempo/docs/examples/mab-thompson-sampling-tempo/artifacts/mab/router/ to s3://tempo/mab/route\n",
      "INFO:tempo:Uploading /home/alejandro/Programming/kubernetes/seldon/tempo/docs/examples/mab-thompson-sampling-tempo/artifacts/mab/feedback/ to s3://tempo/mab/feedback\n"
     ]
    }
   ],
   "source": [
    "from tempo.serve.loader import upload\n",
    "upload(mab_router)\n",
    "upload(mab_feedback)"
   ]
  },
  {
   "cell_type": "code",
   "execution_count": 49,
   "metadata": {},
   "outputs": [],
   "source": [
    "from tempo.k8s.utils import deploy_redis\n",
    "\n",
    "deploy_redis()"
   ]
  },
  {
   "cell_type": "code",
   "execution_count": 59,
   "metadata": {},
   "outputs": [
    {
     "name": "stdout",
     "output_type": "stream",
     "text": [
      "minio-secret\n"
     ]
    }
   ],
   "source": [
    "runtime_options.remote_options.authSecretName = \"minio-secret\"\n",
    "print(runtime_options.remote_options.authSecretName)"
   ]
  },
  {
   "cell_type": "code",
   "execution_count": 60,
   "metadata": {},
   "outputs": [],
   "source": [
    "from tempo import deploy_remote\n",
    "k8s_mab_router = deploy_remote(mab_router, options=runtime_options)\n",
    "k8s_mab_feedback = deploy_remote(mab_feedback, options=runtime_options)"
   ]
  },
  {
   "cell_type": "code",
   "execution_count": 65,
   "metadata": {},
   "outputs": [
    {
     "data": {
      "text/plain": [
       "array([0])"
      ]
     },
     "execution_count": 65,
     "metadata": {},
     "output_type": "execute_result"
    }
   ],
   "source": [
    "k8s_mab_router.predict(payload=X_rest[0:1])"
   ]
  },
  {
   "cell_type": "code",
   "execution_count": 66,
   "metadata": {},
   "outputs": [
    {
     "data": {
      "text/plain": [
       "array([0, 1])"
      ]
     },
     "execution_count": 66,
     "metadata": {},
     "output_type": "execute_result"
    }
   ],
   "source": [
    "k8s_mab_feedback.predict(payload=X_rest[0:1], parameters={\"reward\":0.0,\"routing\":0} )"
   ]
  },
  {
   "cell_type": "code",
   "execution_count": null,
   "metadata": {},
   "outputs": [],
   "source": [
    "k8s_mab_router.undeploy()\n",
    "k8s_mab_feedback.undeploy()"
   ]
  },
  {
   "cell_type": "code",
   "execution_count": null,
   "metadata": {},
   "outputs": [],
   "source": []
  }
 ],
 "metadata": {
  "kernelspec": {
   "display_name": "Python 3",
   "language": "python",
   "name": "python3"
  },
  "language_info": {
   "codemirror_mode": {
    "name": "ipython",
    "version": 3
   },
   "file_extension": ".py",
   "mimetype": "text/x-python",
   "name": "python",
   "nbconvert_exporter": "python",
   "pygments_lexer": "ipython3",
   "version": "3.7.10"
  }
 },
 "nbformat": 4,
 "nbformat_minor": 4
}
