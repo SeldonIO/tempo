{
 "cells": [
  {
   "cell_type": "markdown",
   "id": "8ef410d1",
   "metadata": {},
   "source": [
    "# TensorRT Example\n"
   ]
  },
  {
   "cell_type": "markdown",
   "id": "c86b5277",
   "metadata": {},
   "source": [
    "## Prerequisites\n",
    "\n",
    "This notebooks needs to be run in the `tempo-examples` conda environment defined below. Create from project root folder:\n",
    "\n",
    "```bash\n",
    "conda env create --name tempo-examples --file conda/tempo-examples.yaml\n",
    "```"
   ]
  },
  {
   "cell_type": "code",
   "execution_count": 1,
   "id": "56bdc325",
   "metadata": {},
   "outputs": [
    {
     "name": "stdout",
     "output_type": "stream",
     "text": [
      "(50000, 32, 32, 3) (50000, 1) (10000, 32, 32, 3) (10000, 1)\n"
     ]
    }
   ],
   "source": [
    "import os\n",
    "from tempo.utils import logger\n",
    "import logging\n",
    "import numpy as np\n",
    "from src.data import Cifar10\n",
    "\n",
    "logger.setLevel(logging.ERROR)\n",
    "logging.basicConfig(level=logging.ERROR)\n",
    "ARTIFACTS_FOLDER = os.getcwd()+\"/artifacts\"\n",
    "data = Cifar10()"
   ]
  },
  {
   "cell_type": "markdown",
   "id": "c396b609",
   "metadata": {},
   "source": [
    "## Create Tempo Artifacts"
   ]
  },
  {
   "cell_type": "code",
   "execution_count": 2,
   "id": "12d92a62",
   "metadata": {},
   "outputs": [],
   "source": [
    "from tempo.serve.metadata import ModelFramework\n",
    "from tempo.serve.model import Model\n",
    "\n",
    "trt_model = Model(\n",
    "    name=\"cifar10\",\n",
    "    platform=ModelFramework.TensorRT,\n",
    "    local_folder=f\"{ARTIFACTS_FOLDER}/tensorrt\",\n",
    "    uri=\"gs://seldon-models/triton/tf_cifar10\",\n",
    "    description=\"A TensorRT CIFAR10 Model\",\n",
    "    )"
   ]
  },
  {
   "cell_type": "markdown",
   "id": "ae7a21d5",
   "metadata": {},
   "source": [
    "## Test Locally on Docker"
   ]
  },
  {
   "cell_type": "code",
   "execution_count": 3,
   "id": "ae299105",
   "metadata": {},
   "outputs": [],
   "source": [
    "from tempo.serve.loader import download\n",
    "download(trt_model)"
   ]
  },
  {
   "cell_type": "code",
   "execution_count": 4,
   "id": "6b0ca263",
   "metadata": {},
   "outputs": [],
   "source": [
    "from tempo import deploy\n",
    "remote_model = deploy(trt_model)"
   ]
  },
  {
   "cell_type": "code",
   "execution_count": 5,
   "id": "bd609448",
   "metadata": {},
   "outputs": [
    {
     "data": {
      "image/png": "[encoded data removed]",
      "text/plain": [
       "<Figure size 432x288 with 1 Axes>"
      ]
     },
     "metadata": {
      "needs_background": "light"
     },
     "output_type": "display_data"
    },
    {
     "name": "stdout",
     "output_type": "stream",
     "text": [
      "b'{\"model_name\":\"cifar10\",\"model_version\":\"1\",\"outputs\":[{\"name\":\"fc10\",\"datatype\":\"FP32\",\"shape\":[1,10],\"data\":[3.922544955514695e-9,1.2045545984273876e-11,2.660111908525664e-9,0.9999926090240479,2.5221330579583425e-10,5.408602419265662e-7,0.000006759544248780003,4.7511907602659775e-12,6.908747351985767e-9,1.0727558598377929e-11]}]}'\n"
     ]
    },
    {
     "data": {
      "text/plain": [
       "array([[3.9225450e-09, 1.2045546e-11, 2.6601119e-09, 9.9999261e-01,\n",
       "        2.5221331e-10, 5.4086024e-07, 6.7595442e-06, 4.7511908e-12,\n",
       "        6.9087474e-09, 1.0727559e-11]], dtype=float32)"
      ]
     },
     "execution_count": 5,
     "metadata": {},
     "output_type": "execute_result"
    }
   ],
   "source": [
    "from src.utils import show_image\n",
    "show_image(data.X_test[0:1])\n",
    "remote_model.predict(input_1=data.X_test[0:1])"
   ]
  },
  {
   "cell_type": "code",
   "execution_count": 6,
   "id": "637093d2",
   "metadata": {},
   "outputs": [],
   "source": [
    "remote_model.undeploy()"
   ]
  },
  {
   "cell_type": "markdown",
   "id": "7a91f4d7",
   "metadata": {},
   "source": [
    "## Production Option \n",
    "\n",
    "### Prerequisites\n",
    " \n",
    "Create a Kind Kubernetes cluster with Minio and Seldon Core installed using Ansible as described [here](https://tempo.readthedocs.io/en/latest/overview/quickstart.html#kubernetes-cluster-with-seldon-core)."
   ]
  },
  {
   "cell_type": "code",
   "execution_count": 7,
   "id": "d8d2fb32",
   "metadata": {},
   "outputs": [
    {
     "name": "stdout",
     "output_type": "stream",
     "text": [
      "secret/minio-secret configured\r\n",
      "serviceaccount/tempo-pipeline unchanged\r\n",
      "role.rbac.authorization.k8s.io/tempo-pipeline unchanged\r\n",
      "rolebinding.rbac.authorization.k8s.io/tempo-pipeline-rolebinding unchanged\r\n"
     ]
    }
   ],
   "source": [
    "!kubectl apply -f k8s/rbac -n production"
   ]
  },
  {
   "cell_type": "code",
   "execution_count": 8,
   "id": "9fa80565",
   "metadata": {},
   "outputs": [],
   "source": [
    "from tempo.examples.minio import create_minio_rclone\n",
    "import os\n",
    "create_minio_rclone(os.getcwd()+\"/rclone.conf\")"
   ]
  },
  {
   "cell_type": "code",
   "execution_count": 9,
   "id": "39ff404c",
   "metadata": {},
   "outputs": [],
   "source": [
    "from tempo.serve.loader import upload\n",
    "upload(trt_model)"
   ]
  },
  {
   "cell_type": "code",
   "execution_count": 10,
   "id": "c56b5ca7",
   "metadata": {},
   "outputs": [],
   "source": [
    "from tempo.serve.metadata import KubernetesOptions\n",
    "from tempo.seldon.k8s import SeldonCoreOptions\n",
    "runtime_options = SeldonCoreOptions(\n",
    "        k8s_options=KubernetesOptions(\n",
    "            namespace=\"production\",\n",
    "            authSecretName=\"minio-secret\"\n",
    "        )\n",
    "    )"
   ]
  },
  {
   "cell_type": "code",
   "execution_count": 11,
   "id": "e5cd0834",
   "metadata": {},
   "outputs": [],
   "source": [
    "from tempo import deploy\n",
    "remote_model = deploy(trt_model, options=runtime_options)"
   ]
  },
  {
   "cell_type": "code",
   "execution_count": 12,
   "id": "5f633cd7",
   "metadata": {},
   "outputs": [
    {
     "data": {
      "image/png": "[encoded data removed]",
      "text/plain": [
       "<Figure size 432x288 with 1 Axes>"
      ]
     },
     "metadata": {
      "needs_background": "light"
     },
     "output_type": "display_data"
    },
    {
     "name": "stdout",
     "output_type": "stream",
     "text": [
      "b'{\"model_name\":\"cifar10\",\"model_version\":\"1\",\"outputs\":[{\"name\":\"fc10\",\"datatype\":\"FP32\",\"shape\":[1,10],\"data\":[3.922544955514695e-9,1.2045545984273876e-11,2.660111908525664e-9,0.9999926090240479,2.5221330579583425e-10,5.408602419265662e-7,0.000006759544248780003,4.7511907602659775e-12,6.908747351985767e-9,1.0727558598377929e-11]}]}'\n"
     ]
    },
    {
     "data": {
      "text/plain": [
       "array([[3.9225450e-09, 1.2045546e-11, 2.6601119e-09, 9.9999261e-01,\n",
       "        2.5221331e-10, 5.4086024e-07, 6.7595442e-06, 4.7511908e-12,\n",
       "        6.9087474e-09, 1.0727559e-11]], dtype=float32)"
      ]
     },
     "execution_count": 12,
     "metadata": {},
     "output_type": "execute_result"
    }
   ],
   "source": [
    "from src.utils import show_image\n",
    "show_image(data.X_test[0:1])\n",
    "remote_model.predict(input_1=data.X_test[0:1])"
   ]
  },
  {
   "cell_type": "markdown",
   "id": "5e2d18e0",
   "metadata": {},
   "source": [
    "### Illustrate use of Deployed Model by Remote Client"
   ]
  },
  {
   "cell_type": "code",
   "execution_count": 13,
   "id": "e4b36170",
   "metadata": {},
   "outputs": [
    {
     "name": "stdout",
     "output_type": "stream",
     "text": [
      "Name\tDescription\n",
      "cifar10\tAn TensorRT model\n"
     ]
    }
   ],
   "source": [
    "from tempo.seldon.k8s import SeldonKubernetesRuntime\n",
    "k8s_runtime = SeldonKubernetesRuntime(runtime_options)\n",
    "models = k8s_runtime.list_models(namespace=\"production\")\n",
    "print(\"Name\\tDescription\")\n",
    "for model in models:\n",
    "    details = model.get_tempo().model_spec.model_details\n",
    "    print(f\"{details.name}\\t{details.description}\")"
   ]
  },
  {
   "cell_type": "code",
   "execution_count": 14,
   "id": "21b46fdd",
   "metadata": {},
   "outputs": [
    {
     "data": {
      "image/png": "[encoded data removed]",
      "text/plain": [
       "<Figure size 432x288 with 1 Axes>"
      ]
     },
     "metadata": {
      "needs_background": "light"
     },
     "output_type": "display_data"
    },
    {
     "name": "stdout",
     "output_type": "stream",
     "text": [
      "b'{\"model_name\":\"cifar10\",\"model_version\":\"1\",\"outputs\":[{\"name\":\"fc10\",\"datatype\":\"FP32\",\"shape\":[1,10],\"data\":[3.922544955514695e-9,1.2045545984273876e-11,2.660111908525664e-9,0.9999926090240479,2.5221330579583425e-10,5.408602419265662e-7,0.000006759544248780003,4.7511907602659775e-12,6.908747351985767e-9,1.0727558598377929e-11]}]}'\n"
     ]
    },
    {
     "data": {
      "text/plain": [
       "array([[3.9225450e-09, 1.2045546e-11, 2.6601119e-09, 9.9999261e-01,\n",
       "        2.5221331e-10, 5.4086024e-07, 6.7595442e-06, 4.7511908e-12,\n",
       "        6.9087474e-09, 1.0727559e-11]], dtype=float32)"
      ]
     },
     "execution_count": 14,
     "metadata": {},
     "output_type": "execute_result"
    }
   ],
   "source": [
    "from src.utils import show_image\n",
    "show_image(data.X_test[0:1])\n",
    "models[0].predict(input_1=data.X_test[0:1])"
   ]
  },
  {
   "cell_type": "code",
   "execution_count": 15,
   "id": "f293a8bf",
   "metadata": {},
   "outputs": [],
   "source": [
    "remote_model.undeploy()"
   ]
  }
 ],
 "metadata": {
  "kernelspec": {
   "display_name": "Python 3",
   "language": "python",
   "name": "python3"
  },
  "language_info": {
   "codemirror_mode": {
    "name": "ipython",
    "version": 3
   },
   "file_extension": ".py",
   "mimetype": "text/x-python",
   "name": "python",
   "nbconvert_exporter": "python",
   "pygments_lexer": "ipython3",
   "version": "3.7.9"
  }
 },
 "nbformat": 4,
 "nbformat_minor": 5
}
